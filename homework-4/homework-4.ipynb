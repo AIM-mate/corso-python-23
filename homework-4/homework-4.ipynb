{
 "cells": [
  {
   "cell_type": "markdown",
   "metadata": {},
   "source": [
    "# Lezione 4 - Esercizio\n",
    "\n",
    "## Portafoglio Stonks\n",
    "\n",
    "L'Azienda degli Ingegneri Matematici ha licenziato il dipendente che ha composto il precedente portafoglio e ora è il tuo compito scegliere le azioni che faranno stonks! Il Responsabile dei finanziamenti Dott. Benaldo Palmiero ti concede 1.000.000€ di capitale da investire."
   ]
  },
  {
   "cell_type": "code",
   "execution_count": null,
   "metadata": {},
   "outputs": [],
   "source": [
    "import pandas as pd\n",
    "import numpy as np\n",
    "import matplotlib.pyplot as plt\n",
    "%matplotlib inline\n",
    "%config InlineBackend.figure_format='retina'"
   ]
  },
  {
   "cell_type": "markdown",
   "metadata": {},
   "source": [
    "### Domanda 1\n",
    "\n",
    "Importa il file `stonks.csv` come dataframe di pandas, esso contiene i prezzi giornalieri delle azioni di 16 società convertiti in euro dal 1 Gennaio 2016. Salvalo in un `DataFrame`.\n",
    "\n",
    "Dopo aver settato l'index sulla data, convertilo a formato datetime.\n",
    "\n",
    "Visualizzalo tramite i metodi `head`, `tail`, `describe`, `info`."
   ]
  },
  {
   "cell_type": "code",
   "execution_count": null,
   "metadata": {},
   "outputs": [],
   "source": [
    "# YOUR_CODE_HERE"
   ]
  },
  {
   "cell_type": "code",
   "execution_count": null,
   "metadata": {},
   "outputs": [],
   "source": [
    "# YOUR_CODE_HERE"
   ]
  },
  {
   "cell_type": "markdown",
   "metadata": {},
   "source": [
    "## Domanda 2\n",
    "\n",
    "Scrivi una funzione che consenta di visualizzare il grafico dell'andamento del prezzo di un'azione, possibilmente in un intervallo di tempo compreso tra due date."
   ]
  },
  {
   "cell_type": "code",
   "execution_count": null,
   "metadata": {},
   "outputs": [],
   "source": [
    "def plot_stock(df, stock_name, start_date, end_date):\n",
    "    # YOUR_CODE_HERE"
   ]
  },
  {
   "cell_type": "markdown",
   "metadata": {},
   "source": [
    "## Domanda 3\n",
    "\n",
    "Converti il dataframe in NumPy, calcola i ritorni giornalieri (prezzo_giorno_successivo/prezzo_giorno_precendete - 1) e visualizzali nello stesso plot."
   ]
  },
  {
   "cell_type": "code",
   "execution_count": null,
   "metadata": {},
   "outputs": [],
   "source": [
    "# YOUR_CODE_HERE"
   ]
  },
  {
   "cell_type": "markdown",
   "metadata": {},
   "source": [
    "## Domanda 4\n",
    "\n",
    "Rispetto ai ritorni, calcola la media, deviazione standard, le correlazioni. \n",
    "\n",
    "Quale azione ha ritorni medi maggiori? Qual è la più volatile (maggiore deviazione standard)?"
   ]
  },
  {
   "cell_type": "code",
   "execution_count": null,
   "metadata": {},
   "outputs": [],
   "source": [
    "# YOUR_CODE_HERE"
   ]
  },
  {
   "cell_type": "code",
   "execution_count": null,
   "metadata": {},
   "outputs": [],
   "source": [
    "# YOUR_CODE_HERE"
   ]
  },
  {
   "cell_type": "markdown",
   "metadata": {},
   "source": [
    "## Domanda 5\n",
    "\n",
    "Un portafoglio è un insieme di assets, ad esempio:\n",
    "\n",
    "* GOOGL 3 azioni\n",
    "* AMZN 4 azioni\n",
    "* FB 5 azioni\n",
    "\n",
    "Il valore del portafoglio è 3 * prezzo di GOOGL + 4 * prezzo di AMZN + 5 * prezzo di FB\n",
    "\n",
    "Costruisci il portafoglio che fa stonks nel 2020, ovvero che, se costruito il 01/01/2020 con 1000000€, ad oggi avrebbe il maggior valore, con le seguenti condizioni:\n",
    "\n",
    "* all'inizio in ogni società non puoi investire più di 200000€ (20%)\n",
    "* il numero di azioni acquistate di ogni società deve essere un intero non negativo\n",
    "* non ci sono tassi di interesse, dividendi, commissioni e simili\n",
    "* bisogna investire almeno il 99% della liquidità, la rimenente non verrà considerata"
   ]
  },
  {
   "cell_type": "code",
   "execution_count": null,
   "metadata": {},
   "outputs": [],
   "source": [
    "# Esempio di portafoglio:\n",
    "portfolio_test = pd.DataFrame(data={\n",
    "    'code': [\"GOOGL\",\"AMZN\",\"FB\"],\n",
    "    'num_stocks': [3,4,5],\n",
    "    'value_2020_01_01': [1193.6639,1646.7944,182.9187],\n",
    "    'value_2020_11_13': [1501.4839,2650.7724,234.636]\n",
    "    })\n",
    "\n",
    "print(portfolio_test)"
   ]
  },
  {
   "cell_type": "code",
   "execution_count": null,
   "metadata": {},
   "outputs": [],
   "source": [
    "# YOUR_CODE_HERE"
   ]
  },
  {
   "cell_type": "markdown",
   "metadata": {},
   "source": [
    "È già sopra il minimo?"
   ]
  },
  {
   "cell_type": "code",
   "execution_count": null,
   "metadata": {},
   "outputs": [],
   "source": [
    "# YOUR_CODE_HERE"
   ]
  }
 ],
 "metadata": {
  "kernelspec": {
   "display_name": "datascience",
   "language": "python",
   "name": "python3"
  },
  "language_info": {
   "codemirror_mode": {
    "name": "ipython",
    "version": 3
   },
   "file_extension": ".py",
   "mimetype": "text/x-python",
   "name": "python",
   "nbconvert_exporter": "python",
   "pygments_lexer": "ipython3",
   "version": "3.10.6"
  }
 },
 "nbformat": 4,
 "nbformat_minor": 2
}
