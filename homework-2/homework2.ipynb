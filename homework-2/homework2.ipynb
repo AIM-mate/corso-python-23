{
 "cells": [
  {
   "cell_type": "markdown",
   "metadata": {},
   "source": [
    "# Esercizio 1"
   ]
  },
  {
   "cell_type": "code",
   "execution_count": null,
   "metadata": {},
   "outputs": [],
   "source": []
  },
  {
   "cell_type": "markdown",
   "metadata": {},
   "source": [
    "# Esercizio 2"
   ]
  },
  {
   "cell_type": "markdown",
   "metadata": {},
   "source": [
    "Dato il file lettura e una lista di keywords, scegliere casualmente una parola dalle keywords, cercare in quali righe del file è presente tale parola e creare un nuovo file con lo stesso del file originale, sostituendo solo le righe in cui è presente quella parola"
   ]
  },
  {
   "cell_type": "markdown",
   "metadata": {},
   "source": [
    "N.B. per controllare che una stringa è presente all'interno di un'altra, basterà usare il comando in\n",
    "\n",
    "ad esempio:\n",
    "```python\n",
    "if word in linea:\n",
    "    ...\n",
    "```\n",
    "\n",
    "Inoltre, quando aggiungete la nuova stringa sostitutiva ricordatevi di mettere il \\n in fondo"
   ]
  },
  {
   "cell_type": "code",
   "execution_count": 1,
   "metadata": {},
   "outputs": [],
   "source": [
    "import random"
   ]
  },
  {
   "cell_type": "code",
   "execution_count": 3,
   "metadata": {},
   "outputs": [
    {
     "name": "stdout",
     "output_type": "stream",
     "text": [
      "spazio\n"
     ]
    }
   ],
   "source": [
    "key_words = ['gusto', 'stelle cadenti','cielo','spazio','notte','universo','meschinità',]\n",
    "word =  random.choice(key_words)\n",
    "print(word)\n",
    "nome_file = 'FileLettura.txt'\n",
    "indexes = []\n",
    "with open(nome_file, 'r') as file:\n",
    "    linee = file.readlines()\n",
    "    for j in range(len(linee)):\n",
    "        if word in linee[j]:\n",
    "            indexes.append(j)\n",
    "\n",
    "for i in indexes:\n",
    "    linee[i] = 'stringa a piacere \\n'\n",
    "\n",
    "new_file = 'Nuovofile.txt'\n",
    "with open(new_file, 'w') as file:\n",
    "    for linea in linee:\n",
    "        file.write(linea)"
   ]
  },
  {
   "cell_type": "code",
   "execution_count": null,
   "metadata": {},
   "outputs": [],
   "source": []
  }
 ],
 "metadata": {
  "kernelspec": {
   "display_name": "Python 3",
   "language": "python",
   "name": "python3"
  },
  "language_info": {
   "codemirror_mode": {
    "name": "ipython",
    "version": 3
   },
   "file_extension": ".py",
   "mimetype": "text/x-python",
   "name": "python",
   "nbconvert_exporter": "python",
   "pygments_lexer": "ipython3",
   "version": "3.11.2"
  }
 },
 "nbformat": 4,
 "nbformat_minor": 2
}
