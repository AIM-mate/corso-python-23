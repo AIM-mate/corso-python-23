{
 "cells": [
  {
   "cell_type": "markdown",
   "metadata": {},
   "source": [
    "# Esercizio 1"
   ]
  },
  {
   "cell_type": "markdown",
   "metadata": {},
   "source": [
    "7 amici vogliono andare al cinema a vedere il nuovo film della Cortellesi [\"C'è ancora domani\"](https://letterboxd.com/film/theres-still-tomorrow/) (molto bello e molto consigliato :) ), purtroppo il Plinius ha solo 5 posti liberi per la proiezione.\n",
    "\n",
    "I ragazzi devono decidere chi resta e chi torna a casa. Teo, Filippo e Davide vogliono assolutamente vedere il film e non hanno intenzione di rincasare.\n",
    "\n",
    "I 5 che restano hanno a dispozione esattamente 5 cibi tra cui scegliere e devono decidere chi mangia cosa.\n",
    "\n",
    "Inoltre, i nostri protagonisti devono ancora decidere se vogliono parlare o meno durante il film.\n",
    "\n",
    "Giustamente però chi ha voglia di parlare non può stare accanto a chi ne ha, a meno che chi non parla stia mangiando cibi rumorosi (PopCorn,Nachos).\n",
    "\n",
    "La prima richiesta è di creare una funzione ```check(food, talks) ``` , date due liste di lunghezza 5. La lista ```food``` rappresenta l'ordine in cui si 'posiziona' ciascun cibo. La lista ```talks``` invece rappresenta l'ordinamento delle persone in base alla loro voglia di parlare.\n",
    "\n",
    "Ad esempio, se ```food = ['PopCorn','CocaCola','HotDog','Nachos','Panino']``` e ```talks = [True, False, True, True, False]```, il primo ragazzo sta mangiando PopCorn e vuole parlare, il secondo beve e non vuole parlare ecc..\n",
    "\n",
    "La funzione ```check(food, talks)``` deve garantire che i posizionamenti sono fattibili, secondo la regola scritta sopra, rendendo ```True``` se rispetta le regola e ```False``` altrimenti (senza considerare in alcun modo i nomi).\n",
    "\n",
    "Nell'esempio di prima la funzione ```check(food, talks)``` avrebbe reso ```False```, visto che un ragazzo che non vuole parlare e non sta mangiando nulla di rumoroso sta accanto ad addirittura due persone che parlano.\n",
    "\n",
    "La seconda richiesta è di calcolare il numero di tutte le possibili combinazioni (sia di chi rimane che dell'ordine di cibo e chiaccheroni) che rispettano la volontà di chi vuole restare e che rispettano la regola implementata nella funzione ```check(food, talks)```.\n",
    " \n",
    "Inoltre si chiede di calcolare la percentuale delle combinazioni fattibili rispetto a tutte le combinazioni senza considerare i vincoli. (il secondo numero si può calcolare senza aver bisogno di alcun ciclo :) )"
   ]
  },
  {
   "cell_type": "code",
   "execution_count": 1,
   "metadata": {},
   "outputs": [],
   "source": [
    "# import delle librerie necessarie\n",
    "import itertools"
   ]
  },
  {
   "cell_type": "code",
   "execution_count": 2,
   "metadata": {},
   "outputs": [],
   "source": [
    "def check(food,talks):\n",
    "    N = len(talks)\n",
    "    for i in range(N):  # sono entrambe lunghe 5\n",
    "        if talks[i]:\n",
    "            if i == 0:\n",
    "                if talks[i+1]==False and food[i+1]!='PopCorn' and food[i+1]!='Nachos':\n",
    "                    return False\n",
    "            if i == N-1:\n",
    "                if talks[i-1]==False and food[i-1]!='PopCorn' and food[i-1]!='Nachos':\n",
    "                    return False\n",
    "            if i > 0 and i < N-1:\n",
    "                if (talks[i-1]==False and food[i-1]!='PopCorn' and food[i-1]!='Nachos') or (talks[i+1]==False and food[i+1]!='PopCorn' and food[i+1]!='Nachos'):\n",
    "                    return False\n",
    "            \n",
    "    return True"
   ]
  },
  {
   "cell_type": "code",
   "execution_count": 22,
   "metadata": {},
   "outputs": [
    {
     "name": "stdout",
     "output_type": "stream",
     "text": [
      "5760\n",
      "7.142857142857143 %\n"
     ]
    }
   ],
   "source": [
    "name_list = ['Jacopo','Teo','Gabriele','Filippo','Marco','Davide','Tomaso']\n",
    "foods = ['PopCorn','CocaCola','HotDog','Nachos','Panino']\n",
    "talking_during_film = [True,False]\n",
    "num_posti = 5\n",
    "tot=21*120*32\n",
    "res = []\n",
    "for names in itertools.combinations(name_list,num_posti):\n",
    "    for food in itertools.permutations(foods,num_posti):\n",
    "        for talks in itertools.product(talking_during_film, repeat = num_posti):\n",
    "            if 'Teo' in names and 'Filippo' in names and 'Davide' in names:\n",
    "                if check(food,talks):\n",
    "                    res.append((names,food,talks))\n",
    "print(len(res))\n",
    "print(len(res)*100/tot,'%')"
   ]
  },
  {
   "cell_type": "markdown",
   "metadata": {},
   "source": [
    "# Esercizio 2"
   ]
  },
  {
   "cell_type": "markdown",
   "metadata": {},
   "source": [
    "Dato il file 'FileLettura.txt' e una lista di keywords, scegliere randomicamente una parola dalle keywords, cercare in quali righe del file è presente tale parola e creare un nuovo file con lo stesso testo del file originale, sostituendo solo le righe in cui è presente quella parola.\n",
    "\n",
    "La scelta della stringa sostitutiva è lasciata la lettore (ma ricordatevi di mettere il ```\\n``` in fondo)"
   ]
  },
  {
   "cell_type": "markdown",
   "metadata": {},
   "source": [
    "N.B. per controllare se una stringa è presente all'interno di un'altra, basterà usare il comando ```in ```\n",
    "\n",
    "ad esempio:\n",
    "```python\n",
    "if word in linea:\n",
    "    ...\n",
    "```\n",
    "\n",
    "\n",
    "P.S: si consiglia di usare il context manager ```with``` per la gestione dei file"
   ]
  },
  {
   "cell_type": "code",
   "execution_count": 6,
   "metadata": {},
   "outputs": [],
   "source": [
    "# import delle librerie necessarie\n",
    "import random"
   ]
  },
  {
   "cell_type": "code",
   "execution_count": 20,
   "metadata": {},
   "outputs": [
    {
     "name": "stdout",
     "output_type": "stream",
     "text": [
      "stelle cadenti\n"
     ]
    }
   ],
   "source": [
    "key_words = ['gusto', 'stelle cadenti','cielo','spazio','notte','universo','individualismo']\n",
    "word =  random.choice(key_words)\n",
    "print(word)\n",
    "nome_file = 'FileLettura.txt'\n",
    "indexes = []\n",
    "with open(nome_file, 'r') as file:\n",
    "    linee = file.readlines()\n",
    "    for j in range(len(linee)):\n",
    "        if word in linee[j]:\n",
    "            indexes.append(j)\n",
    "\n",
    "for i in indexes:\n",
    "    linee[i] = 'REEMPLAZO \\n'\n",
    "\n",
    "new_file = 'Nuovofile.txt'\n",
    "with open(new_file, 'w') as file:\n",
    "    for linea in linee:\n",
    "        file.write(linea)"
   ]
  },
  {
   "cell_type": "code",
   "execution_count": null,
   "metadata": {},
   "outputs": [],
   "source": []
  }
 ],
 "metadata": {
  "kernelspec": {
   "display_name": "Python 3",
   "language": "python",
   "name": "python3"
  },
  "language_info": {
   "codemirror_mode": {
    "name": "ipython",
    "version": 3
   },
   "file_extension": ".py",
   "mimetype": "text/x-python",
   "name": "python",
   "nbconvert_exporter": "python",
   "pygments_lexer": "ipython3",
   "version": "3.11.2"
  }
 },
 "nbformat": 4,
 "nbformat_minor": 2
}
