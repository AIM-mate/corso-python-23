{
 "cells": [
  {
   "cell_type": "markdown",
   "metadata": {},
   "source": [
    "# Esercizio 1"
   ]
  },
  {
   "cell_type": "markdown",
   "metadata": {},
   "source": [
    "7 amici vogliono andare al cinema a vedere il nuovo film della Cortellesi [\"C'è ancora domani\"](https://letterboxd.com/film/theres-still-tomorrow/) (molto bello e molto consigliato :) ), purtroppo il Plinius ha solo 5 posti liberi per la proiezione.\n",
    "\n",
    "I ragazzi devono decidere chi resta e chi torna a casa. Teo, Filippo e Davide vogliono assolutamente vedere il film e non hanno intenzione di rincasare.\n",
    "\n",
    "I 5 che restano hanno a dispozione esattamente 5 cibi tra cui scegliere e devono decidere chi mangia cosa.\n",
    "\n",
    "Inoltre, i nostri protagonisti devono ancora decidere se vogliono parlare o meno durante il film.\n",
    "\n",
    "Giustamente però chi ha voglia di parlare non può stare accanto a chi ne ha, a meno che chi non parla stia mangiando cibi rumorosi (PopCorn,Nachos).\n",
    "\n",
    "La prima richiesta è di creare una funzione ```check(food, talks) ``` , date due liste di lunghezza 5. La lista ```food``` rappresenta l'ordine in cui si 'posiziona' ciascun cibo. La lista ```talks``` invece rappresenta l'ordinamento delle persone in base alla loro voglia di parlare.\n",
    "\n",
    "Ad esempio, se ```food = ['PopCorn','CocaCola','HotDog','Nachos','Panino']``` e ```talks = [True, False, True, True, False]```, il primo ragazzo sta mangiando PopCorn e vuole parlare, il secondo beve e non vuole parlare ecc..\n",
    "\n",
    "La funzione ```check(food, talks)``` deve garantire che i posizionamenti sono fattibili, secondo la regola scritta sopra, rendendo ```True``` se rispetta le regola e ```False``` altrimenti (senza considerare in alcun modo i nomi).\n",
    "\n",
    "Nell'esempio di prima la funzione ```check(food, talks)``` avrebbe reso ```False```, visto che un ragazzo che non vuole parlare e non sta mangiando nulla di rumoroso sta accanto ad addirittura due persone che parlano.\n",
    "\n",
    "La seconda richiesta è di calcolare il numero di tutte le possibili combinazioni (sia di chi rimane che dell'ordine di cibo e chiaccheroni) che rispettano la volontà di chi vuole restare e che rispettano la regola implementata nella funzione ```check(food, talks)```.\n",
    " \n",
    "Inoltre si chiede di calcolare la percentuale delle combinazioni fattibili rispetto a tutte le combinazioni senza considerare i vincoli. (il secondo numero si può calcolare senza aver bisogno di alcun ciclo :) )"
   ]
  },
  {
   "cell_type": "code",
   "execution_count": 1,
   "metadata": {},
   "outputs": [],
   "source": [
    "# import delle librerie necessarie\n"
   ]
  },
  {
   "cell_type": "code",
   "execution_count": 2,
   "metadata": {},
   "outputs": [],
   "source": [
    "def check(food,talks):\n",
    "    "
   ]
  },
  {
   "cell_type": "code",
   "execution_count": 22,
   "metadata": {},
   "outputs": [
    {
     "name": "stdout",
     "output_type": "stream",
     "text": [
      "5760\n",
      "7.142857142857143 %\n"
     ]
    }
   ],
   "source": [
    "name_list = ['Jacopo','Teo','Gabriele','Filippo','Marco','Davide','Tomaso']\n",
    "foods = ['PopCorn','CocaCola','HotDog','Nachos','Panino']\n",
    "talking_during_film = [True,False]\n",
    "num_posti = 5\n",
    "\n",
    "tot=\n",
    "res = []\n",
    "\n",
    "\n",
    "print(len(res))\n",
    "print(len(res)*100/tot,'%')"
   ]
  },
  {
   "cell_type": "markdown",
   "metadata": {},
   "source": [
    "# Esercizio 2"
   ]
  },
  {
   "cell_type": "markdown",
   "metadata": {},
   "source": [
    "Dato il file 'FileLettura.txt' e una lista di keywords, scegliere randomicamente una parola dalle keywords, cercare in quali righe del file è presente tale parola e creare un nuovo file con lo stesso testo del file originale, sostituendo solo le righe in cui è presente quella parola.\n",
    "\n",
    "La scelta della stringa sostitutiva è lasciata la lettore (ma ricordatevi di mettere il ```\\n``` in fondo)"
   ]
  },
  {
   "cell_type": "markdown",
   "metadata": {},
   "source": [
    "N.B. per controllare se una stringa è presente all'interno di un'altra, basterà usare il comando ```in ```\n",
    "\n",
    "ad esempio:\n",
    "```python\n",
    "if word in linea:\n",
    "    ...\n",
    "```\n",
    "\n",
    "\n",
    "P.S: si consiglia di usare il context manager ```with``` per la gestione dei file"
   ]
  },
  {
   "cell_type": "code",
   "execution_count": 6,
   "metadata": {},
   "outputs": [],
   "source": [
    "# import delle librerie necessarie\n"
   ]
  },
  {
   "cell_type": "code",
   "execution_count": 20,
   "metadata": {},
   "outputs": [
    {
     "name": "stdout",
     "output_type": "stream",
     "text": [
      "stelle cadenti\n"
     ]
    }
   ],
   "source": [
    "key_words = ['gusto', 'stelle cadenti','cielo','spazio','notte','universo','individualismo']\n",
    "\n",
    "nome_file = 'FileLettura.txt'\n",
    "\n",
    "\n",
    "new_file = 'Nuovofile.txt'\n"
   ]
  }
 ],
 "metadata": {
  "kernelspec": {
   "display_name": "Python 3",
   "language": "python",
   "name": "python3"
  },
  "language_info": {
   "codemirror_mode": {
    "name": "ipython",
    "version": 3
   },
   "file_extension": ".py",
   "mimetype": "text/x-python",
   "name": "python",
   "nbconvert_exporter": "python",
   "pygments_lexer": "ipython3",
   "version": "3.11.2"
  }
 },
 "nbformat": 4,
 "nbformat_minor": 2
}
