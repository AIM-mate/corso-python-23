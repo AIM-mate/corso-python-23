{
 "cells": [
  {
   "cell_type": "markdown",
   "metadata": {},
   "source": [
    "# Lezione 2"
   ]
  },
  {
   "cell_type": "markdown",
   "metadata": {},
   "source": [
    "# Funzioni in Python"
   ]
  },
  {
   "cell_type": "markdown",
   "metadata": {},
   "source": [
    "Per dichiarare una funzione è necessario utilizzare la parola chiave *def* seguita dal nome della funzione, dai paramentri in input all'interno di parentesi tonde e infine dai i due punti (:). La funzione al proprio interno può contenere più istruzioni e/o più *return*. In Python non è necessario dichiarare il tipo della funzione. Come già visto nella lezione 1, l'identazione è importante!!!"
   ]
  },
  {
   "cell_type": "code",
   "execution_count": null,
   "metadata": {},
   "outputs": [],
   "source": [
    "# Definizione di Funzione\n",
    "def numero_pari(n):\n",
    "    if n%2 == 0:\n",
    "        return True\n",
    "    else:\n",
    "        return False \n"
   ]
  },
  {
   "cell_type": "markdown",
   "metadata": {},
   "source": [
    "Per chiamare una funzione basta semplicente:"
   ]
  },
  {
   "cell_type": "code",
   "execution_count": null,
   "metadata": {},
   "outputs": [
    {
     "data": {
      "text/plain": [
       "False"
      ]
     },
     "metadata": {},
     "output_type": "display_data"
    }
   ],
   "source": [
    "numero_pari(5)\n"
   ]
  },
  {
   "cell_type": "markdown",
   "metadata": {},
   "source": [
    "possiamo anche aggiungere una descrizione alla funzione con la seguente sintassi:"
   ]
  },
  {
   "cell_type": "code",
   "execution_count": 2,
   "metadata": {},
   "outputs": [
    {
     "name": "stdout",
     "output_type": "stream",
     "text": [
      "Help on function func1 in module __main__:\n",
      "\n",
      "func1(s)\n",
      "    Print di una stringa e print della sua lunghezza\n",
      "\n"
     ]
    }
   ],
   "source": [
    "def func1(s):\n",
    "    \"\"\"\n",
    "    Print di una stringa e print della sua lunghezza  \n",
    "    \"\"\"\n",
    "    print(s + \" ha \" + str(len(s)) + \" caratteri\")\n",
    "    \n",
    "help(func1)\n"
   ]
  },
  {
   "cell_type": "code",
   "execution_count": 3,
   "metadata": {},
   "outputs": [
    {
     "name": "stdout",
     "output_type": "stream",
     "text": [
      "Ziopera ha 7 caratteri\n"
     ]
    }
   ],
   "source": [
    "func1('Ziopera')\n"
   ]
  },
  {
   "cell_type": "markdown",
   "metadata": {},
   "source": [
    "### Ricorsione"
   ]
  },
  {
   "cell_type": "markdown",
   "metadata": {},
   "source": [
    "EX: Nella lezione 1 avete visto l'implementazione del calcolo del fattoriale utilizzando i cicli, proviamo a farlo in modo ricorsivo"
   ]
  },
  {
   "cell_type": "code",
   "execution_count": 7,
   "metadata": {},
   "outputs": [
    {
     "name": "stdout",
     "output_type": "stream",
     "text": [
      "3628800\n"
     ]
    }
   ],
   "source": [
    "def recursive_factorial(n):\n",
    "    if n == 0:\n",
    "        return 1\n",
    "    else:\n",
    "        return n * recursive_factorial(n - 1)\n",
    "\n",
    "result = recursive_factorial(10)\n",
    "print(result)\n"
   ]
  },
  {
   "cell_type": "markdown",
   "metadata": {},
   "source": [
    "Per completezza:"
   ]
  },
  {
   "cell_type": "code",
   "execution_count": 2,
   "metadata": {},
   "outputs": [
    {
     "data": {
      "text/plain": [
       "3628800"
      ]
     },
     "execution_count": 2,
     "metadata": {},
     "output_type": "execute_result"
    }
   ],
   "source": [
    "import math\n",
    "math.factorial(10)\n"
   ]
  },
  {
   "cell_type": "markdown",
   "metadata": {},
   "source": [
    "## Scope delle variabili"
   ]
  },
  {
   "cell_type": "markdown",
   "metadata": {},
   "source": [
    "Introduciamo ora il concetto di variabile **locale** e variabile **globale**"
   ]
  },
  {
   "cell_type": "code",
   "execution_count": 3,
   "metadata": {},
   "outputs": [
    {
     "name": "stdout",
     "output_type": "stream",
     "text": [
      "11\n"
     ]
    },
    {
     "ename": "NameError",
     "evalue": "name 'variabile_locale' is not defined",
     "output_type": "error",
     "traceback": [
      "\u001b[1;31m---------------------------------------------------------------------------\u001b[0m",
      "\u001b[1;31mNameError\u001b[0m                                 Traceback (most recent call last)",
      "\u001b[1;32mc:\\Users\\User\\Desktop\\Lezione 2\\Lecture2.ipynb Cell 17\u001b[0m line \u001b[0;36m6\n\u001b[0;32m      <a href='vscode-notebook-cell:/c%3A/Users/User/Desktop/Lezione%202/Lecture2.ipynb#X26sZmlsZQ%3D%3D?line=3'>4</a>\u001b[0m     \u001b[39mprint\u001b[39m(variabile_locale)\n\u001b[0;32m      <a href='vscode-notebook-cell:/c%3A/Users/User/Desktop/Lezione%202/Lecture2.ipynb#X26sZmlsZQ%3D%3D?line=4'>5</a>\u001b[0m funzione()\n\u001b[1;32m----> <a href='vscode-notebook-cell:/c%3A/Users/User/Desktop/Lezione%202/Lecture2.ipynb#X26sZmlsZQ%3D%3D?line=5'>6</a>\u001b[0m \u001b[39mprint\u001b[39m(variabile_locale)\n",
      "\u001b[1;31mNameError\u001b[0m: name 'variabile_locale' is not defined"
     ]
    }
   ],
   "source": [
    "def funzione():\n",
    "    variabile_locale = 10\n",
    "    variabile_locale += 1\n",
    "    print(variabile_locale)\n",
    "funzione()\n",
    "print(variabile_locale)\n"
   ]
  },
  {
   "cell_type": "markdown",
   "metadata": {},
   "source": [
    "Come possiamo notare una variabile locale viene \"creata\" e \"distrutta\" all'interno del corpo della funzione, provandovi ad accedere fuori dal corpo della funzione otteniamo un errore"
   ]
  },
  {
   "cell_type": "code",
   "execution_count": 5,
   "metadata": {},
   "outputs": [
    {
     "name": "stdout",
     "output_type": "stream",
     "text": [
      "{9: 10, 10: 11}\n"
     ]
    },
    {
     "ename": "UnboundLocalError",
     "evalue": "cannot access local variable 'variabile_globale' where it is not associated with a value",
     "output_type": "error",
     "traceback": [
      "\u001b[1;31m---------------------------------------------------------------------------\u001b[0m",
      "\u001b[1;31mUnboundLocalError\u001b[0m                         Traceback (most recent call last)",
      "\u001b[1;32mc:\\Users\\User\\Desktop\\Corso_Python_AIM\\corso-python-23\\lezione-2\\Lezione2.ipynb Cell 19\u001b[0m line \u001b[0;36m7\n\u001b[0;32m      <a href='vscode-notebook-cell:/c%3A/Users/User/Desktop/Corso_Python_AIM/corso-python-23/lezione-2/Lezione2.ipynb#X24sZmlsZQ%3D%3D?line=4'>5</a>\u001b[0m     variabile_globale \u001b[39m+\u001b[39m\u001b[39m=\u001b[39m \u001b[39m1\u001b[39m\n\u001b[0;32m      <a href='vscode-notebook-cell:/c%3A/Users/User/Desktop/Corso_Python_AIM/corso-python-23/lezione-2/Lezione2.ipynb#X24sZmlsZQ%3D%3D?line=5'>6</a>\u001b[0m     \u001b[39mprint\u001b[39m(variabile_globale)\n\u001b[1;32m----> <a href='vscode-notebook-cell:/c%3A/Users/User/Desktop/Corso_Python_AIM/corso-python-23/lezione-2/Lezione2.ipynb#X24sZmlsZQ%3D%3D?line=6'>7</a>\u001b[0m funzione()\n",
      "\u001b[1;32mc:\\Users\\User\\Desktop\\Corso_Python_AIM\\corso-python-23\\lezione-2\\Lezione2.ipynb Cell 19\u001b[0m line \u001b[0;36m5\n\u001b[0;32m      <a href='vscode-notebook-cell:/c%3A/Users/User/Desktop/Corso_Python_AIM/corso-python-23/lezione-2/Lezione2.ipynb#X24sZmlsZQ%3D%3D?line=2'>3</a>\u001b[0m \u001b[39mdef\u001b[39;00m \u001b[39mfunzione\u001b[39m():\n\u001b[0;32m      <a href='vscode-notebook-cell:/c%3A/Users/User/Desktop/Corso_Python_AIM/corso-python-23/lezione-2/Lezione2.ipynb#X24sZmlsZQ%3D%3D?line=3'>4</a>\u001b[0m     \u001b[39mprint\u001b[39m(dict_s)\n\u001b[1;32m----> <a href='vscode-notebook-cell:/c%3A/Users/User/Desktop/Corso_Python_AIM/corso-python-23/lezione-2/Lezione2.ipynb#X24sZmlsZQ%3D%3D?line=4'>5</a>\u001b[0m     variabile_globale \u001b[39m+\u001b[39m\u001b[39m=\u001b[39m \u001b[39m1\u001b[39m\n\u001b[0;32m      <a href='vscode-notebook-cell:/c%3A/Users/User/Desktop/Corso_Python_AIM/corso-python-23/lezione-2/Lezione2.ipynb#X24sZmlsZQ%3D%3D?line=5'>6</a>\u001b[0m     \u001b[39mprint\u001b[39m(variabile_globale)\n",
      "\u001b[1;31mUnboundLocalError\u001b[0m: cannot access local variable 'variabile_globale' where it is not associated with a value"
     ]
    }
   ],
   "source": [
    "variabile_globale  = 10\n",
    "def funzione():\n",
    "    variabile_globale += 1\n",
    "    print(variabile_globale)\n",
    "funzione()\n"
   ]
  },
  {
   "cell_type": "markdown",
   "metadata": {},
   "source": [
    "Mentre se abbiamo definito una variabile globale non ci risulta poi possibile modificarla all'interno del corpo della funzione. Per modificarla all'interno della funzione possiamo servirci del comando **global**"
   ]
  },
  {
   "cell_type": "code",
   "execution_count": 5,
   "metadata": {},
   "outputs": [
    {
     "name": "stdout",
     "output_type": "stream",
     "text": [
      "11\n"
     ]
    }
   ],
   "source": [
    "variabile_globale  = 10\n",
    "\n",
    "def funzione():\n",
    "    global variabile_globale\n",
    "    variabile_globale += 1\n",
    "    print(variabile_globale)\n",
    "funzione()\n"
   ]
  },
  {
   "cell_type": "markdown",
   "metadata": {},
   "source": [
    "## Funzioni anonime"
   ]
  },
  {
   "cell_type": "markdown",
   "metadata": {},
   "source": [
    "Utilizzate per funzioni piccole. Possono avere come input qualsiasi parametro, mentre in output può ritornare solamente un valore. In questo caso utilizziamo la parola chiave **lambda** e la seguente sintassi"
   ]
  },
  {
   "cell_type": "code",
   "execution_count": null,
   "metadata": {},
   "outputs": [
    {
     "name": "stdout",
     "output_type": "stream",
     "text": [
      "12.56\n",
      "7\n"
     ]
    }
   ],
   "source": [
    "#area cerchio (1 param in input)\n",
    "area_cerchio = lambda x: x * x* 3.14\n",
    "print(area_cerchio(2))\n",
    "\n",
    "#somma (2 param in input)\n",
    "somma = lambda x,y: x + y\n",
    "print(somma(3,4))\n"
   ]
  },
  {
   "cell_type": "markdown",
   "metadata": {},
   "source": [
    "## Esercizio sulle funzioni"
   ]
  },
  {
   "cell_type": "markdown",
   "metadata": {},
   "source": [
    "Scrivere una funzione che riceve in input una lista di numeri e ritorna la sua mediana"
   ]
  },
  {
   "cell_type": "code",
   "execution_count": null,
   "metadata": {},
   "outputs": [],
   "source": [
    "lst = [7, 8, 9, 5, 1, 2, 2, 3, 4, 5]\n",
    "\n",
    "\n",
    "def median(lst):\n",
    "    half = len(lst) // 2\n",
    "    lst.sort()\n",
    "    if not len(lst) % 2:\n",
    "        return (lst[half - 1] + lst[half]) / 2.0\n",
    "    return lst[half]\n",
    "\n",
    "\n",
    "print(median(lst))"
   ]
  },
  {
   "cell_type": "markdown",
   "metadata": {},
   "source": [
    "# Utilizzo di Librerie"
   ]
  },
  {
   "cell_type": "markdown",
   "metadata": {},
   "source": [
    "Python fornisce molti moduli nativi che ne estendono le capacità. Esploreremo i moduli \"os\", \"random\" e \"itertools\"."
   ]
  },
  {
   "cell_type": "markdown",
   "metadata": {},
   "source": [
    "## Libreria Os"
   ]
  },
  {
   "cell_type": "markdown",
   "metadata": {},
   "source": [
    "Il modulo \"os\" è un potente strumento per lavorare con il sistema operativo. Fornisce funzioni per manipolare directory, file e operazioni relative al sistema."
   ]
  },
  {
   "cell_type": "code",
   "execution_count": 1,
   "metadata": {},
   "outputs": [],
   "source": [
    "import os\n"
   ]
  },
  {
   "cell_type": "markdown",
   "metadata": {},
   "source": [
    "La funzione `os.getcwd()` permette di determinare la directory di lavoro corrente del tuo script Python."
   ]
  },
  {
   "cell_type": "code",
   "execution_count": 2,
   "metadata": {},
   "outputs": [
    {
     "name": "stdout",
     "output_type": "stream",
     "text": [
      "Current working directory: c:\\Users\\User\\Desktop\\Lezione2\n"
     ]
    }
   ],
   "source": [
    "current_directory = os.getcwd()\n",
    "print(f\"Current working directory: {current_directory}\")\n"
   ]
  },
  {
   "cell_type": "markdown",
   "metadata": {},
   "source": [
    "La funzione `os.listdir()` consente di elencare i file in una directory."
   ]
  },
  {
   "cell_type": "code",
   "execution_count": 3,
   "metadata": {},
   "outputs": [
    {
     "name": "stdout",
     "output_type": "stream",
     "text": [
      "['files', 'homeworks', 'Lecture2.ipynb', 'Lezione 2.ipynb', 'Lezione2.ipynb', 'Python Lecture 2.ipynb']\n"
     ]
    }
   ],
   "source": [
    "files = os.listdir(current_directory)\n",
    "print(files)\n"
   ]
  },
  {
   "cell_type": "markdown",
   "metadata": {},
   "source": [
    "Puoi creare una nuova directory usando la funzione `os.makedirs()`. Assicurati che la directory non esista già, altrimenti genererà un errore."
   ]
  },
  {
   "cell_type": "code",
   "execution_count": 4,
   "metadata": {},
   "outputs": [
    {
     "ename": "FileExistsError",
     "evalue": "[WinError 183] Impossibile creare un file, se il file esiste già: 'c:\\\\Users\\\\User\\\\Desktop\\\\Lezione2/files'",
     "output_type": "error",
     "traceback": [
      "\u001b[1;31m---------------------------------------------------------------------------\u001b[0m",
      "\u001b[1;31mFileExistsError\u001b[0m                           Traceback (most recent call last)",
      "\u001b[1;32mc:\\Users\\User\\Desktop\\Lezione2\\Lecture2.ipynb Cell 37\u001b[0m line \u001b[0;36m2\n\u001b[0;32m      <a href='vscode-notebook-cell:/c%3A/Users/User/Desktop/Lezione2/Lecture2.ipynb#X51sZmlsZQ%3D%3D?line=0'>1</a>\u001b[0m new_directory \u001b[39m=\u001b[39m current_directory \u001b[39m+\u001b[39m \u001b[39m'\u001b[39m\u001b[39m/files\u001b[39m\u001b[39m'\u001b[39m\n\u001b[1;32m----> <a href='vscode-notebook-cell:/c%3A/Users/User/Desktop/Lezione2/Lecture2.ipynb#X51sZmlsZQ%3D%3D?line=1'>2</a>\u001b[0m os\u001b[39m.\u001b[39;49mmakedirs(new_directory)\n\u001b[0;32m      <a href='vscode-notebook-cell:/c%3A/Users/User/Desktop/Lezione2/Lecture2.ipynb#X51sZmlsZQ%3D%3D?line=2'>3</a>\u001b[0m \u001b[39mprint\u001b[39m(\u001b[39mf\u001b[39m\u001b[39m\"\u001b[39m\u001b[39mCreated a new directory: \u001b[39m\u001b[39m{\u001b[39;00mnew_directory\u001b[39m}\u001b[39;00m\u001b[39m\"\u001b[39m)\n",
      "File \u001b[1;32m<frozen os>:225\u001b[0m, in \u001b[0;36mmakedirs\u001b[1;34m(name, mode, exist_ok)\u001b[0m\n",
      "\u001b[1;31mFileExistsError\u001b[0m: [WinError 183] Impossibile creare un file, se il file esiste già: 'c:\\\\Users\\\\User\\\\Desktop\\\\Lezione2/files'"
     ]
    }
   ],
   "source": [
    "new_directory = current_directory + '/files'\n",
    "os.makedirs(new_directory)\n",
    "print(f\"Created a new directory: {new_directory}\")\n"
   ]
  },
  {
   "cell_type": "markdown",
   "metadata": {},
   "source": [
    "A meno che:"
   ]
  },
  {
   "cell_type": "code",
   "execution_count": 5,
   "metadata": {},
   "outputs": [
    {
     "name": "stdout",
     "output_type": "stream",
     "text": [
      "Created a new directory: c:\\Users\\User\\Desktop\\Lezione2/files\n"
     ]
    }
   ],
   "source": [
    "new_directory = current_directory + '/files'\n",
    "os.makedirs(new_directory, exist_ok = True)\n",
    "print(f\"Created a new directory: {new_directory}\")\n"
   ]
  },
  {
   "cell_type": "markdown",
   "metadata": {},
   "source": [
    "La funzione os.path.exists() permette di verificare se esiste un file o una directory in un determinato percorso."
   ]
  },
  {
   "cell_type": "code",
   "execution_count": 7,
   "metadata": {},
   "outputs": [
    {
     "name": "stdout",
     "output_type": "stream",
     "text": [
      "c:\\Users\\User\\Desktop\\Lezione2/Lecture3.ipynb does not exist.\n"
     ]
    }
   ],
   "source": [
    "#path_to_check = current_directory + '/Lecture2.ipynb'\n",
    "path_to_check = current_directory + '/Lecture3.ipynb'\n",
    "\n",
    "if os.path.exists(path_to_check):\n",
    "    print(f\"{path_to_check} exists.\")\n",
    "else:\n",
    "    print(f\"{path_to_check} does not exist.\")\n"
   ]
  },
  {
   "cell_type": "markdown",
   "metadata": {},
   "source": [
    "## Libreria Random"
   ]
  },
  {
   "cell_type": "markdown",
   "metadata": {},
   "source": [
    "La libreria Random contiene funzioni che permettono di generare numeri pseudo-casuali da varie distribuzioni\n"
   ]
  },
  {
   "cell_type": "code",
   "execution_count": null,
   "metadata": {},
   "outputs": [
    {
     "name": "stdout",
     "output_type": "stream",
     "text": [
      "0.5688853979870656\n"
     ]
    }
   ],
   "source": [
    "import random\n",
    "# Generazione di un numero decimale nell'intervallo [0.0,1.0) da una distribuzione uniforme\n",
    "print(random.random())\n"
   ]
  },
  {
   "cell_type": "code",
   "execution_count": null,
   "metadata": {},
   "outputs": [
    {
     "name": "stdout",
     "output_type": "stream",
     "text": [
      "63\n",
      "27\n"
     ]
    }
   ],
   "source": [
    "# Due metodi per l'estrazione casuale di un intero in un intervallo arbitrario (nell'esempio, (2,100))\n",
    "print(random.randrange(2,101)) # secondo estremo escluso\n",
    "print(random.randint(2,100))   # secondo estremo incluso\n"
   ]
  },
  {
   "cell_type": "code",
   "execution_count": null,
   "metadata": {},
   "outputs": [
    {
     "name": "stdout",
     "output_type": "stream",
     "text": [
      "5.7192997149812985\n",
      "0.11129956940238178\n",
      "1.5803060896723529\n"
     ]
    }
   ],
   "source": [
    "# Generazione di un numero reale casuale da una distribuzione specifica\n",
    "\n",
    "# Gaussiana di media 5 e varianza 1.5\n",
    "print(random.gauss(5,1.5))\n",
    "\n",
    "# Esponenziale di parametro 3\n",
    "print(random.expovariate(3))\n",
    "\n",
    "# Triangolare, di estremi 0 e 2 e moda 1\n",
    "print(random.triangular(0, 2, 1))\n"
   ]
  },
  {
   "cell_type": "code",
   "execution_count": null,
   "metadata": {},
   "outputs": [
    {
     "name": "stdout",
     "output_type": "stream",
     "text": [
      "Paganoni\n"
     ]
    }
   ],
   "source": [
    "# Scelta di un elemento casuale da una sequenza\n",
    "professori = ['Barucci', 'Gregoratti', 'Paganoni', 'Quarteroni', 'Sabadini', 'Salsa', 'Vianello', 'Zunino']\n",
    "print(random.choice(professori))\n"
   ]
  },
  {
   "cell_type": "code",
   "execution_count": null,
   "metadata": {},
   "outputs": [
    {
     "name": "stdout",
     "output_type": "stream",
     "text": [
      "['Quarteroni', 'Zunino', 'Salsa', 'Gregoratti', 'Paganoni', 'Vianello', 'Vianello', 'Salsa', 'Sabadini', 'Gregoratti']\n",
      "['Gregoratti', 'Paganoni', 'Sabadini']\n"
     ]
    }
   ],
   "source": [
    "# Estrazione di più elementi dalla stessa lista\n",
    "professori = ['Barucci', 'Gregoratti', 'Paganoni', 'Quarteroni', 'Sabadini', 'Salsa', 'Vianello', 'Zunino']\n",
    "print(random.choices(professori,k=10)) # con ripetizione\n",
    "print(random.sample(professori,k=3))  # senza ripetizione (k <= numero elementi!)\n"
   ]
  },
  {
   "cell_type": "markdown",
   "metadata": {},
   "source": [
    "## Libreria Itertools"
   ]
  },
  {
   "cell_type": "code",
   "execution_count": 7,
   "metadata": {},
   "outputs": [],
   "source": [
    "import itertools\n"
   ]
  },
  {
   "cell_type": "markdown",
   "metadata": {},
   "source": [
    "Prodotto Cartesiano"
   ]
  },
  {
   "cell_type": "code",
   "execution_count": null,
   "metadata": {},
   "outputs": [],
   "source": [
    "for i in itertools.product('ABCD', repeat=2):\n",
    "    print(i)"
   ]
  },
  {
   "cell_type": "code",
   "execution_count": 49,
   "metadata": {},
   "outputs": [
    {
     "name": "stdout",
     "output_type": "stream",
     "text": [
      "('A', 'A')\n",
      "('A', 'B')\n",
      "('A', 'C')\n",
      "('A', 'D')\n",
      "('B', 'A')\n",
      "('B', 'B')\n",
      "('B', 'C')\n",
      "('B', 'D')\n",
      "('C', 'A')\n",
      "('C', 'B')\n",
      "('C', 'C')\n",
      "('C', 'D')\n",
      "('D', 'A')\n",
      "('D', 'B')\n",
      "('D', 'C')\n",
      "('D', 'D')\n",
      "(1, 1, 1)\n",
      "(1, 1, 2)\n",
      "(1, 1, 3)\n",
      "(1, 2, 1)\n",
      "(1, 2, 2)\n",
      "(1, 2, 3)\n",
      "(1, 3, 1)\n",
      "(1, 3, 2)\n",
      "(1, 3, 3)\n",
      "(2, 1, 1)\n",
      "(2, 1, 2)\n",
      "(2, 1, 3)\n",
      "(2, 2, 1)\n",
      "(2, 2, 2)\n",
      "(2, 2, 3)\n",
      "(2, 3, 1)\n",
      "(2, 3, 2)\n",
      "(2, 3, 3)\n",
      "(3, 1, 1)\n",
      "(3, 1, 2)\n",
      "(3, 1, 3)\n",
      "(3, 2, 1)\n",
      "(3, 2, 2)\n",
      "(3, 2, 3)\n",
      "(3, 3, 1)\n",
      "(3, 3, 2)\n",
      "(3, 3, 3)\n"
     ]
    }
   ],
   "source": [
    "list_n= [1,2,3]\n",
    "for i in itertools.product(list_n,repeat=len(list_n)):\n",
    "    print(i)\n"
   ]
  },
  {
   "cell_type": "code",
   "execution_count": null,
   "metadata": {},
   "outputs": [],
   "source": [
    "# è possibile anche convertire un oggetto iterabile in lista\n",
    "print(len(list(itertools.product('ABCD',repeat=5))))\n",
    "print(4**5)"
   ]
  },
  {
   "cell_type": "markdown",
   "metadata": {},
   "source": [
    "Permutazioni"
   ]
  },
  {
   "cell_type": "code",
   "execution_count": 26,
   "metadata": {},
   "outputs": [
    {
     "name": "stdout",
     "output_type": "stream",
     "text": [
      "('A', 'B')\n",
      "('A', 'C')\n",
      "('A', 'D')\n",
      "('B', 'A')\n",
      "('B', 'C')\n",
      "('B', 'D')\n",
      "('C', 'A')\n",
      "('C', 'B')\n",
      "('C', 'D')\n",
      "('D', 'A')\n",
      "('D', 'B')\n",
      "('D', 'C')\n"
     ]
    }
   ],
   "source": [
    "for i in itertools.permutations('ABCD', 2):\n",
    "    print(i)\n"
   ]
  },
  {
   "cell_type": "markdown",
   "metadata": {},
   "source": [
    "Combinazioni"
   ]
  },
  {
   "cell_type": "code",
   "execution_count": 27,
   "metadata": {},
   "outputs": [
    {
     "name": "stdout",
     "output_type": "stream",
     "text": [
      "('A', 'B')\n",
      "('A', 'C')\n",
      "('A', 'D')\n",
      "('B', 'C')\n",
      "('B', 'D')\n",
      "('C', 'D')\n"
     ]
    }
   ],
   "source": [
    "for i in itertools.combinations('ABCD', 2):\n",
    "    print(i)\n"
   ]
  },
  {
   "cell_type": "markdown",
   "metadata": {},
   "source": [
    "Combinazioni con ripetizione"
   ]
  },
  {
   "cell_type": "code",
   "execution_count": 28,
   "metadata": {},
   "outputs": [
    {
     "name": "stdout",
     "output_type": "stream",
     "text": [
      "('A', 'A')\n",
      "('A', 'B')\n",
      "('A', 'C')\n",
      "('A', 'D')\n",
      "('B', 'B')\n",
      "('B', 'C')\n",
      "('B', 'D')\n",
      "('C', 'C')\n",
      "('C', 'D')\n",
      "('D', 'D')\n"
     ]
    }
   ],
   "source": [
    "for i in itertools.combinations_with_replacement('ABCD', 2):\n",
    "    print(i)\n"
   ]
  },
  {
   "cell_type": "markdown",
   "metadata": {},
   "source": [
    "### Esercizio Libreria Itertools:"
   ]
  },
  {
   "cell_type": "markdown",
   "metadata": {},
   "source": [
    "Dati 4 interi e un totale, scrivere una funzione per trovare quale combinazione delle 4 operazioni permette di ottenere il totale desiderato"
   ]
  },
  {
   "cell_type": "markdown",
   "metadata": {},
   "source": [
    "Esempio:\n",
    "Input: 9,17,4,3   tot = 36\n",
    "Soluzione: (((17 - 9) + 4) * 3) = 36\n",
    "\n",
    "N.B. non prendiamo in considerazione il caso: (a + b) * (c - d), le operazioni devono essere consecutive"
   ]
  },
  {
   "cell_type": "code",
   "execution_count": 8,
   "metadata": {},
   "outputs": [],
   "source": [
    "# questo viene dato\n",
    "def add(a, b):\n",
    "    return a + b\n",
    "\n",
    "def sub(a, b):\n",
    "    return a - b\n",
    "\n",
    "def mult(a, b):\n",
    "    return a * b\n",
    "\n",
    "def div(a, b):\n",
    "    return a / b\n",
    "\n",
    "operations = {'+': add,'-': sub, '*':mult, '/': div}\n"
   ]
  },
  {
   "cell_type": "code",
   "execution_count": 9,
   "metadata": {},
   "outputs": [],
   "source": [
    "def compute_combo(a,b,c,d,tot=36):\n",
    "    list_n = [a,b,c,d]\n",
    "    res = []\n",
    "    for num in itertools.permutations(list_n):\n",
    "        for op in itertools.product(operations.keys(),repeat=3):\n",
    "            # x = operations[op[0]](num[0], num[1])\n",
    "            # z = operations[op[1]](x, num[2])\n",
    "            # k = operations[op[2]](z, num[3])\n",
    "            r = num[0]\n",
    "            for j in range(3):\n",
    "                r = operations[op[j]](r,num[j +1])\n",
    "            if r == tot:\n",
    "                res.append((num,op))\n",
    "    for i in res:\n",
    "        print(i)\n"
   ]
  },
  {
   "cell_type": "code",
   "execution_count": 10,
   "metadata": {},
   "outputs": [
    {
     "name": "stdout",
     "output_type": "stream",
     "text": [
      "((17, 9, 4, 3), ('-', '+', '*'))\n",
      "((17, 4, 9, 3), ('+', '-', '*'))\n",
      "((4, 9, 17, 3), ('-', '+', '*'))\n",
      "((4, 17, 9, 3), ('+', '-', '*'))\n"
     ]
    }
   ],
   "source": [
    "compute_combo(9,17,4,3,tot=36)\n"
   ]
  },
  {
   "cell_type": "markdown",
   "metadata": {},
   "source": [
    "# Gestione File in Python"
   ]
  },
  {
   "cell_type": "markdown",
   "metadata": {},
   "source": [
    "per me: fai passare i file nella cartella creata"
   ]
  },
  {
   "cell_type": "markdown",
   "metadata": {},
   "source": [
    "## Apertura e Chiusura File"
   ]
  },
  {
   "cell_type": "code",
   "execution_count": 11,
   "metadata": {},
   "outputs": [
    {
     "ename": "FileNotFoundError",
     "evalue": "[Errno 2] No such file or directory: 'files/FileLettura.txt'",
     "output_type": "error",
     "traceback": [
      "\u001b[1;31m---------------------------------------------------------------------------\u001b[0m",
      "\u001b[1;31mFileNotFoundError\u001b[0m                         Traceback (most recent call last)",
      "\u001b[1;32mc:\\Users\\User\\Desktop\\Corso_Python_AIM\\corso-python-23\\lezione-2\\Lezione2.ipynb Cell 71\u001b[0m line \u001b[0;36m3\n\u001b[0;32m      <a href='vscode-notebook-cell:/c%3A/Users/User/Desktop/Corso_Python_AIM/corso-python-23/lezione-2/Lezione2.ipynb#Y124sZmlsZQ%3D%3D?line=0'>1</a>\u001b[0m \u001b[39m# Semplice apertura e chiusura di un file\u001b[39;00m\n\u001b[0;32m      <a href='vscode-notebook-cell:/c%3A/Users/User/Desktop/Corso_Python_AIM/corso-python-23/lezione-2/Lezione2.ipynb#Y124sZmlsZQ%3D%3D?line=1'>2</a>\u001b[0m nome_file \u001b[39m=\u001b[39m \u001b[39m'\u001b[39m\u001b[39mfiles/FileLettura.txt\u001b[39m\u001b[39m'\u001b[39m\n\u001b[1;32m----> <a href='vscode-notebook-cell:/c%3A/Users/User/Desktop/Corso_Python_AIM/corso-python-23/lezione-2/Lezione2.ipynb#Y124sZmlsZQ%3D%3D?line=2'>3</a>\u001b[0m file \u001b[39m=\u001b[39m \u001b[39mopen\u001b[39;49m(nome_file,\u001b[39m'\u001b[39;49m\u001b[39mr\u001b[39;49m\u001b[39m'\u001b[39;49m)\n\u001b[0;32m      <a href='vscode-notebook-cell:/c%3A/Users/User/Desktop/Corso_Python_AIM/corso-python-23/lezione-2/Lezione2.ipynb#Y124sZmlsZQ%3D%3D?line=3'>4</a>\u001b[0m file\u001b[39m.\u001b[39mclose()\n",
      "File \u001b[1;32m~\\AppData\\Roaming\\Python\\Python311\\site-packages\\IPython\\core\\interactiveshell.py:282\u001b[0m, in \u001b[0;36m_modified_open\u001b[1;34m(file, *args, **kwargs)\u001b[0m\n\u001b[0;32m    275\u001b[0m \u001b[39mif\u001b[39;00m file \u001b[39min\u001b[39;00m {\u001b[39m0\u001b[39m, \u001b[39m1\u001b[39m, \u001b[39m2\u001b[39m}:\n\u001b[0;32m    276\u001b[0m     \u001b[39mraise\u001b[39;00m \u001b[39mValueError\u001b[39;00m(\n\u001b[0;32m    277\u001b[0m         \u001b[39mf\u001b[39m\u001b[39m\"\u001b[39m\u001b[39mIPython won\u001b[39m\u001b[39m'\u001b[39m\u001b[39mt let you open fd=\u001b[39m\u001b[39m{\u001b[39;00mfile\u001b[39m}\u001b[39;00m\u001b[39m by default \u001b[39m\u001b[39m\"\u001b[39m\n\u001b[0;32m    278\u001b[0m         \u001b[39m\"\u001b[39m\u001b[39mas it is likely to crash IPython. If you know what you are doing, \u001b[39m\u001b[39m\"\u001b[39m\n\u001b[0;32m    279\u001b[0m         \u001b[39m\"\u001b[39m\u001b[39myou can use builtins\u001b[39m\u001b[39m'\u001b[39m\u001b[39m open.\u001b[39m\u001b[39m\"\u001b[39m\n\u001b[0;32m    280\u001b[0m     )\n\u001b[1;32m--> 282\u001b[0m \u001b[39mreturn\u001b[39;00m io_open(file, \u001b[39m*\u001b[39;49margs, \u001b[39m*\u001b[39;49m\u001b[39m*\u001b[39;49mkwargs)\n",
      "\u001b[1;31mFileNotFoundError\u001b[0m: [Errno 2] No such file or directory: 'files/FileLettura.txt'"
     ]
    }
   ],
   "source": [
    "# Semplice apertura e chiusura di un file\n",
    "nome_file = 'files/FileLettura.txt'\n",
    "file = open(nome_file,'r')\n",
    "file.close()\n"
   ]
  },
  {
   "cell_type": "code",
   "execution_count": 35,
   "metadata": {},
   "outputs": [
    {
     "name": "stdout",
     "output_type": "stream",
     "text": [
      "Nome file -> files/FileLettura.txt\n",
      "Modalità in uso -> r\n"
     ]
    }
   ],
   "source": [
    "# Stampa del nome e della modalità di apertura di un File\n",
    "file = open(nome_file,'r')\n",
    "print(\"Nome file -> \" + file.name)\n",
    "print(\"Modalità in uso -> \" + file.mode)\n",
    "file.close()\n"
   ]
  },
  {
   "cell_type": "markdown",
   "metadata": {},
   "source": [
    "## Lettura da File - Modalità Read"
   ]
  },
  {
   "cell_type": "code",
   "execution_count": 36,
   "metadata": {},
   "outputs": [
    {
     "name": "stdout",
     "output_type": "stream",
     "text": [
      "Tutti sanno che, mangio pasta, pasta\n",
      "Tutti, tutti, tutti sanno che, mangio pasta\n",
      "Con tonno, con tonno, con tonno, con tonno\n",
      "Tutti sanno che, mangio pasta, pasta\n",
      "Tutti, tutti, tutti sanno che, mangio\n",
      "Con tonno, con tonno, con tonno, con tonno\n",
      "Sembro italiano, mangio solo pasta\n",
      "Se non e' pasta, allora sara' pizza\n",
      "Alle mie serate, mangio solo pizza\n",
      "Dopo serata, mangio solo figa\n",
      "In America, mangiavo solo pasta\n",
      "Anche in Germania, mangiavo solo pasta\n",
      "Anche in Londra, mangiavo solo pasta\n",
      "In Africa, e mangio ancora pasta\n",
      "Come un arabo che non scherza con kebabbu\n",
      "Come thailandese che non scherza con il riso\n",
      "Come italiano che non scherza con il pasto\n",
      "Figo, swag, no, io non scherzo con il tonno\n"
     ]
    }
   ],
   "source": [
    "# Lettura Completa del File\n",
    "file = open(nome_file,'r')\n",
    "testo = file.read()\n",
    "print(testo)\n",
    "file.close()\n"
   ]
  },
  {
   "cell_type": "code",
   "execution_count": 38,
   "metadata": {},
   "outputs": [
    {
     "name": "stdout",
     "output_type": "stream",
     "text": [
      "Tutti sanno che, mangio pasta, pasta\n",
      "\n",
      "Tutti, tutti, tutti sanno che, mangio pasta\n",
      "\n",
      "Con tonno, con tonno, con tonno, con tonno\n",
      "\n"
     ]
    }
   ],
   "source": [
    "# La funzione readline scorre in automatico le righe di un file\n",
    "file = open(nome_file,'r')\n",
    "print(file.readline())\n",
    "print(file.readline())\n",
    "print(file.readline())\n",
    "file.close()\n"
   ]
  },
  {
   "cell_type": "code",
   "execution_count": 5,
   "metadata": {},
   "outputs": [
    {
     "name": "stdout",
     "output_type": "stream",
     "text": [
      "\n",
      "Il file contiene 25 linee\n",
      "1) Le coppie si fanno i regali\n",
      "2) Festeggiano un mese, sei mesi e poi gli anni\n",
      "3) A cena al Pigneto e poi tornano a casa\n",
      "4) Che al Fish'n'Chips oltretutto c'e' fila\n",
      "5) In macchina cala il silenzio\n",
      "6) Lei e' scocciata e si guarda allo specchio\n",
      "7) Lui fa finta di niente, alza la musica e guida da brillo\n",
      "8) Ma non li fermano quasi mai\n",
      "9) Non li fermano quasi mai\n",
      "10) Non li fermano quasi mai\n",
      "11) Non li fermano quasi mai\n",
      "12) Anche i vigili piu' stronzi non li fermano quasi mai\n",
      "13) Le coppie escono insieme e vanno ai concerti tenendosi strette\n",
      "14) Lui le ha fatto conoscere il gruppo\n",
      "15) Ed essendo piÃ¹ alto l'abbraccia da dietro\n",
      "16) Lei scherza sul fatto che in fondo il tipo che canta e' piuttosto carino\n",
      "17) Lui la ignora e per altri motivi piu' tardi s'incazza\n",
      "18) Ma non si lasciano quasi mai\n",
      "19) Non si lasciano quasi mai\n",
      "20) Non si lasciano quasi mai\n",
      "21) Non si lasciano quasi mai\n",
      "22) Non arrivano al punto di rottura quasi mai\n",
      "23) La statistica afferma che spesso\n",
      "24) Chi da' il primo bacio nel seguito del primo amplesso\n",
      "25) Sara' quello che ne uscira' male"
     ]
    }
   ],
   "source": [
    "# Stampa di un file con readlines\n",
    "file = open(nome_file,'r')\n",
    "linee = file.readlines()\n",
    "print(f\"\\nIl file contiene {len(linee)} linee\")\n",
    "n=1\n",
    "for linea in linee:\n",
    "    print(f\"{n}) {linea}\", end=\"\")\n",
    "    n+=1\n",
    "file.close()\n"
   ]
  },
  {
   "cell_type": "markdown",
   "metadata": {},
   "source": [
    "## Scrittura su File - Modalità Write e Append"
   ]
  },
  {
   "cell_type": "code",
   "execution_count": 42,
   "metadata": {},
   "outputs": [],
   "source": [
    "# Creazione di un file tramite Write\n",
    "write_file = 'files/FileScrittura.txt'\n",
    "file = open(write_file,'w')\n",
    "file.close()\n"
   ]
  },
  {
   "cell_type": "code",
   "execution_count": 43,
   "metadata": {},
   "outputs": [],
   "source": [
    "# Scrittura su File in modalità Write\n",
    "file = open(write_file,'w')\n",
    "file.write(\"I topi non avevano nipoti\")\n",
    "file.close()\n"
   ]
  },
  {
   "cell_type": "code",
   "execution_count": 45,
   "metadata": {},
   "outputs": [],
   "source": [
    "# Attenzione! Se esiste già il file viene sovrascritto!\n",
    "file = open(write_file,'w')\n",
    "for i in range(10):\n",
    "     file.write(f\"Linea {i+1}\\n\")\n",
    "file.close()\n"
   ]
  },
  {
   "cell_type": "code",
   "execution_count": 47,
   "metadata": {},
   "outputs": [],
   "source": [
    "# Per aggiungere cotenuto alla fine si usa la modalità append\n",
    "file = open(write_file,'w')\n",
    "for i in range(10):\n",
    "     file.write(f\"Linea {i+1}\\n\")\n",
    "file.close()\n",
    "file = open(write_file,'a')\n",
    "for i in range(5):\n",
    "     file.write(f\"Linea {i+1} bis \\n\")\n",
    "file.close()\n"
   ]
  },
  {
   "cell_type": "code",
   "execution_count": 55,
   "metadata": {},
   "outputs": [],
   "source": [
    "def disegna_pokemon(name):\n",
    "    fileName = \"PokemonArt\"\n",
    "    image = R\"\"\" \"\"\"\n",
    "    file = open(f\"{fileName}.txt\", \"r\")\n",
    "    text = file.readlines()\n",
    "    add = False\n",
    "    for line in text:\n",
    "        if(line.strip() == name):\n",
    "            add = True\n",
    "        elif(add):\n",
    "            if(line.strip() == \"STOP\"):\n",
    "                return image\n",
    "            else:\n",
    "                image += line.rstrip()\n",
    "                image += \"\"\"\\n\"\"\"\n",
    "    return \"Immagine non Trovata\"\n"
   ]
  },
  {
   "cell_type": "code",
   "execution_count": 57,
   "metadata": {},
   "outputs": [
    {
     "name": "stdout",
     "output_type": "stream",
     "text": [
      "                                ,'\\\"`.,./.\\\n",
      "                             ,'        Y',\\\"..\\\n",
      "                           ,'           \\\\  | \\\\\\\n",
      "                          /              . |  `\\\n",
      "                         /               | |   \\\\\\\n",
      "            __          .                | |    .\\\n",
      "       _   \\\\  `. ---.   |                | j    |\\\n",
      "      / `-._\\\\   `Y   \\\\  |                |.     |\\\n",
      "     _`.    ``    \\\\   \\\\ |..              '      |,-'\\\"\\\"7,....\\\n",
      "     l     '-.     . , `|  | , |`. , ,  /,     ,'    '/   ,'_,.-.\\\n",
      "     `-..     `-.  : :     |/ `   ' \\\"\\\\,' | _  /          '-'    /___\\\n",
      "      \\\\\\\"\\\"' __.,.-`.: :        /   /._    l'.,'\\\n",
      "       `--,   _.-' `\\\".           /__ `'-.' '         .\\\n",
      "       ,---..._,.--\\\"\\\"\\\"\\\"\\\"\\\"\\\"--.__..----,-.'   .  /    .'   ,.--\\\n",
      "       |                          ,':| /    | /     ;.,-'--      ,.-\\\n",
      "       |     .---.              .'  :|'     |/ ,.-='\\\"-.`\\\"`' _   -.'\\\n",
      "       /    \\\\    /               `. :|--.  _L,\\\"---.._        \\\"----'\\\n",
      "     ,' `.   \\\\ ,'           _,     `''   ``.-'       `-  -..___,'\\\n",
      "    . ,.  .   `   __     .-'  _.-           `.     .__    \\\\\\\n",
      "    |. |`        \\\"  ;   !   ,.  |             `.    `.`'---'\\\n",
      "    ,| |C\\\\       ` /    | ,' |(]|            -. |-..--`\\\n",
      "   /  \\\"'--'       '      /___|__]        `.  `- |`.\\\n",
      "  .       ,'                   ,   /       .    `. \\\\\\\n",
      "    \\\\                      .,-'  ,'         .     `-.\\\n",
      "     x---..`.  -'  __..--'\\\"/\\\"\\\"\\\"\\\"\\\"  ,-.      |   |   |\\\n",
      "    / \\\\--._'-.,.--'     _`-    _. ' /       |     -.|\\\n",
      "   ,   .   `-..__ ...--'  _,.-' | `   ,.-.  ;   /  '|\\\n",
      "  .  _,'         '\\\"-----\\\"\\\"      |    `   | /  ,'    ;\\\n",
      "  |-'  .-.    `._               |     `._// ,'     /\\\n",
      " _|    `-'   _,' \\\"`--.._________|        `,'    _ /.\\\n",
      "//\\\\   ,-._.'\\\"/\\\\__,.   _,\\\"     /_\\\\__/`. /'.-.'.-/_,`-'\n",
      "`-\\\"`\\\"' v'    `\\\"  `-`-\\\"              `-'`-`  `'\\\n",
      "\n"
     ]
    }
   ],
   "source": [
    "pokemon_names = [\"Bulbasaur\", \"Ivysaur\", \"Venusaur\",\n",
    "              \"Charmander\", \"Charmeleon\", \"Charizard\",\n",
    "              \"Squirtle\", \"Wartortle\", \"Blastoise\"]\n",
    "immagine = disegna_pokemon(pokemon_names[1])\n",
    "print(immagine)\n"
   ]
  },
  {
   "cell_type": "markdown",
   "metadata": {},
   "source": [
    "## Context Managers"
   ]
  },
  {
   "cell_type": "markdown",
   "metadata": {},
   "source": [
    "I Context Managers consentono di allocare e rilasciare risorse. L'esempio più utilizzato di Context Managers è l'istruzione with. Supponiamo di avere due operazioni correlate che desideri eseguire in coppia, con un blocco di codice in mezzo. I Context Managers ti consentono di fare proprio questo. Per esempio:"
   ]
  },
  {
   "cell_type": "code",
   "execution_count": 4,
   "metadata": {},
   "outputs": [
    {
     "name": "stdout",
     "output_type": "stream",
     "text": [
      "File Contents:\n",
      "Le coppie si fanno i regali\n",
      "Festeggiano un mese, sei mesi e poi gli anni\n",
      "A cena al Pigneto e poi tornano a casa\n",
      "Che al Fish'n'Chips oltretutto c'e' fila\n",
      "In macchina cala il silenzio\n",
      "Lei e' scocciata e si guarda allo specchio\n",
      "Lui fa finta di niente, alza la musica e guida da brillo\n",
      "Ma non li fermano quasi mai\n",
      "Non li fermano quasi mai\n",
      "Non li fermano quasi mai\n",
      "Non li fermano quasi mai\n",
      "Anche i vigili piu' stronzi non li fermano quasi mai\n",
      "Le coppie escono insieme e vanno ai concerti tenendosi strette\n",
      "Lui le ha fatto conoscere il gruppo\n",
      "Ed essendo piÃ¹ alto l'abbraccia da dietro\n",
      "Lei scherza sul fatto che in fondo il tipo che canta e' piuttosto carino\n",
      "Lui la ignora e per altri motivi piu' tardi s'incazza\n",
      "Ma non si lasciano quasi mai\n",
      "Non si lasciano quasi mai\n",
      "Non si lasciano quasi mai\n",
      "Non si lasciano quasi mai\n",
      "Non arrivano al punto di rottura quasi mai\n",
      "La statistica afferma che spesso\n",
      "Chi da' il primo bacio nel seguito del primo amplesso\n",
      "Sara' quello che ne uscira' male\n"
     ]
    }
   ],
   "source": [
    "nome_file = 'files/FileLettura.txt'\n",
    "with open(nome_file, 'r') as file:\n",
    "    file_contents = file.read()\n",
    "    print(\"File Contents:\")\n",
    "    print(file_contents)"
   ]
  },
  {
   "cell_type": "code",
   "execution_count": null,
   "metadata": {},
   "outputs": [],
   "source": [
    "write_file = 'files/FileScrittura.txt'\n",
    "with open(write_file, 'w') as opened_file:\n",
    "    opened_file.write('Hola!')"
   ]
  },
  {
   "cell_type": "markdown",
   "metadata": {},
   "source": [
    "Il codice sopra apre il file, scrive alcuni dati e poi lo chiude. Se si verifica un errore durante la scrittura dei dati nel file, tenta di chiuderlo."
   ]
  },
  {
   "cell_type": "markdown",
   "metadata": {},
   "source": [
    "P.S. per chi non avesse riconosciuto il testo del FileLettura, si tratta della canzone: \"Le coppie\" de I cani.\n",
    "\n",
    "Il sottoscritto e tutto il direttivo AIM consigliano fortemente l'ascolto :)\n",
    "\n",
    "https://www.youtube.com/watch?v=pGGletsWJoQ"
   ]
  },
  {
   "cell_type": "markdown",
   "metadata": {},
   "source": [
    "# Error Management"
   ]
  },
  {
   "cell_type": "markdown",
   "metadata": {},
   "source": [
    "Gli errori sono una parte naturale della programmazione. Python fornisce vari meccanismi per gestire gli errori.\n",
    "\n",
    "Esistono vari tipi di eccezioni (errori che avvengono durante il run del codice): \n",
    "\n",
    "*ZeroDivisionError*: division by zero\n",
    "\n",
    "*NameError*: name 'spam' is not defined\n",
    "\n",
    "*TypeError*: can only concatenate str (not \"int\") to str\n",
    "\n",
    "### Try and Except"
   ]
  },
  {
   "cell_type": "code",
   "execution_count": 59,
   "metadata": {},
   "outputs": [
    {
     "name": "stdout",
     "output_type": "stream",
     "text": [
      "Division by zero is not allowed.\n"
     ]
    }
   ],
   "source": [
    "try:\n",
    "    result = 10 / 0\n",
    "except:\n",
    "    print('Division by zero is not allowed.')\n"
   ]
  },
  {
   "cell_type": "markdown",
   "metadata": {},
   "source": [
    "Possiamo anche vedere il tipo di eccezione che viene sollevata"
   ]
  },
  {
   "cell_type": "code",
   "execution_count": 64,
   "metadata": {},
   "outputs": [
    {
     "name": "stdout",
     "output_type": "stream",
     "text": [
      "division by zero\n"
     ]
    }
   ],
   "source": [
    "try:\n",
    "    result = 10 / 0\n",
    "except Exception as err:\n",
    "    print(err)\n"
   ]
  },
  {
   "cell_type": "code",
   "execution_count": 65,
   "metadata": {},
   "outputs": [
    {
     "name": "stdout",
     "output_type": "stream",
     "text": [
      "list index out of range\n"
     ]
    }
   ],
   "source": [
    "l = [1,2,3,4,5]\n",
    "try:\n",
    "    result = l[6]\n",
    "except Exception as err:\n",
    "    print(err)\n"
   ]
  },
  {
   "cell_type": "markdown",
   "metadata": {},
   "source": [
    "Un'istruzione 'try' può avere più di una clausola 'except', per specificare come gestire eccezioni diverse. Verrà eseguito sempre al massimo uno dei casi. \n"
   ]
  },
  {
   "cell_type": "code",
   "execution_count": 68,
   "metadata": {},
   "outputs": [
    {
     "name": "stdout",
     "output_type": "stream",
     "text": [
      "list index out of range\n",
      "0\n"
     ]
    }
   ],
   "source": [
    "l = [1,2,3,4,5]\n",
    "a=0\n",
    "try:\n",
    "    result = l[6] # 10/0\n",
    "except ZeroDivisionError as e:\n",
    "    a += 1\n",
    "    print(e)\n",
    "except Exception as err:\n",
    "    print(err)\n",
    "\n",
    "print(a)\n"
   ]
  },
  {
   "cell_type": "code",
   "execution_count": 1,
   "metadata": {},
   "outputs": [
    {
     "name": "stdout",
     "output_type": "stream",
     "text": [
      "Oops!  That was no valid number.  Try again...\n",
      "Oops!  That was no valid number.  Try again...\n"
     ]
    }
   ],
   "source": [
    "while True:\n",
    "    try:\n",
    "        x = int(input(\"Please enter a number: \"))\n",
    "        break\n",
    "    except ValueError:\n",
    "        print(\"Oops!  That was no valid number.  Try again...\")\n"
   ]
  },
  {
   "cell_type": "markdown",
   "metadata": {},
   "source": [
    "\n",
    "Una clausola 'except' può riferirsi a più eccezioni attraverso una tupla, ad esempio:"
   ]
  },
  {
   "cell_type": "markdown",
   "metadata": {},
   "source": [
    "except (RuntimeError, TypeError, NameError):\n",
    "    pass"
   ]
  },
  {
   "cell_type": "markdown",
   "metadata": {},
   "source": [
    "La clausola except gestisce tutte le eccezioni, perfino il ctrl+C per fermare l'esecuzione: *KeyboardInterrupt*"
   ]
  },
  {
   "cell_type": "markdown",
   "metadata": {},
   "source": [
    "### Raise and Finally"
   ]
  },
  {
   "cell_type": "markdown",
   "metadata": {},
   "source": [
    "La clausola raise permette di forzare un errore."
   ]
  },
  {
   "cell_type": "code",
   "execution_count": 69,
   "metadata": {},
   "outputs": [
    {
     "ename": "NameError",
     "evalue": "HiThere",
     "output_type": "error",
     "traceback": [
      "\u001b[1;31m---------------------------------------------------------------------------\u001b[0m",
      "\u001b[1;31mNameError\u001b[0m                                 Traceback (most recent call last)",
      "\u001b[1;32mc:\\Users\\User\\Desktop\\Lezione2\\Lecture2.ipynb Cell 90\u001b[0m line \u001b[0;36m1\n\u001b[1;32m----> <a href='vscode-notebook-cell:/c%3A/Users/User/Desktop/Lezione2/Lecture2.ipynb#Y203sZmlsZQ%3D%3D?line=0'>1</a>\u001b[0m \u001b[39mraise\u001b[39;00m \u001b[39mNameError\u001b[39;00m(\u001b[39m'\u001b[39m\u001b[39mHiThere\u001b[39m\u001b[39m'\u001b[39m)\n",
      "\u001b[1;31mNameError\u001b[0m: HiThere"
     ]
    }
   ],
   "source": [
    "raise NameError('HiThere')\n"
   ]
  },
  {
   "cell_type": "markdown",
   "metadata": {},
   "source": [
    "Se si chiama la funzione 'raise' all'interno di una sezione di eccezione, verrà allegata e inclusa nel messaggio di errore:"
   ]
  },
  {
   "cell_type": "code",
   "execution_count": 71,
   "metadata": {},
   "outputs": [
    {
     "ename": "RuntimeError",
     "evalue": "unable to handle error :(",
     "output_type": "error",
     "traceback": [
      "\u001b[1;31m---------------------------------------------------------------------------\u001b[0m",
      "\u001b[1;31mZeroDivisionError\u001b[0m                         Traceback (most recent call last)",
      "\u001b[1;32mc:\\Users\\User\\Desktop\\Lezione2\\Lecture2.ipynb Cell 92\u001b[0m line \u001b[0;36m2\n\u001b[0;32m      <a href='vscode-notebook-cell:/c%3A/Users/User/Desktop/Lezione2/Lecture2.ipynb#Y205sZmlsZQ%3D%3D?line=0'>1</a>\u001b[0m \u001b[39mtry\u001b[39;00m:\n\u001b[1;32m----> <a href='vscode-notebook-cell:/c%3A/Users/User/Desktop/Lezione2/Lecture2.ipynb#Y205sZmlsZQ%3D%3D?line=1'>2</a>\u001b[0m     \u001b[39m10\u001b[39;49m\u001b[39m/\u001b[39;49m\u001b[39m0\u001b[39;49m\n\u001b[0;32m      <a href='vscode-notebook-cell:/c%3A/Users/User/Desktop/Lezione2/Lecture2.ipynb#Y205sZmlsZQ%3D%3D?line=2'>3</a>\u001b[0m \u001b[39mexcept\u001b[39;00m \u001b[39mZeroDivisionError\u001b[39;00m:\n",
      "\u001b[1;31mZeroDivisionError\u001b[0m: division by zero",
      "\nDuring handling of the above exception, another exception occurred:\n",
      "\u001b[1;31mRuntimeError\u001b[0m                              Traceback (most recent call last)",
      "\u001b[1;32mc:\\Users\\User\\Desktop\\Lezione2\\Lecture2.ipynb Cell 92\u001b[0m line \u001b[0;36m4\n\u001b[0;32m      <a href='vscode-notebook-cell:/c%3A/Users/User/Desktop/Lezione2/Lecture2.ipynb#Y205sZmlsZQ%3D%3D?line=1'>2</a>\u001b[0m     \u001b[39m10\u001b[39m\u001b[39m/\u001b[39m\u001b[39m0\u001b[39m\n\u001b[0;32m      <a href='vscode-notebook-cell:/c%3A/Users/User/Desktop/Lezione2/Lecture2.ipynb#Y205sZmlsZQ%3D%3D?line=2'>3</a>\u001b[0m \u001b[39mexcept\u001b[39;00m \u001b[39mZeroDivisionError\u001b[39;00m:\n\u001b[1;32m----> <a href='vscode-notebook-cell:/c%3A/Users/User/Desktop/Lezione2/Lecture2.ipynb#Y205sZmlsZQ%3D%3D?line=3'>4</a>\u001b[0m     \u001b[39mraise\u001b[39;00m \u001b[39mRuntimeError\u001b[39;00m(\u001b[39m\"\u001b[39m\u001b[39munable to handle error :(\u001b[39m\u001b[39m\"\u001b[39m)\n",
      "\u001b[1;31mRuntimeError\u001b[0m: unable to handle error :("
     ]
    }
   ],
   "source": [
    "try:\n",
    "    10/0\n",
    "except ZeroDivisionError:\n",
    "    raise RuntimeError(\"unable to handle error :(\")\n"
   ]
  },
  {
   "cell_type": "markdown",
   "metadata": {},
   "source": [
    "Se è presente una clausola finally, la clausola finally verrà eseguita come ultima attività prima del completamento dell'istruzione try. La clausola finally viene eseguita indipendentemente dal fatto che l'istruzione try produca o meno un'eccezione"
   ]
  },
  {
   "cell_type": "code",
   "execution_count": 72,
   "metadata": {},
   "outputs": [
    {
     "name": "stdout",
     "output_type": "stream",
     "text": [
      "Goodbye, world!\n"
     ]
    },
    {
     "ename": "KeyboardInterrupt",
     "evalue": "",
     "output_type": "error",
     "traceback": [
      "\u001b[1;31m---------------------------------------------------------------------------\u001b[0m",
      "\u001b[1;31mKeyboardInterrupt\u001b[0m                         Traceback (most recent call last)",
      "\u001b[1;32mc:\\Users\\User\\Desktop\\Lezione2\\Lecture2.ipynb Cell 94\u001b[0m line \u001b[0;36m2\n\u001b[0;32m      <a href='vscode-notebook-cell:/c%3A/Users/User/Desktop/Lezione2/Lecture2.ipynb#Y206sZmlsZQ%3D%3D?line=0'>1</a>\u001b[0m \u001b[39mtry\u001b[39;00m:\n\u001b[1;32m----> <a href='vscode-notebook-cell:/c%3A/Users/User/Desktop/Lezione2/Lecture2.ipynb#Y206sZmlsZQ%3D%3D?line=1'>2</a>\u001b[0m     \u001b[39mraise\u001b[39;00m \u001b[39mKeyboardInterrupt\u001b[39;00m\n\u001b[0;32m      <a href='vscode-notebook-cell:/c%3A/Users/User/Desktop/Lezione2/Lecture2.ipynb#Y206sZmlsZQ%3D%3D?line=2'>3</a>\u001b[0m \u001b[39mfinally\u001b[39;00m:\n\u001b[0;32m      <a href='vscode-notebook-cell:/c%3A/Users/User/Desktop/Lezione2/Lecture2.ipynb#Y206sZmlsZQ%3D%3D?line=3'>4</a>\u001b[0m     \u001b[39mprint\u001b[39m(\u001b[39m'\u001b[39m\u001b[39mGoodbye, world!\u001b[39m\u001b[39m'\u001b[39m)\n",
      "\u001b[1;31mKeyboardInterrupt\u001b[0m: "
     ]
    }
   ],
   "source": [
    "try:\n",
    "    raise KeyboardInterrupt\n",
    "finally:\n",
    "    print('Goodbye, world!')\n"
   ]
  },
  {
   "cell_type": "markdown",
   "metadata": {},
   "source": [
    "si possono usare anche gli else"
   ]
  },
  {
   "cell_type": "code",
   "execution_count": 74,
   "metadata": {},
   "outputs": [],
   "source": [
    "def divide(x, y):\n",
    "    try:\n",
    "        result = x / y\n",
    "    except ZeroDivisionError:\n",
    "        print(\"division by zero!\")\n",
    "    else:\n",
    "        print(\"result is\", result)\n",
    "    finally:\n",
    "        print(\"executing finally clause\")\n"
   ]
  },
  {
   "cell_type": "code",
   "execution_count": 75,
   "metadata": {},
   "outputs": [
    {
     "name": "stdout",
     "output_type": "stream",
     "text": [
      "result is 2.0\n",
      "executing finally clause\n",
      "division by zero!\n",
      "executing finally clause\n",
      "executing finally clause\n"
     ]
    },
    {
     "ename": "TypeError",
     "evalue": "unsupported operand type(s) for /: 'str' and 'str'",
     "output_type": "error",
     "traceback": [
      "\u001b[1;31m---------------------------------------------------------------------------\u001b[0m",
      "\u001b[1;31mTypeError\u001b[0m                                 Traceback (most recent call last)",
      "\u001b[1;32mc:\\Users\\User\\Desktop\\Lezione2\\Lecture2.ipynb Cell 97\u001b[0m line \u001b[0;36m3\n\u001b[0;32m      <a href='vscode-notebook-cell:/c%3A/Users/User/Desktop/Lezione2/Lecture2.ipynb#Y213sZmlsZQ%3D%3D?line=0'>1</a>\u001b[0m divide(\u001b[39m2\u001b[39m, \u001b[39m1\u001b[39m)\n\u001b[0;32m      <a href='vscode-notebook-cell:/c%3A/Users/User/Desktop/Lezione2/Lecture2.ipynb#Y213sZmlsZQ%3D%3D?line=1'>2</a>\u001b[0m divide(\u001b[39m2\u001b[39m, \u001b[39m0\u001b[39m)\n\u001b[1;32m----> <a href='vscode-notebook-cell:/c%3A/Users/User/Desktop/Lezione2/Lecture2.ipynb#Y213sZmlsZQ%3D%3D?line=2'>3</a>\u001b[0m divide(\u001b[39m\"\u001b[39;49m\u001b[39m2\u001b[39;49m\u001b[39m\"\u001b[39;49m, \u001b[39m\"\u001b[39;49m\u001b[39m1\u001b[39;49m\u001b[39m\"\u001b[39;49m)\n",
      "\u001b[1;32mc:\\Users\\User\\Desktop\\Lezione2\\Lecture2.ipynb Cell 97\u001b[0m line \u001b[0;36m3\n\u001b[0;32m      <a href='vscode-notebook-cell:/c%3A/Users/User/Desktop/Lezione2/Lecture2.ipynb#Y213sZmlsZQ%3D%3D?line=0'>1</a>\u001b[0m \u001b[39mdef\u001b[39;00m \u001b[39mdivide\u001b[39m(x, y):\n\u001b[0;32m      <a href='vscode-notebook-cell:/c%3A/Users/User/Desktop/Lezione2/Lecture2.ipynb#Y213sZmlsZQ%3D%3D?line=1'>2</a>\u001b[0m     \u001b[39mtry\u001b[39;00m:\n\u001b[1;32m----> <a href='vscode-notebook-cell:/c%3A/Users/User/Desktop/Lezione2/Lecture2.ipynb#Y213sZmlsZQ%3D%3D?line=2'>3</a>\u001b[0m         result \u001b[39m=\u001b[39m x \u001b[39m/\u001b[39;49m y\n\u001b[0;32m      <a href='vscode-notebook-cell:/c%3A/Users/User/Desktop/Lezione2/Lecture2.ipynb#Y213sZmlsZQ%3D%3D?line=3'>4</a>\u001b[0m     \u001b[39mexcept\u001b[39;00m \u001b[39mZeroDivisionError\u001b[39;00m:\n\u001b[0;32m      <a href='vscode-notebook-cell:/c%3A/Users/User/Desktop/Lezione2/Lecture2.ipynb#Y213sZmlsZQ%3D%3D?line=4'>5</a>\u001b[0m         \u001b[39mprint\u001b[39m(\u001b[39m\"\u001b[39m\u001b[39mdivision by zero!\u001b[39m\u001b[39m\"\u001b[39m)\n",
      "\u001b[1;31mTypeError\u001b[0m: unsupported operand type(s) for /: 'str' and 'str'"
     ]
    }
   ],
   "source": [
    "divide(2, 1)\n",
    "divide(2, 0)\n",
    "divide(\"2\", \"1\")\n"
   ]
  },
  {
   "cell_type": "markdown",
   "metadata": {},
   "source": [
    "Il TypeError sollevato dividendo due stringhe non viene gestito dalla clausola except e pertanto viene sollevato nuovamente dopo che la clausola finally è stata eseguita."
   ]
  }
 ],
 "metadata": {
  "kernelspec": {
   "display_name": "Python 3",
   "language": "python",
   "name": "python3"
  },
  "language_info": {
   "codemirror_mode": {
    "name": "ipython",
    "version": 3
   },
   "file_extension": ".py",
   "mimetype": "text/x-python",
   "name": "python",
   "nbconvert_exporter": "python",
   "pygments_lexer": "ipython3",
   "version": "3.11.2"
  }
 },
 "nbformat": 4,
 "nbformat_minor": 2
}
