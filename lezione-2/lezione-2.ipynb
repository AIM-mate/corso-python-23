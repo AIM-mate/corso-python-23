{
 "cells": [
  {
   "cell_type": "markdown",
   "metadata": {},
   "source": [
    "# <a id='toc1_'></a>[Lezione 2](#toc0_)\n",
    "\n",
    "- Autore: Gabriele Corbo ([@gabrielecorbo](https://github.com/gabrielecorbo))"
   ]
  },
  {
   "cell_type": "markdown",
   "metadata": {},
   "source": [
    "**Table of contents**<a id='toc0_'></a>    \n",
    "- [Lezione 2](#toc1_)    \n",
    "  - [Funzioni in Python](#toc1_1_)    \n",
    "    - [Ricorsione](#toc1_1_1_)    \n",
    "    - [Scope delle variabili](#toc1_1_2_)    \n",
    "    - [Funzioni anonime](#toc1_1_3_)    \n",
    "    - [Esercizio sulle funzioni](#toc1_1_4_)    \n",
    "  - [Utilizzo di Librerie](#toc1_2_)    \n",
    "    - [Modulo `os`](#toc1_2_1_)    \n",
    "    - [Modulo `random`](#toc1_2_2_)    \n",
    "    - [Modulo `itertools`](#toc1_2_3_)    \n",
    "    - [Esercizio con `itertools`](#toc1_2_4_)    \n",
    "  - [Gestione dei File in Python](#toc1_3_)    \n",
    "    - [Apertura e Chiusura File](#toc1_3_1_)    \n",
    "    - [Lettura da File - Modalità Read](#toc1_3_2_)    \n",
    "    - [Scrittura su File - Modalità Write e Append](#toc1_3_3_)    \n",
    "    - [Context Managers](#toc1_3_4_)    \n",
    "  - [Error Management](#toc1_4_)    \n",
    "    - [Try and Except](#toc1_4_1_)    \n",
    "    - [Raise and Finally](#toc1_4_2_)    \n",
    "\n",
    "<!-- vscode-jupyter-toc-config\n",
    "\tnumbering=false\n",
    "\tanchor=true\n",
    "\tflat=false\n",
    "\tminLevel=1\n",
    "\tmaxLevel=6\n",
    "\t/vscode-jupyter-toc-config -->\n",
    "<!-- THIS CELL WILL BE REPLACED ON TOC UPDATE. DO NOT WRITE YOUR TEXT IN THIS CELL -->"
   ]
  },
  {
   "cell_type": "markdown",
   "metadata": {},
   "source": [
    "## <a id='toc1_1_'></a>[Funzioni in Python](#toc0_)"
   ]
  },
  {
   "cell_type": "markdown",
   "metadata": {},
   "source": [
    "Per dichiarare una funzione è necessario utilizzare la parola chiave *def* seguita dal nome della funzione, dai paramentri in input all'interno di parentesi tonde e infine dai i due punti (:). La funzione al proprio interno può contenere più istruzioni e/o più *return*. In Python non è necessario dichiarare il tipo della funzione. Come già visto nella lezione 1, l'indentazione è importante!!!"
   ]
  },
  {
   "cell_type": "code",
   "execution_count": 8,
   "metadata": {},
   "outputs": [],
   "source": [
    "# Definizione di Funzione\n"
   ]
  },
  {
   "cell_type": "markdown",
   "metadata": {},
   "source": [
    "Per chiamare una funzione basta semplicente:"
   ]
  },
  {
   "cell_type": "code",
   "execution_count": null,
   "metadata": {},
   "outputs": [],
   "source": []
  },
  {
   "cell_type": "markdown",
   "metadata": {},
   "source": [
    "possiamo anche aggiungere una descrizione alla funzione con la seguente sintassi:"
   ]
  },
  {
   "cell_type": "code",
   "execution_count": null,
   "metadata": {},
   "outputs": [],
   "source": []
  },
  {
   "cell_type": "code",
   "execution_count": null,
   "metadata": {},
   "outputs": [],
   "source": []
  },
  {
   "cell_type": "markdown",
   "metadata": {},
   "source": [
    "### <a id='toc1_1_1_'></a>[Ricorsione](#toc0_)"
   ]
  },
  {
   "cell_type": "markdown",
   "metadata": {},
   "source": [
    "EX: Nella lezione 1 avete visto l'implementazione del calcolo del fattoriale utilizzando i cicli, proviamo a farlo in modo ricorsivo"
   ]
  },
  {
   "cell_type": "code",
   "execution_count": null,
   "metadata": {},
   "outputs": [],
   "source": []
  },
  {
   "cell_type": "markdown",
   "metadata": {},
   "source": [
    "Per completezza:"
   ]
  },
  {
   "cell_type": "code",
   "execution_count": 6,
   "metadata": {},
   "outputs": [
    {
     "data": {
      "text/plain": [
       "3628800"
      ]
     },
     "execution_count": 6,
     "metadata": {},
     "output_type": "execute_result"
    }
   ],
   "source": [
    "import math\n",
    "math.factorial(10)"
   ]
  },
  {
   "cell_type": "markdown",
   "metadata": {},
   "source": [
    "### <a id='toc1_1_2_'></a>[Scope delle variabili](#toc0_)"
   ]
  },
  {
   "cell_type": "markdown",
   "metadata": {},
   "source": [
    "Introduciamo ora il concetto di variabile **locale** e variabile **globale**"
   ]
  },
  {
   "cell_type": "code",
   "execution_count": null,
   "metadata": {},
   "outputs": [],
   "source": []
  },
  {
   "cell_type": "markdown",
   "metadata": {},
   "source": [
    "Come possiamo notare una variabile locale viene \"creata\" e \"distrutta\" all'interno del corpo della funzione, provandovi ad accedere fuori dal corpo della funzione otteniamo un errore"
   ]
  },
  {
   "cell_type": "code",
   "execution_count": null,
   "metadata": {},
   "outputs": [],
   "source": []
  },
  {
   "cell_type": "markdown",
   "metadata": {},
   "source": [
    "Mentre se abbiamo definito una variabile globale non ci risulta poi possibile modificarla all'interno del corpo della funzione. Per modificarla all'interno della funzione possiamo servirci del comando **global**"
   ]
  },
  {
   "cell_type": "code",
   "execution_count": null,
   "metadata": {},
   "outputs": [],
   "source": []
  },
  {
   "cell_type": "markdown",
   "metadata": {},
   "source": [
    "### <a id='toc1_1_3_'></a>[Funzioni anonime](#toc0_)"
   ]
  },
  {
   "cell_type": "markdown",
   "metadata": {},
   "source": [
    "Utilizzate per funzioni piccole. Possono avere come input qualsiasi parametro, mentre in output può ritornare solamente un valore. In questo caso utilizziamo la parola chiave **lambda** e la seguente sintassi"
   ]
  },
  {
   "cell_type": "code",
   "execution_count": 9,
   "metadata": {},
   "outputs": [],
   "source": [
    "#area cerchio (1 param in input)\n",
    "\n",
    "\n",
    "#somma (2 param in input)\n"
   ]
  },
  {
   "cell_type": "markdown",
   "metadata": {},
   "source": [
    "### <a id='toc1_1_4_'></a>[Esercizio sulle funzioni](#toc0_)"
   ]
  },
  {
   "cell_type": "markdown",
   "metadata": {},
   "source": [
    "Scrivere una funzione che riceve in input una lista di numeri e ritorna la sua mediana"
   ]
  },
  {
   "cell_type": "markdown",
   "metadata": {},
   "source": [
    "Per ordinare la lista usare la funzione `lst.sort()`\n",
    "\n",
    "Il comando // esegue la divisione approssimata all'intero troncato, ad esempio 5 // 2 = 2"
   ]
  },
  {
   "cell_type": "code",
   "execution_count": 10,
   "metadata": {},
   "outputs": [],
   "source": [
    "lst = [7, 8, 9, 5, 1, 2, 2, 3, 4, 5]\n",
    "\n",
    "\n"
   ]
  },
  {
   "cell_type": "markdown",
   "metadata": {},
   "source": [
    "## <a id='toc1_2_'></a>[Utilizzo di Librerie](#toc0_)"
   ]
  },
  {
   "cell_type": "markdown",
   "metadata": {},
   "source": [
    "Python fornisce molti moduli nativi che ne estendono le capacità. Esploreremo i moduli `os`, `random` e `itertools`."
   ]
  },
  {
   "cell_type": "markdown",
   "metadata": {},
   "source": [
    "### <a id='toc1_2_1_'></a>[Modulo `os`](#toc0_)"
   ]
  },
  {
   "cell_type": "markdown",
   "metadata": {},
   "source": [
    "Il modulo \"os\" è un potente strumento per lavorare con il sistema operativo. Fornisce funzioni per manipolare directory, file e operazioni relative al sistema."
   ]
  },
  {
   "cell_type": "code",
   "execution_count": null,
   "metadata": {},
   "outputs": [],
   "source": []
  },
  {
   "cell_type": "markdown",
   "metadata": {},
   "source": [
    "La funzione `os.getcwd()` permette di determinare la directory di lavoro corrente del tuo script Python."
   ]
  },
  {
   "cell_type": "code",
   "execution_count": 12,
   "metadata": {},
   "outputs": [],
   "source": [
    "\n",
    "print(f\"Current working directory: {current_directory}\")"
   ]
  },
  {
   "cell_type": "markdown",
   "metadata": {},
   "source": [
    "La funzione `os.listdir()` consente di elencare i file in una directory."
   ]
  },
  {
   "cell_type": "code",
   "execution_count": null,
   "metadata": {},
   "outputs": [],
   "source": []
  },
  {
   "cell_type": "markdown",
   "metadata": {},
   "source": [
    "Puoi creare una nuova directory usando la funzione `os.makedirs()`. Assicurati che la directory non esista già, altrimenti genererà un errore."
   ]
  },
  {
   "cell_type": "code",
   "execution_count": 11,
   "metadata": {},
   "outputs": [],
   "source": [
    "\n",
    "\n",
    "print(f\"Created a new directory: {new_directory}\")"
   ]
  },
  {
   "cell_type": "markdown",
   "metadata": {},
   "source": [
    "A meno che:"
   ]
  },
  {
   "cell_type": "code",
   "execution_count": null,
   "metadata": {},
   "outputs": [],
   "source": []
  },
  {
   "cell_type": "markdown",
   "metadata": {},
   "source": [
    "La funzione `os.path.exists()` permette di verificare se esiste un file o una directory in un determinato percorso."
   ]
  },
  {
   "cell_type": "code",
   "execution_count": null,
   "metadata": {},
   "outputs": [],
   "source": []
  },
  {
   "cell_type": "markdown",
   "metadata": {},
   "source": [
    "### <a id='toc1_2_2_'></a>[Modulo `random`](#toc0_)"
   ]
  },
  {
   "cell_type": "markdown",
   "metadata": {},
   "source": [
    "La libreria Random contiene funzioni che permettono di generare numeri pseudo-casuali da varie distribuzioni\n"
   ]
  },
  {
   "cell_type": "code",
   "execution_count": null,
   "metadata": {},
   "outputs": [],
   "source": []
  },
  {
   "cell_type": "code",
   "execution_count": 13,
   "metadata": {},
   "outputs": [],
   "source": [
    "# Generazione di un numero decimale nell'intervallo [0.0,1.0) da una distribuzione uniforme\n"
   ]
  },
  {
   "cell_type": "code",
   "execution_count": 14,
   "metadata": {},
   "outputs": [],
   "source": [
    "# Due metodi per l'estrazione casuale di un intero in un intervallo arbitrario (nell'esempio, (2,100))\n"
   ]
  },
  {
   "cell_type": "code",
   "execution_count": 15,
   "metadata": {},
   "outputs": [],
   "source": [
    "# Generazione di un numero reale casuale da una distribuzione specifica\n",
    "\n",
    "# Gaussiana di media 5 e varianza 1.5\n",
    "\n",
    "# Esponenziale di parametro 3\n",
    "\n",
    "# Triangolare, di estremi 0 e 2 e moda 1\n"
   ]
  },
  {
   "cell_type": "code",
   "execution_count": 16,
   "metadata": {},
   "outputs": [],
   "source": [
    "# Scelta di un elemento casuale da una sequenza\n",
    "professori = ['Barucci', 'Gregoratti', 'Paganoni', 'Quarteroni', 'Sabadini', 'Salsa', 'Vianello', 'Zunino']\n"
   ]
  },
  {
   "cell_type": "code",
   "execution_count": 17,
   "metadata": {},
   "outputs": [],
   "source": [
    "# Estrazione di più elementi dalla stessa lista\n",
    "professori = ['Barucci', 'Gregoratti', 'Paganoni', 'Quarteroni', 'Sabadini', 'Salsa', 'Vianello', 'Zunino']\n"
   ]
  },
  {
   "cell_type": "markdown",
   "metadata": {},
   "source": [
    "### <a id='toc1_2_3_'></a>[Modulo `itertools`](#toc0_)"
   ]
  },
  {
   "cell_type": "code",
   "execution_count": null,
   "metadata": {},
   "outputs": [],
   "source": []
  },
  {
   "cell_type": "markdown",
   "metadata": {},
   "source": [
    "Prodotto Cartesiano"
   ]
  },
  {
   "cell_type": "code",
   "execution_count": null,
   "metadata": {},
   "outputs": [],
   "source": []
  },
  {
   "cell_type": "code",
   "execution_count": null,
   "metadata": {},
   "outputs": [],
   "source": []
  },
  {
   "cell_type": "code",
   "execution_count": null,
   "metadata": {},
   "outputs": [],
   "source": [
    "# è possibile anche convertire un oggetto iterabile in lista\n"
   ]
  },
  {
   "cell_type": "markdown",
   "metadata": {},
   "source": [
    "Permutazioni"
   ]
  },
  {
   "cell_type": "code",
   "execution_count": null,
   "metadata": {},
   "outputs": [],
   "source": []
  },
  {
   "cell_type": "markdown",
   "metadata": {},
   "source": [
    "Combinazioni"
   ]
  },
  {
   "cell_type": "code",
   "execution_count": null,
   "metadata": {},
   "outputs": [],
   "source": []
  },
  {
   "cell_type": "markdown",
   "metadata": {},
   "source": [
    "Combinazioni con ripetizione"
   ]
  },
  {
   "cell_type": "code",
   "execution_count": null,
   "metadata": {},
   "outputs": [],
   "source": []
  },
  {
   "cell_type": "markdown",
   "metadata": {},
   "source": [
    "### <a id='toc1_2_4_'></a>[Esercizio con `itertools`](#toc0_)"
   ]
  },
  {
   "cell_type": "markdown",
   "metadata": {},
   "source": [
    "Dati 4 interi e un totale, scrivere una funzione per trovare quale combinazione delle 4 operazioni permette di ottenere il totale desiderato"
   ]
  },
  {
   "cell_type": "markdown",
   "metadata": {},
   "source": [
    "Esempio:\n",
    "Input: 9,17,4,3   tot = 36\n",
    "Soluzione: (((17 - 9) + 4) * 3) = 36\n",
    "\n",
    "N.B. non prendiamo in considerazione il caso: (a + b) * (c - d), le operazioni devono essere consecutive"
   ]
  },
  {
   "cell_type": "code",
   "execution_count": null,
   "metadata": {},
   "outputs": [],
   "source": [
    "# questo viene dato\n",
    "def add(a, b):\n",
    "    return a + b\n",
    "\n",
    "def sub(a, b):\n",
    "    return a - b\n",
    "\n",
    "def mult(a, b):\n",
    "    return a * b\n",
    "\n",
    "def div(a, b):\n",
    "    return a / b\n",
    "\n",
    "operations = {'+': add,'-': sub, '*':mult, '/': div}"
   ]
  },
  {
   "cell_type": "code",
   "execution_count": null,
   "metadata": {},
   "outputs": [],
   "source": []
  },
  {
   "cell_type": "code",
   "execution_count": 20,
   "metadata": {},
   "outputs": [],
   "source": [
    "compute_combo(9,17,4,3,tot=36)"
   ]
  },
  {
   "cell_type": "markdown",
   "metadata": {},
   "source": [
    "## <a id='toc1_3_'></a>[Gestione dei File in Python](#toc0_)"
   ]
  },
  {
   "cell_type": "markdown",
   "metadata": {},
   "source": [
    "per me: fai passare i file nella cartella creata"
   ]
  },
  {
   "cell_type": "markdown",
   "metadata": {},
   "source": [
    "### <a id='toc1_3_1_'></a>[Apertura e Chiusura File](#toc0_)"
   ]
  },
  {
   "cell_type": "code",
   "execution_count": 21,
   "metadata": {},
   "outputs": [],
   "source": [
    "# Semplice apertura e chiusura di un file\n"
   ]
  },
  {
   "cell_type": "code",
   "execution_count": 22,
   "metadata": {},
   "outputs": [],
   "source": [
    "# Stampa del nome e della modalità di apertura di un File\n",
    "file = open(nome_file,'r')\n",
    "print(\"Nome file -> \" + file.name)\n",
    "print(\"Modalità in uso -> \" + file.mode)\n",
    "file.close()"
   ]
  },
  {
   "cell_type": "markdown",
   "metadata": {},
   "source": [
    "### <a id='toc1_3_2_'></a>[Lettura da File - Modalità Read](#toc0_)"
   ]
  },
  {
   "cell_type": "code",
   "execution_count": 23,
   "metadata": {},
   "outputs": [],
   "source": [
    "# Lettura Completa del File\n"
   ]
  },
  {
   "cell_type": "code",
   "execution_count": 24,
   "metadata": {},
   "outputs": [],
   "source": [
    "# La funzione readline scorre in automatico le righe di un file\n",
    "\n"
   ]
  },
  {
   "cell_type": "code",
   "execution_count": 25,
   "metadata": {},
   "outputs": [],
   "source": [
    "# Stampa di un file con readlines\n"
   ]
  },
  {
   "cell_type": "markdown",
   "metadata": {},
   "source": [
    "### <a id='toc1_3_3_'></a>[Scrittura su File - Modalità Write e Append](#toc0_)"
   ]
  },
  {
   "cell_type": "code",
   "execution_count": 26,
   "metadata": {},
   "outputs": [],
   "source": [
    "# Creazione di un file tramite Write\n"
   ]
  },
  {
   "cell_type": "code",
   "execution_count": 27,
   "metadata": {},
   "outputs": [],
   "source": [
    "# Scrittura su File in modalità Write\n"
   ]
  },
  {
   "cell_type": "code",
   "execution_count": 28,
   "metadata": {},
   "outputs": [],
   "source": [
    "# Attenzione! Se esiste già il file viene sovrascritto!\n"
   ]
  },
  {
   "cell_type": "code",
   "execution_count": 29,
   "metadata": {},
   "outputs": [],
   "source": [
    "# Per aggiungere cotenuto alla fine si usa la modalità append\n"
   ]
  },
  {
   "cell_type": "code",
   "execution_count": 32,
   "metadata": {},
   "outputs": [],
   "source": [
    "def disegna_pokemon(name):\n",
    "    fileName = \"PokemonArt\"\n",
    "    image = R\"\"\" \"\"\"\n",
    "    file = open(f\"{fileName}.txt\", \"r\")\n",
    "    text = file.readlines()\n",
    "    add = False\n",
    "    for line in text:\n",
    "        if(line.strip() == name):\n",
    "            add = True\n",
    "        elif(add):\n",
    "            if(line.strip() == \"STOP\"):\n",
    "                return image\n",
    "            else:\n",
    "                image += line.rstrip()\n",
    "                image += \"\"\"\\n\"\"\"\n",
    "    return \"Immagine non Trovata\""
   ]
  },
  {
   "cell_type": "code",
   "execution_count": 33,
   "metadata": {},
   "outputs": [],
   "source": [
    "pokemon_names = [\"Bulbasaur\", \"Ivysaur\", \"Venusaur\",\n",
    "              \"Charmander\", \"Charmeleon\", \"Charizard\",\n",
    "              \"Squirtle\", \"Wartortle\", \"Blastoise\"]\n",
    "immagine = disegna_pokemon(pokemon_names[1])\n",
    "print(immagine)"
   ]
  },
  {
   "cell_type": "markdown",
   "metadata": {},
   "source": [
    "### <a id='toc1_3_4_'></a>[Context Managers](#toc0_)"
   ]
  },
  {
   "cell_type": "markdown",
   "metadata": {},
   "source": [
    "I Context Managers consentono di allocare e rilasciare risorse. L'esempio più utilizzato di Context Managers è l'istruzione `with`. Supponiamo di avere due operazioni correlate che desideri eseguire in coppia, con un blocco di codice in mezzo. I Context Managers ti consentono di fare proprio questo. Per esempio:"
   ]
  },
  {
   "cell_type": "code",
   "execution_count": null,
   "metadata": {},
   "outputs": [],
   "source": []
  },
  {
   "cell_type": "code",
   "execution_count": null,
   "metadata": {},
   "outputs": [],
   "source": []
  },
  {
   "cell_type": "markdown",
   "metadata": {},
   "source": [
    "Il codice sopra apre il file, scrive alcuni dati e poi lo chiude. Se si verifica un errore durante la scrittura dei dati nel file, tenta di chiuderlo."
   ]
  },
  {
   "cell_type": "markdown",
   "metadata": {},
   "source": [
    "P.S. per chi non avesse riconosciuto il testo del FileLettura, si tratta della canzone \"Le coppie\" de I cani.\n",
    "\n",
    "Il sottoscritto e tutto il direttivo AIM consigliano fortemente l'ascolto :)\n",
    "\n",
    "https://www.youtube.com/watch?v=pGGletsWJoQ"
   ]
  },
  {
   "cell_type": "markdown",
   "metadata": {},
   "source": [
    "## <a id='toc1_4_'></a>[Error Management](#toc0_)\n",
    "\n",
    "Gli errori sono una parte naturale della programmazione. Python fornisce vari meccanismi per gestire gli errori.\n",
    "\n",
    "Esistono vari tipi di eccezioni (errori che avvengono durante il run del codice): \n",
    "\n",
    "* `ZeroDivisionError`: division by zero\n",
    "* `NameError`: name 'spam' is not defined\n",
    "* `TypeError`: can only concatenate str (not \"int\") to str\n",
    "\n",
    "### <a id='toc1_4_1_'></a>[Try and Except](#toc0_)"
   ]
  },
  {
   "cell_type": "code",
   "execution_count": null,
   "metadata": {},
   "outputs": [],
   "source": []
  },
  {
   "cell_type": "markdown",
   "metadata": {},
   "source": [
    "Possiamo anche vedere il tipo di eccezione che viene sollevata"
   ]
  },
  {
   "cell_type": "code",
   "execution_count": null,
   "metadata": {},
   "outputs": [],
   "source": []
  },
  {
   "cell_type": "code",
   "execution_count": 34,
   "metadata": {},
   "outputs": [],
   "source": [
    "l = [1,2,3,4,5]\n"
   ]
  },
  {
   "cell_type": "markdown",
   "metadata": {},
   "source": [
    "Un'istruzione `try` può avere più di una clausola `except`, per specificare come gestire eccezioni diverse. Verrà eseguito sempre al massimo uno dei casi. \n"
   ]
  },
  {
   "cell_type": "code",
   "execution_count": 35,
   "metadata": {},
   "outputs": [],
   "source": [
    "l = [1,2,3,4,5]\n",
    "a=0\n",
    "\n",
    "\n",
    "print(a)"
   ]
  },
  {
   "cell_type": "code",
   "execution_count": null,
   "metadata": {},
   "outputs": [],
   "source": [
    "while True:\n",
    "    try:\n",
    "        x = int(input(\"Please enter a number: \"))\n",
    "        break\n",
    "    except ValueError:\n",
    "        print(\"Oops!  That was no valid number.  Try again...\")"
   ]
  },
  {
   "cell_type": "markdown",
   "metadata": {},
   "source": [
    "\n",
    "Una clausola `except` può riferirsi a più eccezioni attraverso una tupla, ad esempio:\n",
    "\n",
    "```python\n",
    "except (RuntimeError, TypeError, NameError):\n",
    "    pass\n",
    "```\n",
    "\n",
    "La clausola `except` gestisce tutte le eccezioni, perfino il `Ctrl + C` per fermare l'esecuzione: `KeyboardInterrupt`."
   ]
  },
  {
   "cell_type": "markdown",
   "metadata": {},
   "source": [
    "### <a id='toc1_4_2_'></a>[Raise and Finally](#toc0_)"
   ]
  },
  {
   "cell_type": "markdown",
   "metadata": {},
   "source": [
    "La clausola `raise` permette di forzare un errore."
   ]
  },
  {
   "cell_type": "code",
   "execution_count": null,
   "metadata": {},
   "outputs": [],
   "source": []
  },
  {
   "cell_type": "markdown",
   "metadata": {},
   "source": [
    "Se si chiama la funzione `raise` all'interno di una sezione di eccezione, verrà allegata e inclusa nel messaggio di errore:"
   ]
  },
  {
   "cell_type": "code",
   "execution_count": null,
   "metadata": {},
   "outputs": [],
   "source": []
  },
  {
   "cell_type": "markdown",
   "metadata": {},
   "source": [
    "Se è presente una clausola `finally`, la clausola `finally` verrà eseguita come ultima attività prima del completamento dell'istruzione `try`. La clausola `finally` viene eseguita indipendentemente dal fatto che l'istruzione `try` produca o meno un'eccezione."
   ]
  },
  {
   "cell_type": "code",
   "execution_count": null,
   "metadata": {},
   "outputs": [],
   "source": []
  },
  {
   "cell_type": "markdown",
   "metadata": {},
   "source": [
    "si possono usare anche gli else"
   ]
  },
  {
   "cell_type": "code",
   "execution_count": null,
   "metadata": {},
   "outputs": [],
   "source": [
    "def divide(x, y):\n",
    "    try:\n",
    "        result = x / y\n",
    "    except ZeroDivisionError:\n",
    "        print(\"division by zero!\")\n",
    "    else:\n",
    "        print(\"result is\", result)\n",
    "    finally:\n",
    "        print(\"executing finally clause\")"
   ]
  },
  {
   "cell_type": "code",
   "execution_count": null,
   "metadata": {},
   "outputs": [],
   "source": [
    "divide(2, 1)\n",
    "divide(2, 0)\n",
    "divide(\"2\", \"1\")"
   ]
  },
  {
   "cell_type": "markdown",
   "metadata": {},
   "source": [
    "Il `TypeError` sollevato dividendo due stringhe non viene gestito dalla clausola `except` e pertanto viene sollevato nuovamente dopo che la clausola `finally` è stata eseguita."
   ]
  }
 ],
 "metadata": {
  "kernelspec": {
   "display_name": "Python 3",
   "language": "python",
   "name": "python3"
  },
  "language_info": {
   "codemirror_mode": {
    "name": "ipython",
    "version": 3
   },
   "file_extension": ".py",
   "mimetype": "text/x-python",
   "name": "python",
   "nbconvert_exporter": "python",
   "pygments_lexer": "ipython3",
   "version": "3.11.2"
  }
 },
 "nbformat": 4,
 "nbformat_minor": 2
}
