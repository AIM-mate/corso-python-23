{
 "cells": [
  {
   "cell_type": "markdown",
   "metadata": {},
   "source": [
    "# Object-Oriented Programming (OOP)\n",
    "\n",
    "**Introduction**:\n",
    "\n",
    "Object-Oriented Programming (OOP) is a programming paradigm that represents real-world entities using classes and objects. Classes serve as blueprints while objects are instances of these classes.\n",
    "\n",
    "## 1. Classes and Objects\n",
    "### 1.1 What is an Object?\n",
    "Everything is an object in Python - and has a type.\n",
    "Python supports many kinds of data: "
   ]
  },
  {
   "cell_type": "code",
   "execution_count": null,
   "metadata": {},
   "outputs": [],
   "source": [
    "example_number = 1234\n",
    "print(type(example_number))\n",
    "\n",
    "example_string = 'hello there'\n",
    "print(type(example_string))\n",
    "\n",
    "example_list = [1, 2, 3, 4]\n",
    "print(type(example_list))"
   ]
  },
  {
   "cell_type": "markdown",
   "metadata": {},
   "source": [
    "Each one is an **object**, with a type, and a set of \"instructions\" to interact with it. \n",
    "An object is, in short, an **instance** of a particular class: \n",
    "\n",
    "'hello there' is an _instance_ of _string_\n",
    "\n",
    "\n",
    "Objects are data abstraction to give:\n",
    "- an internal representation through data attributes\n",
    "- an interface for interacting with objects (functions?)\n",
    "\n",
    "### 1.2 What is a Class?\n",
    "A class _is_ a blueprint that encapsulates data and behavior related to a specific entity. \n",
    "Classes make it easy to reuse code by creating different objects (instances of the class).\n"
   ]
  },
  {
   "cell_type": "markdown",
   "metadata": {},
   "source": [
    "Keyword: \"class\": these objects have been instantiated earlier by some class. Example_list has been instantiated by a class named 'list'.\n",
    "\n",
    "A class has two components:\n",
    "- Attributes to store data\n",
    "- Methods to interact and interface with the class"
   ]
  },
  {
   "cell_type": "markdown",
   "metadata": {},
   "source": [
    "### 1.3 Why create a custom class?\n",
    "Let's think about creating a simple game to make Pokemon battle each other. When we think about a Pokemon, we might think about different attributes:"
   ]
  },
  {
   "cell_type": "code",
   "execution_count": null,
   "metadata": {},
   "outputs": [],
   "source": [
    "pokemon = \"Bulbasaur\"\n",
    "pokemon_type = \"Grass\"\n",
    "pokemon_hp = 45\n",
    "pokemon_attack = 49\n",
    "pokemon_bonus = 1"
   ]
  },
  {
   "cell_type": "markdown",
   "metadata": {},
   "source": [
    "These are simple, uncorrelated variables in Python, linked only by their naming convention.\n",
    "There may be different kind of pokemons, and each pokemon could have attributes to describe related information about it: this seems the perfect case to structure a blueprint, our class, to store the information about the Pokemon.\n",
    "\n",
    "---\n",
    "\n",
    "Let's start creating the class.\n",
    "It will be divided into two parts:\n",
    "- Definition and creation of the class\n",
    "- Creation of the object (instantiate objects of the class)\n",
    "\n",
    "\n",
    "### 1.4 Basic syntax\n",
    "This is the syntax to define a class"
   ]
  },
  {
   "cell_type": "code",
   "execution_count": null,
   "metadata": {},
   "outputs": [],
   "source": []
  },
  {
   "cell_type": "markdown",
   "metadata": {},
   "source": [
    "To instantiate an object, we need to call the constructor of the class (more on this later...).\n",
    "\n",
    "To assign class attributes, you can use the syntax class.attribute = ..."
   ]
  },
  {
   "cell_type": "code",
   "execution_count": null,
   "metadata": {},
   "outputs": [],
   "source": []
  },
  {
   "cell_type": "markdown",
   "metadata": {},
   "source": [
    "Now each variable here has been assigned to the instance **pokemon1** of the class **Pokemon**"
   ]
  },
  {
   "cell_type": "code",
   "execution_count": null,
   "metadata": {},
   "outputs": [],
   "source": [
    "print(type(pokemon1))\n",
    "print(type(pokemon1.name))"
   ]
  },
  {
   "cell_type": "markdown",
   "metadata": {},
   "source": [
    "### 1.5 Methods\n",
    "Types such as strings and lists have methods defined: \"processes\" that we can call on objects of classes to modify them or get some information. Methods are just functions defined inside classes.\n",
    "\n",
    "To call a method, we can use the syntax class.method(..)"
   ]
  },
  {
   "cell_type": "code",
   "execution_count": null,
   "metadata": {},
   "outputs": [],
   "source": [
    "example_list = [1, 3, 2, 4]\n",
    "example_list.sort()\n",
    "print(example_list)"
   ]
  },
  {
   "cell_type": "markdown",
   "metadata": {},
   "source": [
    "How can we define a method in our own class?"
   ]
  },
  {
   "cell_type": "code",
   "execution_count": null,
   "metadata": {},
   "outputs": [],
   "source": [
    "class Pokemon:\n",
    "    pass"
   ]
  },
  {
   "cell_type": "markdown",
   "metadata": {},
   "source": [
    "**SELF**\n",
    "---\n",
    "Python **always** passes the object itself as a first argument when a method is called. When defining a method, it is necessary to reserve the first input keyword to the object itself: the naming convention is _self_ (however, you could call it however you like)"
   ]
  },
  {
   "cell_type": "code",
   "execution_count": null,
   "metadata": {},
   "outputs": [],
   "source": [
    "pokemon1 = Pokemon()\n",
    "pokemon1.name = \"Bulbasaur\"\n",
    "pokemon1.type = \"Grass\"\n",
    "pokemon1.hp = 45\n",
    "\n",
    "# "
   ]
  },
  {
   "cell_type": "markdown",
   "metadata": {},
   "source": [
    "Notice that it is not necessary to pass the object itself as the first argument when calling the method: python does it automatically"
   ]
  },
  {
   "cell_type": "markdown",
   "metadata": {},
   "source": [
    "# 2. Dunder methods\n",
    "## 2.1 Init\n",
    "We currently don't have a set of rules for the attributes that we want in order to instantiate objects. For each Pokemon we could have differente attribute naming or attributes.\n",
    "\n",
    "This can be solved by using a special method:"
   ]
  },
  {
   "cell_type": "code",
   "execution_count": null,
   "metadata": {},
   "outputs": [],
   "source": [
    "class Pokemon:\n",
    "    pass"
   ]
  },
  {
   "cell_type": "markdown",
   "metadata": {},
   "source": [
    "It is a **Dunder method** from (D-ouble Under-score). Dunder methods are a class of special methods that have unique properties. In order to use them, you need to use their special names and naming convention.\n",
    "\n",
    "\"__init__\" is also called the \"Constructor\": when you create an instance of a class Python executes the double underscore init function automatically. "
   ]
  },
  {
   "cell_type": "code",
   "execution_count": null,
   "metadata": {},
   "outputs": [],
   "source": []
  },
  {
   "cell_type": "markdown",
   "metadata": {},
   "source": [
    "We can take more input parameters in this function and use them to create the first attributes of our Pokemon class! Thanks to the **Self** keyword, representing the object instantiated, we can dynamically assign an attribute to an instance."
   ]
  },
  {
   "cell_type": "markdown",
   "metadata": {},
   "source": [
    "Of course you can still assign new attributes to a specific instance of the class after it's been instantiated."
   ]
  },
  {
   "cell_type": "code",
   "execution_count": null,
   "metadata": {},
   "outputs": [],
   "source": [
    "class Pokemon:\n",
    "    def __init__(self):\n",
    "        pass"
   ]
  },
  {
   "cell_type": "code",
   "execution_count": null,
   "metadata": {},
   "outputs": [],
   "source": [
    "pokemon1 = Pokemon(\"Bulbasaur\", \"Grass\", 45)\n",
    "#"
   ]
  },
  {
   "cell_type": "code",
   "execution_count": null,
   "metadata": {},
   "outputs": [],
   "source": [
    "print(pokemon1.name)\n",
    "print(pokemon1.type)"
   ]
  },
  {
   "cell_type": "markdown",
   "metadata": {},
   "source": [
    "If some values are note yet known, you can also set default values. It is important that the arguments with default values come after the ones without the default value:"
   ]
  },
  {
   "cell_type": "code",
   "execution_count": null,
   "metadata": {},
   "outputs": [],
   "source": [
    "class Pokemon:\n",
    "    def __init__(self, name, type, hp):\n",
    "        self.name = name\n",
    "        self.type = type\n",
    "        self.hp = hp\n",
    "        print(f\"Creating pokemon {self.name}\")"
   ]
  },
  {
   "cell_type": "markdown",
   "metadata": {},
   "source": [
    "Now we can also modify the previous function to use the instance attributes!\n",
    "This is where **self** comes again into the play: we assign the attributes attack and defense once the instance has been created, so we have access to those attributes."
   ]
  },
  {
   "cell_type": "code",
   "execution_count": null,
   "metadata": {},
   "outputs": [],
   "source": [
    "class Pokemon:\n",
    "    def __init__(self, name, type, hp = 20, attack = 10, bonus = 1):\n",
    "        self.name = name\n",
    "        self.type = type\n",
    "        self.hp = hp\n",
    "        self.attack = attack\n",
    "        self.bonus = bonus\n",
    "        print(f\"Creating pokemon {self.name}\")\n",
    "\n",
    "    #"
   ]
  },
  {
   "cell_type": "code",
   "execution_count": null,
   "metadata": {},
   "outputs": [],
   "source": [
    "pokemon1 = Pokemon(\"Bulbasaur\", \"Grass\", 45)\n",
    "#\n",
    "#\n",
    "#"
   ]
  },
  {
   "cell_type": "markdown",
   "metadata": {},
   "source": [
    "### Never use default names for your variables...\n",
    "Here, we used the type attribute to name the pokemon type, it made sense, right?\n",
    "However, type in python is a keyword used for the \"type()\" function that yields the type of the variable! We used it in the beginning, remember? \n",
    "\n",
    "This is generally a dangerous practice if you don't know what you are doing: it may not be cause of confusion in the beginning, but look at an example\n",
    "\n",
    "Careful also with min, max, sum etc."
   ]
  },
  {
   "cell_type": "code",
   "execution_count": null,
   "metadata": {},
   "outputs": [],
   "source": [
    "numbers = [1, 2, 3, 4]\n",
    "min = min(numbers)\n",
    "\n",
    "min"
   ]
  },
  {
   "cell_type": "code",
   "execution_count": null,
   "metadata": {},
   "outputs": [],
   "source": [
    "numbers2 = [1, 2, 3, 4]\n",
    "min2 = min(numbers2)"
   ]
  },
  {
   "cell_type": "markdown",
   "metadata": {},
   "source": [
    "From now on, we will rename the type in pokemon_type"
   ]
  },
  {
   "cell_type": "markdown",
   "metadata": {},
   "source": [
    "### Typing and Assert\n",
    "Python is both a strongly typed and a dynamically typed language. Strong typing means that variables do have a type and that the type matters when performing operations on a variable. Dynamic typing means that the type of the variable is determined only during runtime: you don't have to specify the type of the variable at declaration time (unlike C).\n",
    "\n",
    "However, it would be good practice to specify the expected type of variables in OOP. Python won't throw you an error but your IDE may warn you if you pass the wrong type."
   ]
  },
  {
   "cell_type": "code",
   "execution_count": null,
   "metadata": {},
   "outputs": [],
   "source": [
    "class Pokemon:\n",
    "    def __init__(self, name, pokemon_type, hp = 20, attack = 10, bonus = 1):\n",
    "        self.name = name\n",
    "        self.pokemon_type = pokemon_type\n",
    "        self.hp = hp\n",
    "        self.attack = attack\n",
    "        self.bonus = bonus\n",
    "        print(f\"Creating pokemon {self.name}\")\n",
    "\n",
    "    def calculate_damage(self):\n",
    "            return self.attack + self.bonus"
   ]
  },
  {
   "cell_type": "markdown",
   "metadata": {},
   "source": [
    "You might also want to validate the received values: for example you would not want a negative hp number. This is done using \"assert\"."
   ]
  },
  {
   "cell_type": "code",
   "execution_count": null,
   "metadata": {},
   "outputs": [],
   "source": [
    "class Pokemon:\n",
    "    def __init__(self, name: str, pokemon_type: str, hp = 20, attack = 10, bonus = 1):\n",
    "        # Validate the received arguments\n",
    "        \n",
    "        # Assign the arguments to the instance variables\n",
    "        self.name = name\n",
    "        self.pokemon_type = pokemon_type\n",
    "        self.hp = hp\n",
    "        self.attack = attack\n",
    "        self.bonus = bonus\n",
    "        print(f\"Creating pokemon {self.name}\")\n",
    "\n",
    "    def calculate_damage(self):\n",
    "            return self.attack + self.bonus"
   ]
  },
  {
   "cell_type": "code",
   "execution_count": null,
   "metadata": {},
   "outputs": [],
   "source": [
    "pokemon1 = Pokemon(\"Bulbasaur\", \"Water\", -1)"
   ]
  },
  {
   "cell_type": "markdown",
   "metadata": {},
   "source": [
    "### Class attributes vs Instance attributes\n",
    "You know how to assign attributes that are specific to a class instance. What if you want to assign attributes that are common accross all instances of the Pokemons?"
   ]
  },
  {
   "cell_type": "code",
   "execution_count": null,
   "metadata": {},
   "outputs": [],
   "source": [
    "class Pokemon:\n",
    "    # A pokemon will take 10% less damage by default\n",
    "\n",
    "    def __init__(self, name: str, pokemon_type: str, hp = 20, attack = 10, bonus = 1):\n",
    "        # Validate the received arguments\n",
    "        assert hp > 0, f\"HP is {hp}, but should be greater or equal to 0\"\n",
    "        assert attack > 0, \"Attack must be greater than 0\"\n",
    "        assert bonus > 0, \"Bonus must be greater than 0\"\n",
    "        assert pokemon_type in [\"Grass\", \"Fire\", \"Water\"], f\"Type {pokemon_type} must be Grass, Fire or Water\"\n",
    "\n",
    "        # Assign the arguments to the instance variables\n",
    "        self.name = name\n",
    "        self.pokemon_type = pokemon_type\n",
    "        self.hp = hp\n",
    "        self.attack = attack\n",
    "        self.bonus = bonus\n",
    "        print(f\"Creating pokemon {self.name}\")\n",
    "\n",
    "    def calculate_damage(self):\n",
    "            return self.attack + self.bonus"
   ]
  },
  {
   "cell_type": "markdown",
   "metadata": {},
   "source": [
    "You can access this class attribute both from the class __and__ from the instance"
   ]
  },
  {
   "cell_type": "code",
   "execution_count": null,
   "metadata": {},
   "outputs": [],
   "source": [
    "pokemon1 = Pokemon(\"Bulbasaur\", \"Water\", 1)\n",
    "#"
   ]
  },
  {
   "cell_type": "code",
   "execution_count": null,
   "metadata": {},
   "outputs": [],
   "source": []
  },
  {
   "cell_type": "markdown",
   "metadata": {},
   "source": [
    "At first python tries to bring the attribute from the instance. If it doesn't find it there, it looks at the class level.\n",
    "\n",
    "There is a built in dunder attribute - not method :) - that you can use to see and list all attributes that belong to an object.\n",
    "Dict takes all the attributes and conver them to a dictionary."
   ]
  },
  {
   "cell_type": "code",
   "execution_count": null,
   "metadata": {},
   "outputs": [],
   "source": []
  },
  {
   "cell_type": "code",
   "execution_count": null,
   "metadata": {},
   "outputs": [],
   "source": []
  },
  {
   "cell_type": "markdown",
   "metadata": {},
   "source": [
    "Now let's try to implement a method that will allow our pokemon to be attacked and apply a discount on the attack received.\n",
    "\n",
    "We also modify the method \"calculate_damage\" in \"damage\", that will take as input another Pokemon and call the apply_damage method on them. Notice that if we specify the other_pokemon type, the method gets highlighted"
   ]
  },
  {
   "cell_type": "code",
   "execution_count": null,
   "metadata": {},
   "outputs": [],
   "source": [
    "class Pokemon:\n",
    "    defense_rate = 0.1 # A pokemon will take 10% less damage by default\n",
    "\n",
    "    def __init__(self, name: str, pokemon_type: str, hp = 20, attack = 10, bonus = 1):\n",
    "        # Validate the received arguments\n",
    "        assert hp > 0, f\"HP is {hp}, but should be greater or equal to 0\"\n",
    "        assert attack > 0, \"Attack must be greater than 0\"\n",
    "        assert bonus > 0, \"Defense must be greater than 0\"\n",
    "        assert pokemon_type in [\"Grass\", \"Fire\", \"Water\"], f\"Type {pokemon_type} must be Grass, Fire or Water\"\n",
    "\n",
    "        # Assign the arguments to the instance variables\n",
    "        self.name = name\n",
    "        self.pokemon_type = pokemon_type\n",
    "        self.hp = hp\n",
    "        self.attack = attack\n",
    "        self.bonus = bonus\n",
    "        print(f\"Creating pokemon {self.name}\")\n",
    "\n",
    "    def calculate_damage(self):\n",
    "            return self.attack + self.bonus"
   ]
  },
  {
   "cell_type": "code",
   "execution_count": null,
   "metadata": {},
   "outputs": [],
   "source": [
    "pokemon1 = Pokemon(\"Bulbasaur\", \"Water\", 10)\n",
    "#\n",
    "#"
   ]
  },
  {
   "cell_type": "markdown",
   "metadata": {},
   "source": [
    "Some pokemon may be stronger and you'd want to assign a higher defense_rate to that particular pokemon instance."
   ]
  },
  {
   "cell_type": "code",
   "execution_count": null,
   "metadata": {},
   "outputs": [],
   "source": [
    "pokemon2 = Pokemon(\"Charmander\", \"Fire\", 10)\n"
   ]
  },
  {
   "cell_type": "code",
   "execution_count": null,
   "metadata": {},
   "outputs": [],
   "source": [
    "pokemon1.apply_damage(5) # Should still receive 0.9*5 = 4.5 damage\n"
   ]
  },
  {
   "cell_type": "markdown",
   "metadata": {},
   "source": [
    "This is because in the definition of the method apply_damage, we accessed defense_rate from instance level! self.defense_rate. If we accessed from Class level, what would happen?\n",
    "\n",
    "---"
   ]
  },
  {
   "cell_type": "markdown",
   "metadata": {},
   "source": [
    "## 2.2 `__repr__` and `__str__`\n",
    "It would also be nice to keep track of all the instances of Pokemon currently created and available"
   ]
  },
  {
   "cell_type": "code",
   "execution_count": null,
   "metadata": {},
   "outputs": [],
   "source": [
    "class Pokemon:\n",
    "    defense_rate = 0.1 # A pokemon will take 10% less damage by default\n",
    "    #\n",
    "\n",
    "    def __init__(self, name: str, pokemon_type: str, hp = 20, attack = 10, bonus = 1):\n",
    "        # Validate the received arguments\n",
    "        assert hp > 0, f\"HP is {hp}, but should be greater or equal to 0\"\n",
    "        assert attack > 0, \"Attack must be greater than 0\"\n",
    "        assert bonus > 0, \"Bonus must be greater than 0\"\n",
    "        assert pokemon_type in [\"Grass\", \"Fire\", \"Water\"], f\"Type {pokemon_type} must be Grass, Fire or Water\"\n",
    "\n",
    "        # Assign the arguments to the instance variables\n",
    "        self.name = name\n",
    "        self.pokemon_type = pokemon_type\n",
    "        self.hp = hp\n",
    "        self.attack = attack\n",
    "        self.bonus = bonus\n",
    "        print(f\"Creating pokemon {self.name}\")\n",
    "\n",
    "        # Add the pokemon to the list of all pokemons\n",
    "        #\n",
    "    \n",
    "    def damage(self, other_pokemon: Pokemon):\n",
    "            other_pokemon.apply_damage(self.attack + self.bonus)\n",
    "    \n",
    "    def apply_damage(self, damage):\n",
    "        self.hp -= damage * (1 - self.defense_rate)"
   ]
  },
  {
   "cell_type": "code",
   "execution_count": null,
   "metadata": {},
   "outputs": [],
   "source": [
    "pokemon1 = Pokemon(\"Bulbasaur\", \"Water\", 10)\n",
    "pokemon2 = Pokemon(\"Charmander\", \"Fire\", 10)\n",
    "pokemon3 = Pokemon(\"Squirtle\", \"Water\", 10)"
   ]
  },
  {
   "cell_type": "code",
   "execution_count": null,
   "metadata": {},
   "outputs": [],
   "source": []
  },
  {
   "cell_type": "code",
   "execution_count": null,
   "metadata": {},
   "outputs": [],
   "source": []
  },
  {
   "cell_type": "markdown",
   "metadata": {},
   "source": [
    "We would like to print the Pokemon name to represent our Pokemon object. This is possible in Python thanks to another Dunder method!"
   ]
  },
  {
   "cell_type": "code",
   "execution_count": null,
   "metadata": {},
   "outputs": [],
   "source": [
    "class Pokemon:\n",
    "    defense_rate = 0.1 # A pokemon will take 10% less damage by default\n",
    "    all = []\n",
    "\n",
    "    def __init__(self, name: str, pokemon_type: str, hp = 20, attack = 10, bonus = 1):\n",
    "        # Validate the received arguments\n",
    "        assert hp > 0, f\"HP is {hp}, but should be greater or equal to 0\"\n",
    "        assert attack > 0, \"Attack must be greater than 0\"\n",
    "        assert bonus > 0, \"Defense must be greater than 0\"\n",
    "        assert pokemon_type in [\"Grass\", \"Fire\", \"Water\"], f\"Type {pokemon_type} must be Grass, Fire or Water\"\n",
    "\n",
    "        # Assign the arguments to the instance variables\n",
    "        self.name = name\n",
    "        self.pokemon_type = pokemon_type\n",
    "        self.hp = hp\n",
    "        self.attack = attack\n",
    "        self.bonus = bonus\n",
    "        print(f\"Creating pokemon {self.name}\")\n",
    "\n",
    "        # Add the pokemon to the list of all pokemons\n",
    "        Pokemon.all.append(self)\n",
    "\n",
    "    def damage(self, other_pokemon: Pokemon):\n",
    "            other_pokemon.apply_damage(self.attack + self.bonus)\n",
    "    \n",
    "    def apply_damage(self, damage):\n",
    "        self.hp -= damage * (1 - self.defense_rate)\n",
    "\n",
    "    #"
   ]
  },
  {
   "cell_type": "markdown",
   "metadata": {},
   "source": [
    "It is a good practice to represent the object in a similar manner to how it is called to be instantiated."
   ]
  },
  {
   "cell_type": "code",
   "execution_count": null,
   "metadata": {},
   "outputs": [],
   "source": [
    "pokemon1 = Pokemon(\"Bulbasaur\", \"Water\", 10)\n",
    "pokemon2 = Pokemon(\"Charmander\", \"Fire\", 10)\n",
    "pokemon3 = Pokemon(\"Squirtle\", \"Water\", 10)\n",
    "\n",
    "print(Pokemon.all)"
   ]
  },
  {
   "cell_type": "markdown",
   "metadata": {},
   "source": [
    "What is the difference between repr and str?\n",
    "- `__repr__` goal is to be unambiguous\n",
    "- `__str__` goal is to be readable\n",
    "\n",
    "if __repr__ is defined, and __str__ is not, the object will behave as though __str__=__repr__.\n",
    "This means, in simple terms: almost every object you implement should have a functional __repr__ that’s usable for understanding the object. Implementing __str__ is optional: do that if you need a “pretty print” functionality."
   ]
  },
  {
   "cell_type": "markdown",
   "metadata": {},
   "source": [
    "Let's try to implement a pretty `__str__` method. Remember what you did last lesson?"
   ]
  },
  {
   "cell_type": "code",
   "execution_count": null,
   "metadata": {},
   "outputs": [],
   "source": [
    "def disegna_pokemon(name):\n",
    "    fileName = \"PokemonArt\"\n",
    "    image = R\"\"\" \"\"\"\n",
    "    file = open(f\"{fileName}.txt\", \"r\")\n",
    "    text = file.readlines()\n",
    "    add = False\n",
    "    for line in text:\n",
    "        if(line.strip() == name):\n",
    "            add = True\n",
    "        elif(add):\n",
    "            if(line.strip() == \"STOP\"):\n",
    "                return image\n",
    "            else:\n",
    "                image += line.rstrip()\n",
    "                image += \"\"\"\\n\"\"\"\n",
    "    return \"Immagine non Trovata\""
   ]
  },
  {
   "cell_type": "code",
   "execution_count": null,
   "metadata": {},
   "outputs": [],
   "source": [
    "print(disegna_pokemon(\"Bulbasaur\"))"
   ]
  },
  {
   "cell_type": "code",
   "execution_count": null,
   "metadata": {},
   "outputs": [],
   "source": [
    "class Pokemon:\n",
    "    defense_rate = 0.1 # A pokemon will take 10% less damage by default\n",
    "    all = []\n",
    "\n",
    "    def __init__(self, name: str, pokemon_type: str, hp = 20, attack = 10, bonus = 1):\n",
    "        # Validate the received arguments\n",
    "        assert hp > 0, f\"HP is {hp}, but should be greater or equal to 0\"\n",
    "        assert attack > 0, \"Attack must be greater than 0\"\n",
    "        assert bonus > 0, \"Bonus must be greater than 0\"\n",
    "        assert pokemon_type in [\"Grass\", \"Fire\", \"Water\"], f\"Type {pokemon_type} must be Grass, Fire or Water\"\n",
    "\n",
    "        # Assign the arguments to the instance variables\n",
    "        self.name = name\n",
    "        self.pokemon_type = pokemon_type\n",
    "        self.hp = hp\n",
    "        self.attack = attack\n",
    "        self.bonus = bonus\n",
    "        print(f\"Creating pokemon {self.name}\")\n",
    "\n",
    "        # Add the pokemon to the list of all pokemons\n",
    "        Pokemon.all.append(self)\n",
    "\n",
    "    def damage(self, other_pokemon: Pokemon):\n",
    "            other_pokemon.apply_damage(self.attack + self.bonus)\n",
    "    \n",
    "    def apply_damage(self, damage):\n",
    "        self.hp -= damage * (1 - self.defense_rate)\n",
    "\n",
    "    def __repr__(self):\n",
    "        return f\"Pokemon(name='{self.name}', pokemon_type='{self.pokemon_type}', hp={self.hp})\"\n",
    "\n",
    "    #"
   ]
  },
  {
   "cell_type": "code",
   "execution_count": null,
   "metadata": {},
   "outputs": [],
   "source": [
    "pokemon1 = Pokemon(\"Bulbasaur\", \"Water\", 10)"
   ]
  },
  {
   "cell_type": "code",
   "execution_count": null,
   "metadata": {},
   "outputs": [],
   "source": [
    "pokemon1"
   ]
  },
  {
   "cell_type": "code",
   "execution_count": null,
   "metadata": {},
   "outputs": [],
   "source": []
  },
  {
   "cell_type": "code",
   "execution_count": null,
   "metadata": {},
   "outputs": [],
   "source": [
    "pokemon2 = Pokemon(\"Charmander\", \"Fire\", 10)"
   ]
  },
  {
   "cell_type": "markdown",
   "metadata": {},
   "source": [
    "This is not really good practice - in terms of readability. But it's cool! :)"
   ]
  },
  {
   "cell_type": "markdown",
   "metadata": {},
   "source": [
    "## 2.3 Other dunder methods\n",
    "While there are many dunder methods, we'll cover some of the most frequently used ones here:\n",
    "\n",
    "1. `__init__(self, ...)`: Constructor method called when an object is created. It initializes attributes.\n",
    "\n",
    "2. `__str__(self)`: Returns a user-friendly string representation of the object. Used by `print()` and `str()`.\n",
    "\n",
    "3. `__repr__(self)`: Returns an unambiguous string representation of the object, ideally one that could be used to recreate the object. Used by built-in function `repr()` and by the interpreter in a REPL session.\n",
    "\n",
    "4. `__len__(self)`: Returns the \"length\" of the object. Used by built-in function `len()`.\n",
    "\n",
    "5. `__getitem__(self, key)`: Allows access to elements using the `obj[key]` notation.\n",
    "\n",
    "6. `__setitem__(self, key, value)`: Allows setting elements using the `obj[key] = value` notation.\n",
    "\n",
    "7. `__delitem__(self, key)`: Allows deleting elements using the `del obj[key]` notation.\n",
    "\n",
    "8. `__add__(self, other)`: Defines behavior for addition using the `+` operator.\n",
    "\n",
    "9. `__sub__(self, other)`: Defines behavior for subtraction using the `-` operator.\n",
    "\n",
    "10. `__eq__(self, other)`: Used to compare two objects for equality using `==`.\n",
    "\n",
    "... and many more.\n",
    "\n",
    "Some dunder methods are implictly defined if you don't specifiy one (`__eq__(self, other)` compares the objects themselves).\n",
    "Other, such as `__add__(self, other)` are not.\n",
    "\n",
    "Since they don't make much sense in this context, we wont' be implementing them in our final class. Just to give you an idea let's create a temporary class:"
   ]
  },
  {
   "cell_type": "code",
   "execution_count": null,
   "metadata": {},
   "outputs": [],
   "source": [
    "class PokemonTemp:\n",
    "    def __init__(self, name: str, pokemon_type: str, hp = 20, attack = 10, bonus = 1):\n",
    "        # Assign the arguments to the instance variables\n",
    "        self.name = name\n",
    "        self.pokemon_type = pokemon_type\n",
    "        self.hp = hp\n",
    "        self.attack = attack\n",
    "        self.defense = bonus\n",
    "        print(f\"Creating pokemon {self.name}\")\n",
    " \n",
    "    def __eq__(self, other):\n",
    "        return self.name == other.name and self.pokemon_type == other.pokemon_type"
   ]
  },
  {
   "cell_type": "markdown",
   "metadata": {},
   "source": [
    "In this class two pokemons are equal if they have same name and type, regardless of hp, attack, defense.\n",
    "In our default class, since we don't have `__eq__(self, other)` specified, == verifies that the two objects compared are a reference to the same object - it's bascially verifying the identity."
   ]
  },
  {
   "cell_type": "code",
   "execution_count": null,
   "metadata": {},
   "outputs": [],
   "source": [
    "pokemon1 = PokemonTemp(\"Bulbasaur\", \"Water\", 10)\n",
    "pokemon2 = PokemonTemp(\"Bulbasaur\", \"Water\", 50)\n",
    "\n",
    "pokemon1 == pokemon2"
   ]
  },
  {
   "cell_type": "code",
   "execution_count": null,
   "metadata": {},
   "outputs": [],
   "source": [
    "pokemon1_standard = Pokemon(\"Bulbasaur\", \"Water\", 50)\n",
    "pokemon2_standard = Pokemon(\"Bulbasaur\", \"Water\", 50)\n",
    "\n",
    "pokemon1_standard == pokemon2_standard"
   ]
  },
  {
   "cell_type": "markdown",
   "metadata": {},
   "source": [
    "## 3. Class methods\n",
    "It's becoming kind of tiring to define each time the new pokemon... what if we could read them from a database?\n",
    "\n",
    "Introducing CSV (comma separated values) files. Let's create one!"
   ]
  },
  {
   "cell_type": "code",
   "execution_count": null,
   "metadata": {},
   "outputs": [],
   "source": [
    "csv = \"\"\"name,pokemon_type,hp,attack,bonus\n",
    "Bulbasaur,Grass,45,49,1\n",
    "Charmander,Fire,39,52,2\n",
    "Squirtle,Water,44,48,1\n",
    "Charizard,Fire,78,84,2\n",
    "\"\"\""
   ]
  },
  {
   "cell_type": "code",
   "execution_count": null,
   "metadata": {},
   "outputs": [],
   "source": [
    "#save the csv string into a file\n",
    "with open(\"pokemon.csv\", \"w\") as file:\n",
    "    file.write(csv)"
   ]
  },
  {
   "cell_type": "markdown",
   "metadata": {},
   "source": [
    "How can we read the data and instantiate more quickly from this database?\n",
    "\n",
    "One idea would be to add a method to our class to read from our CSV.\n",
    "\n",
    "But remember, the methods always takes the instance itself as a first argument. But we want this method to work **before** we have created any instance of our class, because this method is actually designed for instantiating!\n",
    "\n",
    "The solution is to use a **class method**: a method that can be accessed from the class level only!\n",
    "In order to convert this method to a class method we need to use what is called a \"decorator\": decorators are a way to change the behaviour of a functions that we write and are called before the defining line with the character '@'"
   ]
  },
  {
   "cell_type": "code",
   "execution_count": null,
   "metadata": {},
   "outputs": [],
   "source": [
    "import csv\n",
    "class Pokemon:\n",
    "    defense_rate = 0.1 # A pokemon will take 10% less damage by default\n",
    "    all = []\n",
    "\n",
    "    def __init__(self, name: str, pokemon_type: str, hp = 20, attack = 10, bonus = 1):\n",
    "        # Validate the received arguments\n",
    "        assert hp > 0, f\"HP is {hp}, but should be greater or equal to 0\"\n",
    "        assert attack > 0, \"Attack must be greater than 0\"\n",
    "        assert bonus > 0, \"Defense must be greater than 0\"\n",
    "        assert pokemon_type in [\"Grass\", \"Fire\", \"Water\"], f\"Type {pokemon_type} must be Grass, Fire or Water\"\n",
    "\n",
    "        # Assign the arguments to the instance variables\n",
    "        self.name = name\n",
    "        self.pokemon_type = pokemon_type\n",
    "        self.hp = hp\n",
    "        self.attack = attack\n",
    "        self.bonus = bonus\n",
    "        print(f\"Creating pokemon {self.name}\")\n",
    "\n",
    "        # Add the pokemon to the list of all pokemons\n",
    "        Pokemon.all.append(self)\n",
    "\n",
    "    def damage(self, other_pokemon: Pokemon):\n",
    "            other_pokemon.apply_damage(self.attack + self.bonus)\n",
    "    \n",
    "    def apply_damage(self, damage):\n",
    "        self.hp -= damage * (1 - self.defense_rate)\n",
    "\n",
    "    ##\n",
    "\n",
    "    def __repr__(self):\n",
    "        return f\"Pokemon(name='{self.name}', pokemon_type='{self.pokemon_type}', hp={self.hp})\"\n",
    "    \n",
    "    def __str__(self):\n",
    "        return f\"Pokemon {self.name}\" + \"\\n\" + disegna_pokemon(self.name)"
   ]
  },
  {
   "cell_type": "markdown",
   "metadata": {},
   "source": [
    "You can see that the class method still receives a first parameter: this time it is called \"cls\" (class). The class object itself is passed as a parameter (so `Pokemon` and not an instance `pokemon1 = Pokemon(...)`)"
   ]
  },
  {
   "cell_type": "code",
   "execution_count": null,
   "metadata": {},
   "outputs": [],
   "source": []
  },
  {
   "cell_type": "markdown",
   "metadata": {},
   "source": [
    "Now let's modify the code to instantiate them"
   ]
  },
  {
   "cell_type": "code",
   "execution_count": null,
   "metadata": {},
   "outputs": [],
   "source": [
    "import csv\n",
    "class Pokemon:\n",
    "    defense_rate = 0.1 # A pokemon will take 10% less damage by default\n",
    "    all = []\n",
    "\n",
    "    def __init__(self, name: str, pokemon_type: str, hp = 20, attack = 10, bonus = 1):\n",
    "        # Validate the received arguments\n",
    "        assert hp > 0, f\"HP is {hp}, but should be greater or equal to 0\"\n",
    "        assert attack > 0, \"Attack must be greater than 0\"\n",
    "        assert bonus > 0, \"Bonus must be greater than 0\"\n",
    "        assert pokemon_type in [\"Grass\", \"Fire\", \"Water\"], f\"Type {pokemon_type} must be Grass, Fire or Water\"\n",
    "\n",
    "        # Assign the arguments to the instance variables\n",
    "        self.name = name\n",
    "        self.pokemon_type = pokemon_type\n",
    "        self.hp = hp\n",
    "        self.attack = attack\n",
    "        self.bonus = bonus\n",
    "        print(f\"Creating pokemon {self.name}\")\n",
    "\n",
    "        # Add the pokemon to the list of all pokemons\n",
    "        Pokemon.all.append(self)\n",
    "\n",
    "    def damage(self, other_pokemon: Pokemon):\n",
    "            other_pokemon.apply_damage(self.attack + self.bonus)\n",
    "    \n",
    "    def apply_damage(self, damage):\n",
    "        self.hp -= damage * (1 - self.defense_rate)\n",
    "\n",
    "    @classmethod\n",
    "    def instantiate_from_csv(cls):\n",
    "        with open(\"pokemon.csv\", \"r\") as file:\n",
    "            reader = csv.DictReader(file)\n",
    "            items = list(reader)\n",
    "        \n",
    "        for item in items:\n",
    "            pass\n",
    "    \n",
    "\n",
    "    def __repr__(self):\n",
    "        return f\"Pokemon(name='{self.name}', pokemon_type='{self.pokemon_type}', hp={self.hp})\"\n",
    "    \n",
    "    def __str__(self):\n",
    "        return f\"Pokemon {self.name}\" + \"\\n\" + disegna_pokemon(self.name)"
   ]
  },
  {
   "cell_type": "code",
   "execution_count": null,
   "metadata": {},
   "outputs": [],
   "source": [
    "Pokemon.instantiate_from_csv()\n",
    "print(Pokemon.all)"
   ]
  },
  {
   "cell_type": "code",
   "execution_count": null,
   "metadata": {},
   "outputs": [],
   "source": [
    "pokemon1, pokemon2, pokemon3, pokemon4 = Pokemon.all\n",
    "pokemon1"
   ]
  },
  {
   "cell_type": "markdown",
   "metadata": {},
   "source": [
    "So class methods should also do something that has a relationship with the class, but usually, they are used to manipulate different structures of data to instantiate objects, like we have done with CSV."
   ]
  },
  {
   "cell_type": "markdown",
   "metadata": {},
   "source": [
    "# 4. Inheritance"
   ]
  },
  {
   "cell_type": "code",
   "execution_count": null,
   "metadata": {},
   "outputs": [],
   "source": [
    "pokemon2"
   ]
  },
  {
   "cell_type": "code",
   "execution_count": null,
   "metadata": {},
   "outputs": [],
   "source": [
    "pokemon4"
   ]
  },
  {
   "cell_type": "markdown",
   "metadata": {},
   "source": [
    "Notice that these two pokemon represents both pokemon of the same type, fire, which may share similar additional characteristics common to all fire types of pokemon (weaknesses? strengths? fire attacks?)\n",
    "\n",
    "These are Pokemons but also have additional characteristics common only to the Fire type. We can create new separate class that inherit all the functionalities of the `Pokemon` class and define new additional behaviours!\n",
    "\n",
    "This is how inheritance works in Python: let's define a **child** class that inherits from a parent class **pokemon**"
   ]
  },
  {
   "cell_type": "code",
   "execution_count": null,
   "metadata": {},
   "outputs": [],
   "source": []
  },
  {
   "cell_type": "code",
   "execution_count": null,
   "metadata": {},
   "outputs": [],
   "source": []
  },
  {
   "cell_type": "markdown",
   "metadata": {},
   "source": [
    "Let's start by defining this init very similar to the parent class.\n",
    "\n",
    "We add one more attribute, the fire_attack, peculiar to the FirePokemon class.\n",
    "\n",
    "---\n",
    "\n",
    "## 4.1 `super()`\n",
    "Ideally, we would want to still use the constructor of the parent class, and call it to store the base Pokemon attributes, and add only the new attributes that are missing.\n",
    "\n",
    "The super function allows us to directly access to all the attributes and methods of the parent function."
   ]
  },
  {
   "cell_type": "code",
   "execution_count": null,
   "metadata": {},
   "outputs": [],
   "source": [
    "class FirePokemon(Pokemon):\n",
    "    all = []\n",
    "\n",
    "    def __init__(self, name: str, hp = 20, attack = 10, bonus = 1, fire_attack = 10):\n",
    "        self.name = name #\n",
    "        self.hp = hp #\n",
    "        self.attack = attack #\n",
    "        self.bonus = bonus #\n",
    "\n",
    "        # Specify the attributes that are specific to the FirePokemon class\n",
    "        assert fire_attack > 0, \"Fire attack must be greater than 0\"\n",
    "        self.fire_attack = fire_attack\n",
    "\n",
    "        # Add the pokemon to the list of all fire pokemons\n",
    "        FirePokemon.all.append(self)"
   ]
  },
  {
   "cell_type": "code",
   "execution_count": null,
   "metadata": {},
   "outputs": [],
   "source": [
    "pokemon1 = FirePokemon(\"Charmander\", -1, 10, 1, 15)"
   ]
  },
  {
   "cell_type": "code",
   "execution_count": null,
   "metadata": {},
   "outputs": [],
   "source": [
    "pokemon1 = FirePokemon(\"Charmander\", 20, 10, 1, 15)"
   ]
  },
  {
   "cell_type": "code",
   "execution_count": null,
   "metadata": {},
   "outputs": [],
   "source": [
    "print(pokemon1.fire_attack)\n",
    "print(pokemon1.pokemon_type)\n",
    "\n",
    "FirePokemon.defense_rate"
   ]
  },
  {
   "cell_type": "markdown",
   "metadata": {},
   "source": [
    "You can access seamlessly both the parent class and the child class attributes and methods!\n",
    "\n",
    "How is All handled?"
   ]
  },
  {
   "cell_type": "code",
   "execution_count": null,
   "metadata": {},
   "outputs": [],
   "source": [
    "pokemon2 = FirePokemon(\"Charizard\", 30, 10, 1, 20)\n",
    "pokemon3 = Pokemon(\"Bulbasaur\", \"Grass\", 20, 1, 10)"
   ]
  },
  {
   "cell_type": "code",
   "execution_count": null,
   "metadata": {},
   "outputs": [],
   "source": [
    "FirePokemon.all"
   ]
  },
  {
   "cell_type": "code",
   "execution_count": null,
   "metadata": {},
   "outputs": [],
   "source": [
    "Pokemon.all"
   ]
  },
  {
   "cell_type": "markdown",
   "metadata": {},
   "source": [
    "Pokemon and FirePokemon have two different \"all\" lists that are created. Notice that when calling the FirePokemon.all, the ``__repr__`` used is still the one in the parent class, since we have not defined any new repr in the child."
   ]
  },
  {
   "cell_type": "markdown",
   "metadata": {},
   "source": [
    "## 4.2 Encapsulation\n",
    "Right now we could call:\n",
    "\n",
    "``pokemon1.hp = -4``\n",
    "\n",
    "and any user could change the hp of the pokemon, its name or else without too much control over what values are admissible, and what behaviour is allowed or not.\n",
    "\n",
    "Modifying this behaviour to restrict the access to attributes and methods in our program is called \"encapsulation\". \n",
    "\n",
    "---\n",
    "\n",
    "The first way to create a read-only attribute is through the use of the decorator ``@property``"
   ]
  },
  {
   "cell_type": "code",
   "execution_count": null,
   "metadata": {},
   "outputs": [],
   "source": [
    "# Example\n",
    "\n",
    "class UselessClass():\n",
    "    pass"
   ]
  },
  {
   "cell_type": "code",
   "execution_count": null,
   "metadata": {},
   "outputs": [],
   "source": []
  },
  {
   "cell_type": "markdown",
   "metadata": {},
   "source": [
    "How can we make it work to turn our pokemon name in a read-only attribute?\n",
    "\n",
    "- We can't just define a new \"@property def name\" since we assign the name in the ``__init__``! It would be forbidden\n",
    "- The way to follow here is to use \"private\" and \"public\" attributes: in Python putting the __ in front of an attribute (or a method) makes it private: in this way you prevent the access to this attribute **outside** of the class. NB: you can still access to the private method within the class!!"
   ]
  },
  {
   "cell_type": "code",
   "execution_count": null,
   "metadata": {},
   "outputs": [],
   "source": [
    "import csv\n",
    "\n",
    "class Pokemon:\n",
    "    defense_rate = 0.1 # A pokemon will take 10% less damage by default\n",
    "    all = []\n",
    "\n",
    "    def __init__(self, name: str, pokemon_type: str, hp = 20, attack = 10, bonus = 1):\n",
    "        # Validate the received arguments\n",
    "        assert hp > 0, f\"HP is {hp}, but should be greater or equal to 0\"\n",
    "        assert attack > 0, \"Attack must be greater than 0\"\n",
    "        assert bonus > 0, \"Bonus must be greater than 0\"\n",
    "\n",
    "        # Assign the arguments to the instance variables\n",
    "        self.name = name ##\n",
    "        self.pokemon_type = pokemon_type\n",
    "        self.hp = hp\n",
    "        self.attack = attack\n",
    "        self.bonus = bonus\n",
    "        print(f\"Creating pokemon {self.name}\")\n",
    "\n",
    "        # Add the pokemon to the list of all pokemons\n",
    "        Pokemon.all.append(self)\n",
    "\n",
    "    #\n",
    "\n",
    "    def damage(self, other_pokemon: Pokemon):\n",
    "            other_pokemon.apply_damage(self.attack + self.bonus)\n",
    "    \n",
    "    def apply_damage(self, damage):\n",
    "        self.hp -= damage * (1 - self.defense_rate)\n",
    "\n",
    "    @classmethod\n",
    "    def instantiate_from_csv(cls):\n",
    "        with open(\"pokemon.csv\", \"r\") as file:\n",
    "            reader = csv.DictReader(file)\n",
    "            items = list(reader)\n",
    "        \n",
    "        for item in items:\n",
    "            Pokemon(\n",
    "                name = item[\"name\"],\n",
    "                pokemon_type = item[\"pokemon_type\"],\n",
    "                hp = int(item[\"hp\"]), \n",
    "                attack = int(item[\"attack\"]),\n",
    "                bonus = int(item[\"bonus\"])\n",
    "            )  \n",
    "\n",
    "    def __repr__(self):\n",
    "        return f\"Pokemon(name='{self.name}', pokemon_type='{self.pokemon_type}', hp={self.hp})\"\n",
    "    \n",
    "    def __str__(self):\n",
    "        return f\"Pokemon {self.name}\" + \"\\n\" + disegna_pokemon(self.name)"
   ]
  },
  {
   "cell_type": "code",
   "execution_count": null,
   "metadata": {},
   "outputs": [],
   "source": [
    "pokemon1 = Pokemon(\"Bulbasaur\", \"Grass\", 10)\n",
    "pokemon1.name"
   ]
  },
  {
   "cell_type": "code",
   "execution_count": null,
   "metadata": {},
   "outputs": [],
   "source": []
  },
  {
   "cell_type": "code",
   "execution_count": null,
   "metadata": {},
   "outputs": [],
   "source": []
  },
  {
   "cell_type": "markdown",
   "metadata": {},
   "source": [
    "We can use a new method to set a new value for this name!"
   ]
  },
  {
   "cell_type": "code",
   "execution_count": null,
   "metadata": {},
   "outputs": [],
   "source": [
    "import csv\n",
    "\n",
    "class Pokemon:\n",
    "    defense_rate = 0.1 # A pokemon will take 10% less damage by default\n",
    "    all = []\n",
    "\n",
    "    def __init__(self, name: str, pokemon_type: str, hp = 20, attack = 10, bonus = 1):\n",
    "        # Validate the received arguments\n",
    "        assert hp > 0, f\"HP is {hp}, but should be greater or equal to 0\"\n",
    "        assert attack > 0, \"Attack must be greater than 0\"\n",
    "        assert bonus > 0, \"Bonus must be greater than 0\"\n",
    "\n",
    "        # Assign the arguments to the instance variables\n",
    "        self.__name = name\n",
    "        self.pokemon_type = pokemon_type\n",
    "        self.hp = hp\n",
    "        self.attack = attack\n",
    "        self.bonus = bonus\n",
    "        print(f\"Creating pokemon {self.name}\")\n",
    "\n",
    "        # Add the pokemon to the list of all pokemons\n",
    "        Pokemon.all.append(self)\n",
    "\n",
    "    @property\n",
    "    def name(self):\n",
    "        return self.__name\n",
    "    \n",
    "    #\n",
    "\n",
    "    def damage(self, other_pokemon: Pokemon):\n",
    "            other_pokemon.apply_damage(self.attack + self.bonus)\n",
    "    \n",
    "    def apply_damage(self, damage):\n",
    "        self.hp -= damage * (1 - self.defense_rate)\n",
    "\n",
    "    @classmethod\n",
    "    def instantiate_from_csv(cls):\n",
    "        with open(\"pokemon.csv\", \"r\") as file:\n",
    "            reader = csv.DictReader(file)\n",
    "            items = list(reader)\n",
    "        \n",
    "        for item in items:\n",
    "            Pokemon(\n",
    "                name = item[\"name\"],\n",
    "                pokemon_type = item[\"pokemon_type\"],\n",
    "                hp = int(item[\"hp\"]), \n",
    "                attack = int(item[\"attack\"]),\n",
    "                defense = int(item[\"defense\"])\n",
    "            ) \n",
    "\n",
    "    def __repr__(self):\n",
    "        return f\"Pokemon(name='{self.name}', pokemon_type='{self.pokemon_type}', hp={self.hp})\"\n",
    "    \n",
    "    def __str__(self):\n",
    "        return f\"Pokemon {self.name}\" + \"\\n\" + disegna_pokemon(self.name)"
   ]
  },
  {
   "cell_type": "code",
   "execution_count": null,
   "metadata": {},
   "outputs": [],
   "source": [
    "pokemon1 = Pokemon(\"Bulbasaur\", \"Grass\", 10)\n",
    "print(pokemon1.name)\n",
    "\n",
    "#"
   ]
  },
  {
   "cell_type": "markdown",
   "metadata": {},
   "source": [
    "# 4.3 Structuring the code\n",
    "\n",
    "We have a pretty good idea of the tools at our disposal. Now it's time to structure the code into files and think how to actually abstract the data and methods into classes!\n",
    "\n",
    "Indeed, you can't really do serious OOP in a Jupyter Notebook!"
   ]
  },
  {
   "cell_type": "markdown",
   "metadata": {},
   "source": [
    "### Class Pokemon\n",
    "\n",
    "**Attributes**\n",
    "- Name\n",
    "- HP\n",
    "- base_attack_strenght\n",
    "- All (class attribute)\n",
    "\n",
    "**Methods**\n",
    "- base_attack\n",
    "- receive_attack\n",
    "- die"
   ]
  },
  {
   "cell_type": "markdown",
   "metadata": {},
   "source": [
    "### Class {Type}Pokemon {Type}: Fire, Water, Grass\n",
    "\n",
    "**Attributes**\n",
    "- special_attack_strength\n",
    "- fire_defense\n",
    "- water_defense\n",
    "- grass_defence\n",
    "\n",
    "**Methods**\n",
    "- special_attack"
   ]
  },
  {
   "cell_type": "code",
   "execution_count": null,
   "metadata": {},
   "outputs": [],
   "source": [
    "from pokemon import Pokemon\n",
    "from type_pokemon import FirePokemon, WaterPokemon, GrassPokemon\n",
    "from battle import Battle\n",
    "\n",
    "if __name__ == \"__main__\":\n",
    "    # Create instances of two pokemons\n",
    "    charmander = FirePokemon(name=\"Charmander\", hp=39, base_attack_strength=7)\n",
    "    squirtle = WaterPokemon(name=\"Squirtle\", hp=44, base_attack_strength=5)\n",
    "\n",
    "    # Create a Battle instance with the two Pokemon\n",
    "    battle = Battle(pokemon1=charmander, pokemon2=squirtle)\n",
    "    \n",
    "    # Run the battle\n",
    "    battle.run()\n"
   ]
  },
  {
   "cell_type": "markdown",
   "metadata": {},
   "source": []
  }
 ],
 "metadata": {
  "kernelspec": {
   "display_name": "Python 3 (ipykernel)",
   "language": "python",
   "name": "python3"
  },
  "language_info": {
   "codemirror_mode": {
    "name": "ipython",
    "version": 3
   },
   "file_extension": ".py",
   "mimetype": "text/x-python",
   "name": "python",
   "nbconvert_exporter": "python",
   "pygments_lexer": "ipython3",
   "version": "3.11.3"
  }
 },
 "nbformat": 4,
 "nbformat_minor": 4
}
