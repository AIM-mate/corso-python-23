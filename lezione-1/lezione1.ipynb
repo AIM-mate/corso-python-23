{
 "cells": [
  {
   "cell_type": "markdown",
   "metadata": {},
   "source": [
    "# Lezione 1: basi di Python e strutture dati\n",
    "\n",
    "![Python](assets/python.gif)\n",
    "## Il nostro primissimo programma"
   ]
  },
  {
   "cell_type": "code",
   "execution_count": null,
   "metadata": {},
   "outputs": [
    {
     "name": "stdout",
     "output_type": "stream",
     "text": [
      "Hello World!\n"
     ]
    }
   ],
   "source": [
    "# questo è un commento\n",
    "print(\"Hello World!\")\n"
   ]
  },
  {
   "cell_type": "markdown",
   "metadata": {},
   "source": [
    "Adesso potete dire a tutti i vostri amichetti che sapete programmare in Python! \n",
    "Il corso è finito, andate in pace. Congratulazioni!\n",
    "\n",
    "![congratulazioni](assets/congratulations.gif)\n",
    "\n",
    "## Come creare e assegnare una variabile"
   ]
  },
  {
   "cell_type": "code",
   "execution_count": 2,
   "metadata": {},
   "outputs": [
    {
     "name": "stdout",
     "output_type": "stream",
     "text": [
      "Hello All!\n"
     ]
    }
   ],
   "source": [
    "# cambiamo la frase\n",
    "frase = \"Hello All!\"\n",
    "print(frase)\n"
   ]
  },
  {
   "cell_type": "markdown",
   "metadata": {},
   "source": [
    "Parliamo un attimo di nomenclatura e nomi di variabili:\n",
    "- non possono iniziare con un numero\n",
    "- non possono contenere spazi\n",
    "- non possono contenere caratteri speciali come !, $, %, ecc.\n",
    "- non possono essere uguali a parole riservate del linguaggio (come if, else, ecc.).\n",
    "- quando il nome è composto da più parole, si usa la notazione snake_case (cioè con gli underscore tra le parole) e non il camelCase (cioè con la prima lettera di ogni parola maiuscola).\n",
    "\n",
    "Per vedere una lista completa delle parole riservate, digitare in una cella di codice:"
   ]
  },
  {
   "cell_type": "code",
   "execution_count": 3,
   "metadata": {},
   "outputs": [
    {
     "name": "stdout",
     "output_type": "stream",
     "text": [
      "['False', 'None', 'True', 'and', 'as', 'assert', 'async', 'await', 'break', 'class', 'continue', 'def', 'del', 'elif', 'else', 'except', 'finally', 'for', 'from', 'global', 'if', 'import', 'in', 'is', 'lambda', 'nonlocal', 'not', 'or', 'pass', 'raise', 'return', 'try', 'while', 'with', 'yield']\n"
     ]
    }
   ],
   "source": [
    "import keyword\n",
    "print(keyword.kwlist)\n"
   ]
  },
  {
   "cell_type": "code",
   "execution_count": 4,
   "metadata": {},
   "outputs": [],
   "source": [
    "#pass = 59\n"
   ]
  },
  {
   "cell_type": "markdown",
   "metadata": {},
   "source": [
    "![danger](assets/Im-in-danger.gif)"
   ]
  },
  {
   "cell_type": "markdown",
   "metadata": {},
   "source": [
    "\n",
    "**NOTA BENE**: ci sono altre parole speciali, per esempio i nomi dei tipi\n",
    "di dati built-in, come int, float, str, list, dict, set, tuple, ecc. o di funzioni di base come print, len, ecc.  che però il compilatore non riconosce come parole riservate.\n",
    "Questi sono comunque nomi\n",
    "che non possono essere usati come nomi di variabili o funzioni, altrimenti\n",
    "andranno a sovrascrivere il significato originale e possono causare errori.\n",
    "\n",
    "Per esempio:\n",
    "```python\n",
    "print = 'Ciao'\n",
    "print(print)\n",
    "```\n",
    "Adesso ho perso per tutta l'esecuzione la funzione `print` e non la recupererò finché non riavvio il kernel.\n",
    "In altre parole: So cazzi!\n"
   ]
  },
  {
   "cell_type": "markdown",
   "metadata": {},
   "source": [
    "\n",
    "![](assets/been-there-done-that.gif)"
   ]
  },
  {
   "cell_type": "markdown",
   "metadata": {},
   "source": [
    "### Assegnazione multipla (la rivedremo poi)"
   ]
  },
  {
   "cell_type": "code",
   "execution_count": 5,
   "metadata": {},
   "outputs": [
    {
     "name": "stdout",
     "output_type": "stream",
     "text": [
      "1 2\n",
      "2 1\n"
     ]
    }
   ],
   "source": [
    "a, b = 1, 2\n",
    "print(a, b)\n",
    "# scambio di variabili\n",
    "a, b = b, a\n",
    "print(a, b)\n"
   ]
  },
  {
   "cell_type": "markdown",
   "metadata": {},
   "source": [
    "## Variabili di base\n",
    "Python è un linguaggi 'dynamically typed' cioè non è necessario dichiarare il tipo di variabile che si sta creando. Il tipo viene assegnato automaticamente in base al valore che viene assegnato alla variabile. Per vedere il tipo di una variabile, usiamo la funzione type()."
   ]
  },
  {
   "cell_type": "code",
   "execution_count": 6,
   "metadata": {},
   "outputs": [
    {
     "name": "stdout",
     "output_type": "stream",
     "text": [
      "<class 'int'>\n",
      "<class 'float'>\n",
      "<class 'bool'>\n",
      "<class 'str'>\n",
      "<class 'str'>\n",
      "<class 'str'>\n"
     ]
    }
   ],
   "source": [
    "# interi\n",
    "a = 1\n",
    "print(type(a))\n",
    "# float\n",
    "a = 1.5\n",
    "print(type(a))\n",
    "# booleani\n",
    "a = True\n",
    "print(type(a))\n",
    "# stringhe, no worries le rivedremo dopo!\n",
    "a = \"ciao\"\n",
    "print(type(a))\n",
    "a = 'ciao'\n",
    "print(type(a))\n",
    "a = \"\"\"Multas per gentes et multa per aequora vectus,\n",
    "advenio has miseras, frater, ad inferias,\n",
    "ut te postremo donarem munere mortis\n",
    "et mutam nequiquam alloquerer cinerem.\n",
    "Quandoquidem fortuna mihi tete abstulit ipsum,\n",
    "hey miser indigne frater adempte mihi!\"\"\"\n",
    "print(type(a))\n"
   ]
  },
  {
   "cell_type": "markdown",
   "metadata": {},
   "source": [
    "iome vedete le stringhe possono essere dichiarate sia con le virgolette singole\n",
    "che con quelle doppie. Questo è utile se abbiamo bisogno di usare le virgolette\n",
    "all'interno della stringa stessa. Con le triple virgolette possiamo creare\n",
    "stringhe multilinea.\n",
    "In Python non esiste il tipo char, ma una stringa di un solo carattere è\n",
    "comunque una stringa.\n",
    " \n",
    "Ma soprattuto non ci siamo mai dovuti porre il problema di dichiarare il tipo\n",
    "di una variabile.\n",
    "\n",
    "![no-problem](assets/no-problem.gif)"
   ]
  },
  {
   "cell_type": "markdown",
   "metadata": {},
   "source": [
    "### Castare una variabile in un altro tipo"
   ]
  },
  {
   "cell_type": "code",
   "execution_count": 7,
   "metadata": {},
   "outputs": [
    {
     "name": "stdout",
     "output_type": "stream",
     "text": [
      "<class 'float'>\n",
      "3\n",
      "<class 'int'>\n"
     ]
    }
   ],
   "source": [
    "p = 3.14\n",
    "print(type(p))\n",
    "p = int(p)\n",
    "print(p) # sempre arrontondato per difetto\n",
    "print(type(p))\n"
   ]
  },
  {
   "cell_type": "markdown",
   "metadata": {},
   "source": [
    "Che poi questo è il vero valore di $\\pi$. Lo stesso processo si può fare con tutti gli altri tipi.\n",
    "\n",
    "Fate però attenzione, non tutte le conversioni sono possibili.\n",
    "Per esempio, non è possibile convertire una stringa in un numero se la stringa non rappresenta un\n",
    "numero. La conversione deve avere senso da un punto di vista logico.\n",
    "\n",
    "In particolare sono molto importanti le conversioni a booleano, che vedremo\n",
    "più avanti."
   ]
  },
  {
   "cell_type": "markdown",
   "metadata": {},
   "source": [
    "## Operatori\n",
    "Bene, abbiamo visto un po' di tipi di dati, ma come possiamo manipolarli?\n",
    "Python ci mette a disposizione una serie di operatori aritmetici e di\n",
    "confronto che ci permettono di fare operazioni matematiche e di confrontare\n",
    "i valori delle variabili.\n",
    "\n",
    "### Operatori aritmetici (int e float)"
   ]
  },
  {
   "cell_type": "code",
   "execution_count": 8,
   "metadata": {},
   "outputs": [
    {
     "name": "stdout",
     "output_type": "stream",
     "text": [
      "5\n",
      "-1\n",
      "6\n",
      "0.6666666666666666\n",
      "0\n",
      "2\n",
      "8\n"
     ]
    }
   ],
   "source": [
    "x = 2\n",
    "y = 3\n",
    "print(x + y)\n",
    "print(x - y)\n",
    "print(x * y)\n",
    "print(x / y) # divisione reale\n",
    "print(x // y) # divisione intera\n",
    "print(x % y) # resto\n",
    "print(x ** y) # potenza\n"
   ]
  },
  {
   "cell_type": "markdown",
   "metadata": {},
   "source": [
    "Piccola nota a margine: state attenti a non usare mai l'operatore `^`  per fare\n",
    "le potenze. Questo operatore in Python è usato per fare l'operazione di XOR\n",
    "bitwise, che non ci interessa. Per fare le potenze usiamo l'operatore `**`."
   ]
  },
  {
   "cell_type": "code",
   "execution_count": 9,
   "metadata": {},
   "outputs": [
    {
     "name": "stdout",
     "output_type": "stream",
     "text": [
      "1\n"
     ]
    }
   ],
   "source": [
    "print(x ^ y) # xor\n"
   ]
  },
  {
   "cell_type": "markdown",
   "metadata": {},
   "source": [
    "![da-fuq](assets/da-fuq.gif)"
   ]
  },
  {
   "cell_type": "markdown",
   "metadata": {},
   "source": [
    "Per la gioia di tutti voi esistono anche le versioni \"cortocircuitate\" di questi operatori, che permettono di modificare il valore di una variabile in un solo passaggio."
   ]
  },
  {
   "cell_type": "code",
   "execution_count": 10,
   "metadata": {},
   "outputs": [
    {
     "name": "stdout",
     "output_type": "stream",
     "text": [
      "4\n"
     ]
    }
   ],
   "source": [
    "x *= 2\n",
    "print(x)\n"
   ]
  },
  {
   "cell_type": "markdown",
   "metadata": {},
   "source": [
    "![bet-you-like-that](assets/bet-you-like-that.gif)"
   ]
  },
  {
   "cell_type": "markdown",
   "metadata": {},
   "source": [
    "### Operatori di confronto (int e float)\n",
    "Il valore restituito da un operatore di confronto è un booleano, cioè un valore\n",
    "che può essere vero o falso."
   ]
  },
  {
   "cell_type": "code",
   "execution_count": 11,
   "metadata": {},
   "outputs": [
    {
     "name": "stdout",
     "output_type": "stream",
     "text": [
      "True\n",
      "False\n",
      "True\n",
      "False\n",
      "False\n",
      "True\n",
      "False\n"
     ]
    }
   ],
   "source": [
    "print(x > y)\n",
    "print(x < y)\n",
    "print(x >= y)\n",
    "print(x <= y)\n",
    "print(x == y)\n",
    "print(x != y)\n",
    "y = 2\n",
    "print(x is y)\n"
   ]
  },
  {
   "cell_type": "markdown",
   "metadata": {},
   "source": [
    "L'operatore `is` è un operatore di confronto che verifica se due variabili\n",
    "puntano allo stesso oggetto. In altre parole controlla se due oggetti occupano la stessa posizione in memoria.\n",
    "Questo torna molto utile per fare il confronto fra due oggetti."
   ]
  },
  {
   "cell_type": "code",
   "execution_count": 12,
   "metadata": {},
   "outputs": [
    {
     "name": "stdout",
     "output_type": "stream",
     "text": [
      "False\n"
     ]
    }
   ],
   "source": [
    "y = 1.5\n",
    "x = 1.5\n",
    "print(x is y)\n"
   ]
  },
  {
   "cell_type": "markdown",
   "metadata": {},
   "source": [
    "Python alloca gli interi sempre nello stesso spazio di memoria, quindi\n",
    "due interi uguali sono sempre lo stesso oggetto. Questo non succede per i float e per le stringhe."
   ]
  },
  {
   "cell_type": "markdown",
   "metadata": {},
   "source": [
    "### Operatori logici (bool)\n",
    "Ci sono poi gli operatori logici, che ci permettono di combinare più condizioni\n",
    "booleane. Gli operatori logici sono `and`, `or` e `not`."
   ]
  },
  {
   "cell_type": "code",
   "execution_count": 13,
   "metadata": {},
   "outputs": [
    {
     "name": "stdout",
     "output_type": "stream",
     "text": [
      "True\n",
      "True\n",
      "False\n",
      "False\n"
     ]
    }
   ],
   "source": [
    "x, y = 2, 3\n",
    "print(x > 0 and y > 0)\n",
    "print(x > 2 or y > 2)\n",
    "print(not (x > 0)) # per sicurezza, wrappare con parentesi\n",
    "print(not (x > 0 and y > 0))\n"
   ]
  },
  {
   "cell_type": "markdown",
   "metadata": {},
   "source": [
    "Quando si usano questi operatori con valori non-booleani, Python è abbastanza flessibile e considera\n",
    "`0` come `False`, mentre tutti gli altri numeri sono considerati `True`."
   ]
  },
  {
   "cell_type": "code",
   "execution_count": 14,
   "metadata": {},
   "outputs": [
    {
     "name": "stdout",
     "output_type": "stream",
     "text": [
      "2\n",
      "True\n"
     ]
    }
   ],
   "source": [
    "print((x>0) and x) # True viene convertito in 1\n",
    "print(x>0 or 0)\n"
   ]
  },
  {
   "cell_type": "markdown",
   "metadata": {},
   "source": [
    "Ultima osservazione, Python valuta le espessioni logiche da sinistra a destra\n",
    "e si ferma appena può. Per esempio, se abbiamo un `and` e il primo valore è\n",
    "`False`, Python non valuta il secondo valore, perché sa già che il risultato\n",
    "dell'operazione sarà `False`."
   ]
  },
  {
   "cell_type": "code",
   "execution_count": 15,
   "metadata": {},
   "outputs": [
    {
     "name": "stdout",
     "output_type": "stream",
     "text": [
      "False\n"
     ]
    }
   ],
   "source": [
    "x = 2\n",
    "y = 0\n",
    "print(x < 0 and x/y > 0)\n",
    "#print(x > 0 and x/y > 0)\n"
   ]
  },
  {
   "cell_type": "markdown",
   "metadata": {},
   "source": [
    "![ah-shit](assets/ah-shit.gif)"
   ]
  },
  {
   "cell_type": "markdown",
   "metadata": {},
   "source": [
    "## Liste e tuple\n",
    "\n",
    "### Liste\n",
    "\n",
    "Una lista è semplicemente una sequenza di valori.\n",
    "In python le liste possono contenere oggetti di tipo diverso e non hanno una lunghezza predefinita.\n",
    "Possiamo accedere e modificare gli elementi di una lista usando l'indice, che inizia da 0."
   ]
  },
  {
   "cell_type": "code",
   "execution_count": 16,
   "metadata": {},
   "outputs": [
    {
     "name": "stdout",
     "output_type": "stream",
     "text": [
      "<class 'list'>\n",
      "[1, 'ciao', 3.14, True]\n"
     ]
    }
   ],
   "source": [
    "l = list() # lista vuota\n",
    "l = [] # lista vuota\n",
    "print(type(l))\n",
    "l = [0, 2, 3]\n",
    "l = [1, \"ciao\", 3.14, True]\n",
    "l[0] = 1\n",
    "print(l)\n"
   ]
  },
  {
   "cell_type": "markdown",
   "metadata": {},
   "source": [
    "![spongebob-lista](assets/spongebob-list.gif)"
   ]
  },
  {
   "cell_type": "markdown",
   "metadata": {},
   "source": [
    "Per modificare una lista possiamo usare i seguenti metodi:"
   ]
  },
  {
   "cell_type": "code",
   "execution_count": 17,
   "metadata": {},
   "outputs": [
    {
     "name": "stdout",
     "output_type": "stream",
     "text": [
      "[1, 2, 3, 2, 5]\n",
      "5\n",
      "1\n",
      "[2, 3]\n",
      "[3, 2]\n",
      "[3, 2]\n"
     ]
    }
   ],
   "source": [
    "l = [1, 3, 2]\n",
    "# aggiungo un elemento alla fine della lista\n",
    "l.append(5)\n",
    "# aggiungo un elemento in posizione\n",
    "l.insert(1, 2)\n",
    "print(l)\n",
    "# rimuovo un elemento\n",
    "l.remove(2)\n",
    "# rimuovo un elemento (l'ultimo di default) e lo ritorno\n",
    "print(l.pop())\n",
    "print(l.pop(0))\n",
    "\n",
    "# ordino la lista\n",
    "l.sort()\n",
    "print(l)\n",
    "# oppure sorted(l) che ritorna una nuova lista\n",
    "l.reverse()\n",
    "print(l)\n",
    "\n",
    "# lista finale\n",
    "print(l)\n"
   ]
  },
  {
   "cell_type": "markdown",
   "metadata": {},
   "source": [
    "Ci sono inoltre alcune utili funzioni per lavorare con le liste:"
   ]
  },
  {
   "cell_type": "code",
   "execution_count": 18,
   "metadata": {},
   "outputs": [
    {
     "name": "stdout",
     "output_type": "stream",
     "text": [
      "Lunghezza: 2\n",
      "Minimo: 2\n",
      "Massimo: 3\n",
      "Somma: 5\n"
     ]
    }
   ],
   "source": [
    "print(\"Lunghezza:\", len(l))\n",
    "print(\"Minimo:\", min(l))\n",
    "print(\"Massimo:\", max(l))\n",
    "print(\"Somma:\", sum(l))\n"
   ]
  },
  {
   "cell_type": "markdown",
   "metadata": {},
   "source": [
    "Si può castare un oggetto non lista in una lista usando la funzione `list`"
   ]
  },
  {
   "cell_type": "code",
   "execution_count": 19,
   "metadata": {},
   "outputs": [
    {
     "name": "stdout",
     "output_type": "stream",
     "text": [
      "[0, 1, 2, 3, 4, 5, 6, 7, 8, 9]\n"
     ]
    }
   ],
   "source": [
    "print(list(range(10)))\n"
   ]
  },
  {
   "cell_type": "markdown",
   "metadata": {},
   "source": [
    "### Operatori di liste\n",
    "Per le liste possiamo usare l'operatore `+` per concatenare (unire) due liste e `*` per ripetere una lista.\n",
    "Possiamo anche usare l'operatore `==` per verificare l'uguaglianza."
   ]
  },
  {
   "cell_type": "code",
   "execution_count": 20,
   "metadata": {},
   "outputs": [
    {
     "name": "stdout",
     "output_type": "stream",
     "text": [
      "[1, 2, 3, 4, 5, 6]\n",
      "[1, 2, 3, 1, 2, 3, 1, 2, 3]\n",
      "True\n",
      "True\n",
      "False\n"
     ]
    }
   ],
   "source": [
    "l1 = [1, 2, 3]\n",
    "l2 = [4, 5, 6]\n",
    "\n",
    "# concatenazione\n",
    "l3 = l1 + l2\n",
    "print(l3)\n",
    "\n",
    "# ripetizione\n",
    "l4 = l1 * 3\n",
    "print(l4)\n",
    "\n",
    "# uguaglianza\n",
    "print(l1 == [1, 2, 3])\n",
    "# maggioranza\n",
    "print(l1 > [1, 2, 2]) # da evitare\n",
    "# identità\n",
    "print(l1 is [1, 2, 3])\n"
   ]
  },
  {
   "cell_type": "markdown",
   "metadata": {},
   "source": [
    "Infine possiamo verificare se un elemento (o più) è presente nella lista usando l'operatore `in`"
   ]
  },
  {
   "cell_type": "code",
   "execution_count": 21,
   "metadata": {},
   "outputs": [
    {
     "name": "stdout",
     "output_type": "stream",
     "text": [
      "True\n",
      "True\n"
     ]
    }
   ],
   "source": [
    "print(1 in l1)\n",
    "print(4 not in l1)\n"
   ]
  },
  {
   "cell_type": "markdown",
   "metadata": {},
   "source": [
    "### Copie e raddoppiamento\n",
    "Attenzione, quando in python assegniamo una lista ad un'altra stiamo assegnando lo stesso spazio in memoria a entrambi i nomi."
   ]
  },
  {
   "cell_type": "code",
   "execution_count": 22,
   "metadata": {},
   "outputs": [
    {
     "name": "stdout",
     "output_type": "stream",
     "text": [
      "True\n"
     ]
    }
   ],
   "source": [
    "l2 = l1\n",
    "print(l1 is l2)\n"
   ]
  },
  {
   "cell_type": "markdown",
   "metadata": {},
   "source": [
    "Attenzione: Se modifico `l2` modifico anche `l1`"
   ]
  },
  {
   "cell_type": "code",
   "execution_count": 23,
   "metadata": {},
   "outputs": [
    {
     "name": "stdout",
     "output_type": "stream",
     "text": [
      "[1, 2, 3]\n",
      "[0, 2, 3]\n"
     ]
    }
   ],
   "source": [
    "print(l1)\n",
    "l2[0] = 0\n",
    "print(l1)\n"
   ]
  },
  {
   "cell_type": "markdown",
   "metadata": {},
   "source": [
    "![dont-like-that](assets/dont-like-that.gif)"
   ]
  },
  {
   "cell_type": "markdown",
   "metadata": {},
   "source": [
    "Serve usare la funzione `copy`, o `deepcopy` se la lista è annidata."
   ]
  },
  {
   "cell_type": "code",
   "execution_count": 24,
   "metadata": {},
   "outputs": [
    {
     "name": "stdout",
     "output_type": "stream",
     "text": [
      "[0, 2, 3]\n",
      "[0, 2, 3]\n"
     ]
    }
   ],
   "source": [
    "print(l1)\n",
    "l2 = l1.copy()\n",
    "l2[0] = 1\n",
    "print(l1)\n"
   ]
  },
  {
   "cell_type": "markdown",
   "metadata": {},
   "source": [
    "### Slicing e indici\n",
    "Non solo posso accedere agli elementi della lista tramite gli indici, ma usando lo slicing posso accedere anche a particolari sottoinsiemi della lista stessa.\n",
    "Posso anche usare indici negativi, che mi permettono di accedere agli elementi della lista partendo dalla fine. -1 è l'ultimo elemento, -2 il penultimo, ecc.\n",
    "La sintassi dello slicing è:\n",
    "```python\n",
    "lista[start:stop:step]\n",
    "```"
   ]
  },
  {
   "cell_type": "code",
   "execution_count": 25,
   "metadata": {},
   "outputs": [
    {
     "name": "stdout",
     "output_type": "stream",
     "text": [
      "3\n",
      "2\n",
      "[2]\n",
      "[3, 2]\n",
      "[2, 3]\n",
      "[3]\n"
     ]
    }
   ],
   "source": [
    "# primo elemento\n",
    "print(l[0])\n",
    "# ultimo elemento\n",
    "print(l[-1])\n",
    "# dal secondo elemento in poi\n",
    "print(l[1:])\n",
    "# dal primo elemento al terzo\n",
    "print(l[:3])\n",
    "# al contrario\n",
    "print(l[::-1])\n",
    "# ogni due elementi\n",
    "print(l[::2])\n"
   ]
  },
  {
   "cell_type": "markdown",
   "metadata": {},
   "source": [
    "Questa sintassi è uno dei punti forti di Python e permette un sacco di libertà nello scrivere codice.\n",
    "Poter usare indici negativi, vi assicuro che è particolarmente comodo."
   ]
  },
  {
   "cell_type": "markdown",
   "metadata": {},
   "source": [
    "E con questo possiamo togliere le liste dalla nostra lista (per ora...)"
   ]
  },
  {
   "cell_type": "markdown",
   "metadata": {},
   "source": [
    "![lists-done](assets/lists-done.gif)"
   ]
  },
  {
   "cell_type": "markdown",
   "metadata": {},
   "source": [
    "# Tuple\n",
    "Una tupla è una sequenza di valori separati da virgole. La tupla è immutabile, cioè non posso modificare i valori che contiene. Per accedere agli elementi della tupla si usa la stessa sintassi delle liste."
   ]
  },
  {
   "cell_type": "code",
   "execution_count": 26,
   "metadata": {},
   "outputs": [
    {
     "name": "stdout",
     "output_type": "stream",
     "text": [
      "<class 'tuple'>\n",
      "(0, 2, 3)\n"
     ]
    }
   ],
   "source": [
    "t = tuple() # tupla vuota\n",
    "t = () # tupla vuota\n",
    "print(type(t))\n",
    "t = (0, 2, 3)\n",
    "#t[0] = 1 # errore\n",
    "print(t)\n"
   ]
  },
  {
   "cell_type": "markdown",
   "metadata": {},
   "source": [
    "Probabilmente creerete raramente delle tuple da soli, ma spesso le funzioni restituiscono tuple,\n",
    "quindi è importante saperle usare.\n",
    "Inoltre, a differenza delle liste le tuple possono usare"
   ]
  },
  {
   "cell_type": "markdown",
   "metadata": {},
   "source": [
    "\n",
    "![cool-beans](assets/cool-beans.gif)"
   ]
  },
  {
   "cell_type": "markdown",
   "metadata": {},
   "source": [
    "## Dizionari\n",
    "I dizionari sono strutture dati della seguente forma:\n",
    "```python\n",
    "dizionario = {\n",
    "    chiave1: valore1,\n",
    "    chiave2: valore2,\n",
    "    chiave3: valore3,\n",
    "    ...\n",
    "}\n",
    "```\n",
    "In altre parole sono delle hashmap, cioè delle strutture dati che permettono di associare ad una chiave un valore."
   ]
  },
  {
   "cell_type": "code",
   "execution_count": 27,
   "metadata": {},
   "outputs": [
    {
     "name": "stdout",
     "output_type": "stream",
     "text": [
      "<class 'dict'>\n"
     ]
    }
   ],
   "source": [
    "d = dict() # dizionario vuoto\n",
    "d = {} # dizionario vuoto\n",
    "\n",
    "d = {\n",
    "    \"nome\": \"Mario\",\n",
    "    \"cognome\": \"Rossi\",\n",
    "    \"eta\": 30\n",
    "}\n",
    "print(type(d))\n"
   ]
  },
  {
   "cell_type": "markdown",
   "metadata": {},
   "source": [
    "Molti dei metodi che abbiamo visto applicati alle liste si possono applicare anche ai dizionari."
   ]
  },
  {
   "cell_type": "code",
   "execution_count": 28,
   "metadata": {},
   "outputs": [
    {
     "name": "stdout",
     "output_type": "stream",
     "text": [
      "Mario\n",
      "{'nome': 'Mario', 'cognome': 'Rossi', 'eta': 30, 'sesso': 'M'}\n",
      "{'nome': 'Mario', 'cognome': 'Rossi', 'eta': 31, 'sesso': 'M'}\n",
      "{'nome': 'Mario', 'cognome': 'Rossi', 'sesso': 'M'}\n",
      "None\n",
      "0\n"
     ]
    }
   ],
   "source": [
    "# accesso\n",
    "print(d[\"nome\"])\n",
    "# aggiunta\n",
    "d[\"sesso\"] = \"M\"\n",
    "print(d)\n",
    "# modifica\n",
    "d[\"eta\"] = 31\n",
    "print(d)\n",
    "# rimozione (funziona anche con pop)\n",
    "del d[\"eta\"]\n",
    "print(d)\n",
    "# accesso sicuro\n",
    "print(d.get(\"eta\"))\n",
    "# accesso sicuro con default\n",
    "print(d.get(\"eta\", 0))\n"
   ]
  },
  {
   "cell_type": "markdown",
   "metadata": {},
   "source": [
    "Come per le liste possiamo usare l'operatore `in` per verificare se una chiave è presente nel dizionario e la funzione `len` per verificare la lunghezza del dizionario.\n",
    "Anche l'operatore `==` funziona allo stesso modo.\n",
    "\n",
    "Diversamente dalle liste, i dizionari non sono ordinati, quindi non possiamo usare indici per accedere agli elementi. Possiamo però usare le chiavi e possiamo manipolare direttaente le chiavi e i valori usando i metodi `keys`, `values` e `items`."
   ]
  },
  {
   "cell_type": "code",
   "execution_count": 34,
   "metadata": {},
   "outputs": [
    {
     "name": "stdout",
     "output_type": "stream",
     "text": [
      "Chiavi: dict_keys(['nome', 'cognome', 'sesso'])\n",
      "Valori: dict_values(['Mario', 'Rossi', 'M'])\n",
      "Elementi: dict_items([('nome', 'Mario'), ('cognome', 'Rossi'), ('sesso', 'M')])\n"
     ]
    }
   ],
   "source": [
    "print(\"Chiavi:\", d.keys())\n",
    "print(\"Valori:\", d.values())\n",
    "print(\"Elementi:\", d.items())\n"
   ]
  },
  {
   "cell_type": "markdown",
   "metadata": {},
   "source": [
    "Come vedete gli elementi vengono restituiti sotto forma di tuple.\n"
   ]
  },
  {
   "cell_type": "markdown",
   "metadata": {},
   "source": [
    "![dictionaries-done](assets/dictionaries-done.gif)"
   ]
  },
  {
   "cell_type": "markdown",
   "metadata": {},
   "source": [
    "## Cicli for e conditional statements\n",
    "Adesso che abbiamo introdotto le liste, possiamo parlare dei cicli for. I cicli for sono un modo per iterare su una sequenza di valori. La sintassi è la seguente:\n",
    "```python\n",
    "for elemento in lista:\n",
    "    # fai qualcosa\n",
    "```\n",
    "A differenza di altri linguaggi, itero direttamente sugli elementi della sequenza, non sugli indici.\n",
    "Se voglio iterare su una sequenza di numeri, posso usare la funzione range() ma di solito è più lento e scomodo.\n",
    "Se proprio ci serve iterare sugli indici, consiglio di usare la funzione enumerate(), che oltre\n",
    "a restituire l'elemento della lista, restituisce anche l'indice corrispondente (sotto forma di tupla)."
   ]
  },
  {
   "cell_type": "code",
   "execution_count": 29,
   "metadata": {},
   "outputs": [
    {
     "name": "stdout",
     "output_type": "stream",
     "text": [
      "Ranged for loop:\n",
      "1\n",
      "2\n",
      "3\n",
      "4\n",
      "Index for loop:\n",
      "1\n",
      "2\n",
      "3\n",
      "4\n",
      "Enumerate for loop:\n",
      "0 1\n",
      "1 2\n",
      "2 3\n",
      "3 4\n"
     ]
    }
   ],
   "source": [
    "l = [1, 2, 3, 4]\n",
    "print(\"Ranged for loop:\")\n",
    "for i in l:\n",
    "    print(i)\n",
    "print(\"Index for loop:\")\n",
    "for i in range(len(l)):\n",
    "    print(l[i])\n",
    "print(\"Enumerate for loop:\")\n",
    "for i, num in enumerate(l):\n",
    "    print(i, num)\n"
   ]
  },
  {
   "cell_type": "markdown",
   "metadata": {},
   "source": [
    "### Conditional statements\n",
    "Inoltre posso controllare le azioni che faccio in base a condizioni booleane usando gli statement if, elif e else."
   ]
  },
  {
   "cell_type": "code",
   "execution_count": 30,
   "metadata": {},
   "outputs": [
    {
     "name": "stdout",
     "output_type": "stream",
     "text": [
      "x è positivo\n"
     ]
    }
   ],
   "source": [
    "x, y = 2, 3\n",
    "if x > 0:\n",
    "    print(\"x è positivo\")\n",
    "elif x < 0:\n",
    "    print(\"x è negativo\")\n",
    "else:\n",
    "    print(\"x è zero\")\n"
   ]
  },
  {
   "cell_type": "markdown",
   "metadata": {},
   "source": [
    "Prestate tantissima attenzione all'indentazione, perché in Python è fondamentale.\n",
    "Se il codice non è indentato correttamente, Python restituisce un errore e voi ci perdete la testa.\n",
    "Quando create degli if-elif-else, state sempre attenti a quali casi state considerando e a quali no.\n",
    "L'else statement cattura tutti i casi non considerati nei primi due.\n",
    "\n",
    "Ovviamente gli if-statements possono essere annidati, ma cercate di evitarlo, per varie ragioni:\n",
    "- il codice diventa più difficile da leggere\n",
    "- il codice diventa più difficile da debuggare\n",
    "\n",
    "E finirete così:\n",
    "\n",
    "![head-scratch](assets/head-scratch.gif)"
   ]
  },
  {
   "cell_type": "markdown",
   "metadata": {},
   "source": [
    "Come regola di base, se avete più di 4 livelli di indentazione, avete scazzato.\n",
    "Questo è particolarmente vero in Python dove l'indentazione è fondamentale.\n",
    "Se volete saperne di più guardate questo [video](https://youtu.be/CFRhGnuXG-4?si=36O3fJJjUKRhgSLf).\n"
   ]
  },
  {
   "cell_type": "markdown",
   "metadata": {},
   "source": [
    "![ok-norris](assets/ok-norris.gif)"
   ]
  },
  {
   "cell_type": "markdown",
   "metadata": {},
   "source": [
    "### Loop comprehensions\n",
    "Le loop comprehensions sono un modo molto potente per creare liste, dizionari o tuple in modo molto compatto.\n",
    "Sono uno strumento molto potente e molto usato in Python.\n",
    "Sono di solito più veloci di altre sintassi più tradizionali come usare un ciclo for per riempire una lista."
   ]
  },
  {
   "cell_type": "code",
   "execution_count": 31,
   "metadata": {},
   "outputs": [],
   "source": [
    "l = [i for i in range(10)]\n"
   ]
  },
  {
   "cell_type": "markdown",
   "metadata": {},
   "source": [
    "Questo tipo di sintassi (e altre che vedremo) sono tipiche di Python e sono spesso più ottimizzate e veloci di altre sintassi più tradizionali."
   ]
  },
  {
   "cell_type": "code",
   "execution_count": 35,
   "metadata": {},
   "outputs": [
    {
     "name": "stdout",
     "output_type": "stream",
     "text": [
      "Ciclo tradizionale\n",
      "1.0364787578582764\n",
      "List comprehension\n",
      "0.5186896324157715\n"
     ]
    }
   ],
   "source": [
    "import time\n",
    "print(\"Ciclo tradizionale\")\n",
    "start = time.time()\n",
    "l = []\n",
    "for i in range(10000000):\n",
    "    l.append(i)\n",
    "end = time.time()\n",
    "print(end - start)\n",
    "print(\"List comprehension\")\n",
    "start = time.time()\n",
    "l = [i for i in range(10000000)]\n",
    "end = time.time()\n",
    "print(end-start)\n"
   ]
  },
  {
   "cell_type": "markdown",
   "metadata": {},
   "source": [
    "![am-speed](assets/am-speed.gif)"
   ]
  },
  {
   "cell_type": "markdown",
   "metadata": {},
   "source": [
    "Ovviamente posso usare anche degli if per filtrare gli elementi che voglio inserire nella lista."
   ]
  },
  {
   "cell_type": "code",
   "execution_count": 38,
   "metadata": {},
   "outputs": [
    {
     "name": "stdout",
     "output_type": "stream",
     "text": [
      "[4, 16, 36, 64, 100]\n",
      "[1, 4, 3, 16, 5, 36, 7, 64, 9, 100]\n"
     ]
    }
   ],
   "source": [
    "l = [1, 2, 3, 4, 5, 6, 7, 8, 9, 10]\n",
    "\n",
    "# voglio una lista con i quadrati dei numeri pari\n",
    "# solo if\n",
    "l2 = [x**2 for x in l if x % 2 == 0]\n",
    "print(l2)\n",
    "\n",
    "# if else\n",
    "l2 = [x**2 if x % 2 == 0 else x for x in l]\n",
    "print(l2)\n"
   ]
  },
  {
   "cell_type": "markdown",
   "metadata": {},
   "source": [
    "Per creare una dict comprehension, la sintassi è molto simile, ma devo specificare sia la chiave che il valore e devo usare le parentesi graffe."
   ]
  },
  {
   "cell_type": "code",
   "execution_count": 39,
   "metadata": {},
   "outputs": [
    {
     "name": "stdout",
     "output_type": "stream",
     "text": [
      "{1: 1, 2: 4, 3: 9, 4: 16, 5: 25}\n"
     ]
    }
   ],
   "source": [
    "l = [1, 2, 3, 4, 5]\n",
    "# dizionario con chiave il numero e valore il quadrato\n",
    "d = {x: x**2 for x in l}\n",
    "print(d)\n"
   ]
  },
  {
   "cell_type": "markdown",
   "metadata": {},
   "source": [
    "### Un tipo, anzi un topo, molto particolare: il tipo None\n",
    "Rappresenta l'assenza di un valore, come il valore 'NULL' in SQL."
   ]
  },
  {
   "cell_type": "code",
   "execution_count": 33,
   "metadata": {},
   "outputs": [
    {
     "name": "stdout",
     "output_type": "stream",
     "text": [
      "<class 'NoneType'>\n",
      "Variabile Nulla\n",
      "Stessa cosa\n",
      "False\n",
      "False\n"
     ]
    }
   ],
   "source": [
    "x = None\n",
    "print(type(x))\n",
    "\n",
    "if x is None: # identità\n",
    "  print(\"Variabile Nulla\")\n",
    "\n",
    "if x == None: # uguaglianza\n",
    "  print(\"Stessa cosa\")\n",
    "  \n",
    "print(x == False)\n",
    "print( x == \"\")\n"
   ]
  },
  {
   "cell_type": "markdown",
   "metadata": {},
   "source": [
    "A differenza di altri linguaggi, in Python None è un tipo a sé stante, non è un valore nullo o vuoto. Per esempio, None è diverso da 0, da False, da '', da [], da {}, da (), ecc."
   ]
  }
 ],
 "metadata": {
  "kernelspec": {
   "display_name": "Python 3 (ipykernel)",
   "language": "python",
   "name": "python3"
  },
  "language_info": {
   "codemirror_mode": {
    "name": "ipython",
    "version": 3
   },
   "file_extension": ".py",
   "mimetype": "text/x-python",
   "name": "python",
   "nbconvert_exporter": "python",
   "pygments_lexer": "ipython3",
   "version": "3.11.3"
  }
 },
 "nbformat": 4,
 "nbformat_minor": 4
}
