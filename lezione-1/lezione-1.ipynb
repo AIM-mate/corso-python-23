{
 "cells": [
  {
   "cell_type": "markdown",
   "metadata": {},
   "source": [
    "# Lezione 1: basi di Python e strutture dati"
   ]
  },
  {
   "cell_type": "markdown",
   "metadata": {},
   "source": [
    "![ready-rumble](assets/ready-rumble.gif)"
   ]
  },
  {
   "cell_type": "markdown",
   "metadata": {},
   "source": [
    "\n",
    "# Il nostro primissimo programma"
   ]
  },
  {
   "cell_type": "code",
   "execution_count": 1,
   "metadata": {},
   "outputs": [
    {
     "name": "stdout",
     "output_type": "stream",
     "text": [
      "Hello World!\n"
     ]
    }
   ],
   "source": [
    "# questo è un commento\n",
    "print(\"Hello World!\")\n"
   ]
  },
  {
   "cell_type": "markdown",
   "metadata": {},
   "source": [
    "Adesso potete dire a tutti i vostri amichetti che sapete programmare in Python! \n",
    "Il corso è finito, andate in pace. Congratulazioni!"
   ]
  },
  {
   "cell_type": "markdown",
   "metadata": {},
   "source": [
    "![congratulazioni](assets/congratulations.gif)"
   ]
  },
  {
   "cell_type": "markdown",
   "metadata": {},
   "source": [
    "# Come creare e assegnare una variabile"
   ]
  },
  {
   "cell_type": "code",
   "execution_count": 2,
   "metadata": {},
   "outputs": [
    {
     "name": "stdout",
     "output_type": "stream",
     "text": [
      "Hello All!\n"
     ]
    }
   ],
   "source": [
    "# cambiamo la frase\n",
    "frase = \"Hello All!\"\n",
    "print(frase)\n"
   ]
  },
  {
   "cell_type": "markdown",
   "metadata": {},
   "source": [
    "Parliamo un attimo di nomenclatura e nomi di variabili:\n",
    "- non possono iniziare con un numero\n",
    "- non possono contenere spazi\n",
    "- non possono contenere caratteri speciali come !, $, %, ecc.\n",
    "- non possono essere uguali a parole riservate del linguaggio (come if, else, ecc.).\n",
    "- quando il nome è composto da più parole, si usa la notazione snake_case (cioè con gli underscore tra le parole) e non il camelCase (cioè con la prima lettera di ogni parola maiuscola).\n",
    "\n",
    "Per vedere una lista completa delle parole riservate, digitare in una cella di codice:"
   ]
  },
  {
   "cell_type": "code",
   "execution_count": 3,
   "metadata": {},
   "outputs": [
    {
     "name": "stdout",
     "output_type": "stream",
     "text": [
      "['False', 'None', 'True', 'and', 'as', 'assert', 'async', 'await', 'break', 'class', 'continue', 'def', 'del', 'elif', 'else', 'except', 'finally', 'for', 'from', 'global', 'if', 'import', 'in', 'is', 'lambda', 'nonlocal', 'not', 'or', 'pass', 'raise', 'return', 'try', 'while', 'with', 'yield']\n"
     ]
    }
   ],
   "source": [
    "import keyword\n",
    "print(keyword.kwlist)\n"
   ]
  },
  {
   "cell_type": "code",
   "execution_count": 4,
   "metadata": {},
   "outputs": [],
   "source": [
    "#pass = 59\n"
   ]
  },
  {
   "cell_type": "markdown",
   "metadata": {},
   "source": [
    "![danger](assets/Im-in-danger.gif)"
   ]
  },
  {
   "cell_type": "markdown",
   "metadata": {},
   "source": [
    "\n",
    "**NOTA BENE**: ci sono altre parole speciali, per esempio i nomi dei tipi\n",
    "di dati built-in, come int, float, str, list, dict, set, tuple, ecc. o di funzioni di base come print, len, ecc.  che però il compilatore non riconosce come parole riservate.\n",
    "Questi sono comunque nomi\n",
    "che non possono essere usati come nomi di variabili o funzioni, altrimenti\n",
    "andranno a sovrascrivere il significato originale e possono causare errori.\n",
    "\n",
    "Per esempio:\n",
    "```python\n",
    "print = 'Ciao'\n",
    "print(print)\n",
    "```\n",
    "Adesso ho perso per tutta l'esecuzione la funzione `print` e non la recupererò finché non riavvio il kernel.\n",
    "In altre parole: So cazzi!\n"
   ]
  },
  {
   "cell_type": "markdown",
   "metadata": {},
   "source": [
    "![](assets/been-there-done-that.gif)"
   ]
  },
  {
   "cell_type": "markdown",
   "metadata": {},
   "source": [
    "## Assegnazione multipla (la rivedremo poi)"
   ]
  },
  {
   "cell_type": "code",
   "execution_count": 5,
   "metadata": {},
   "outputs": [
    {
     "name": "stdout",
     "output_type": "stream",
     "text": [
      "1 2\n",
      "2 1\n"
     ]
    }
   ],
   "source": [
    "a, b = 1, 2\n",
    "print(a, b)\n",
    "# scambio di variabili\n",
    "a, b = b, a\n",
    "print(a, b)\n"
   ]
  },
  {
   "cell_type": "markdown",
   "metadata": {},
   "source": [
    "# Variabili di base\n",
    "Python è un linguaggi 'dynamically typed' cioè non è necessario dichiarare il tipo di variabile che si sta creando. Il tipo viene assegnato automaticamente in base al valore che viene assegnato alla variabile. Per vedere il tipo di una variabile, usiamo la funzione type()."
   ]
  },
  {
   "cell_type": "code",
   "execution_count": 6,
   "metadata": {},
   "outputs": [
    {
     "name": "stdout",
     "output_type": "stream",
     "text": [
      "<class 'int'>\n",
      "<class 'float'>\n",
      "<class 'bool'>\n",
      "<class 'str'>\n",
      "<class 'str'>\n",
      "<class 'str'>\n"
     ]
    }
   ],
   "source": [
    "# interi\n",
    "a = 1\n",
    "print(type(a))\n",
    "# float\n",
    "a = 1.5\n",
    "print(type(a))\n",
    "# booleani\n",
    "a = True\n",
    "print(type(a))\n",
    "# stringhe, no worries le rivedremo dopo!\n",
    "a = \"ciao\"\n",
    "print(type(a))\n",
    "a = 'ciao'\n",
    "print(type(a))\n",
    "a = \"\"\"Multas per gentes et multa per aequora vectus,\n",
    "advenio has miseras, frater, ad inferias,\n",
    "ut te postremo donarem munere mortis\n",
    "et mutam nequiquam alloquerer cinerem.\n",
    "Quandoquidem fortuna mihi tete abstulit ipsum,\n",
    "hey miser indigne frater adempte mihi!\"\"\"\n",
    "print(type(a))\n"
   ]
  },
  {
   "cell_type": "markdown",
   "metadata": {},
   "source": [
    "come vedete le stringhe possono essere dichiarate sia con le virgolette singole\n",
    "che con quelle doppie. Questo è utile se abbiamo bisogno di usare le virgolette\n",
    "all'interno della stringa stessa. Con le triple virgolette possiamo creare\n",
    "stringhe multilinea.\n",
    "In Python non esiste il tipo char, ma una stringa di un solo carattere è\n",
    "comunque una stringa.\n",
    " \n",
    "Ma soprattuto non ci siamo mai dovuti porre il problema di dichiarare il tipo\n",
    "di una variabile."
   ]
  },
  {
   "cell_type": "markdown",
   "metadata": {},
   "source": [
    "\n",
    "![no-problem](assets/no-problem.gif)\n"
   ]
  },
  {
   "cell_type": "markdown",
   "metadata": {},
   "source": [
    "## Castare una variabile in un altro tipo\n"
   ]
  },
  {
   "cell_type": "code",
   "execution_count": 7,
   "metadata": {},
   "outputs": [
    {
     "name": "stdout",
     "output_type": "stream",
     "text": [
      "<class 'float'>\n",
      "3\n",
      "<class 'int'>\n"
     ]
    }
   ],
   "source": [
    "p = 3.14\n",
    "print(type(p))\n",
    "p = int(p)\n",
    "print(p) # sempre arrontondato per difetto\n",
    "print(type(p))\n"
   ]
  },
  {
   "cell_type": "markdown",
   "metadata": {},
   "source": [
    "Che poi questo è il vero valore di $\\pi$. Lo stesso processo si può fare con tutti gli altri tipi.\n",
    "\n",
    "Fate però attenzione, non tutte le conversioni sono possibili.\n",
    "Per esempio, non è possibile convertire una stringa in un numero se la stringa non rappresenta un\n",
    "numero. La conversione deve avere senso da un punto di vista logico.\n",
    "\n",
    "In particolare sono molto importanti le conversioni a booleano, che vedremo\n",
    "più avanti.\n"
   ]
  },
  {
   "cell_type": "markdown",
   "metadata": {},
   "source": [
    "# Operatori\n",
    "Bene, abbiamo visto un po' di tipi di dati, ma come possiamo manipolarli?\n",
    "Python ci mette a disposizione una serie di operatori aritmetici e di\n",
    "confronto che ci permettono di fare operazioni matematiche e di confrontare\n",
    "i valori delle variabili.\n",
    "\n",
    "## Operatori aritmetici (int e float)\n"
   ]
  },
  {
   "cell_type": "code",
   "execution_count": 8,
   "metadata": {},
   "outputs": [
    {
     "name": "stdout",
     "output_type": "stream",
     "text": [
      "5\n",
      "-1\n",
      "6\n",
      "0.6666666666666666\n",
      "0\n",
      "2\n",
      "8\n"
     ]
    }
   ],
   "source": [
    "x = 2\n",
    "y = 3\n",
    "print(x + y)\n",
    "print(x - y)\n",
    "print(x * y)\n",
    "print(x / y) # divisione reale\n",
    "print(x // y) # divisione intera\n",
    "print(x % y) # resto\n",
    "print(x ** y) # potenza\n"
   ]
  },
  {
   "cell_type": "markdown",
   "metadata": {},
   "source": [
    "Piccola nota a margine: state attenti a non usare mai l'operatore `^`  per fare\n",
    "le potenze. Questo operatore in Python è usato per fare l'operazione di XOR\n",
    "bitwise, che non ci interessa. Per fare le potenze usiamo l'operatore `**`.\n"
   ]
  },
  {
   "cell_type": "code",
   "execution_count": 9,
   "metadata": {},
   "outputs": [
    {
     "name": "stdout",
     "output_type": "stream",
     "text": [
      "1\n"
     ]
    }
   ],
   "source": [
    "print(x ^ y) # xor\n"
   ]
  },
  {
   "cell_type": "markdown",
   "metadata": {},
   "source": [
    "![da-fuq](assets/da-fuq.gif)\n"
   ]
  },
  {
   "cell_type": "markdown",
   "metadata": {},
   "source": [
    "Per la gioia di tutti voi esistono anche le versioni \"cortocircuitate\" di questi operatori, che permettono di modificare il valore di una variabile in un solo passaggio.\n"
   ]
  },
  {
   "cell_type": "code",
   "execution_count": 10,
   "metadata": {},
   "outputs": [
    {
     "name": "stdout",
     "output_type": "stream",
     "text": [
      "4\n"
     ]
    }
   ],
   "source": [
    "x *= 2\n",
    "print(x)\n"
   ]
  },
  {
   "cell_type": "markdown",
   "metadata": {},
   "source": [
    "![bet-you-like-that](assets/bet-you-like-that.gif)\n"
   ]
  },
  {
   "cell_type": "markdown",
   "metadata": {},
   "source": [
    "## Operatori di confronto (int e float)\n",
    "Il valore restituito da un operatore di confronto è un booleano, cioè un valore\n",
    "che può essere vero o falso.\n"
   ]
  },
  {
   "cell_type": "code",
   "execution_count": 11,
   "metadata": {},
   "outputs": [
    {
     "name": "stdout",
     "output_type": "stream",
     "text": [
      "True\n",
      "False\n",
      "True\n",
      "False\n",
      "False\n",
      "True\n",
      "False\n"
     ]
    }
   ],
   "source": [
    "print(x > y)\n",
    "print(x < y)\n",
    "print(x >= y)\n",
    "print(x <= y)\n",
    "print(x == y)\n",
    "print(x != y)\n",
    "y = 2\n",
    "print(x is y)\n"
   ]
  },
  {
   "cell_type": "markdown",
   "metadata": {},
   "source": [
    "L'operatore `is` è un operatore di confronto che verifica se due variabili\n",
    "puntano allo stesso oggetto. In altre parole controlla se due oggetti occupano la stessa posizione in memoria.\n",
    "Questo torna molto utile per fare il confronto fra due oggetti.\n"
   ]
  },
  {
   "cell_type": "code",
   "execution_count": 12,
   "metadata": {},
   "outputs": [
    {
     "name": "stdout",
     "output_type": "stream",
     "text": [
      "False\n"
     ]
    }
   ],
   "source": [
    "y = 1.5\n",
    "x = 1.5\n",
    "print(x is y)\n"
   ]
  },
  {
   "cell_type": "markdown",
   "metadata": {},
   "source": [
    "Python alloca gli interi sempre nello stesso spazio di memoria, quindi\n",
    "due interi uguali sono sempre lo stesso oggetto. Questo non succede per i float e per le stringhe.\n"
   ]
  },
  {
   "cell_type": "markdown",
   "metadata": {},
   "source": [
    "## Operatori logici (bool)\n",
    "Ci sono poi gli operatori logici, che ci permettono di combinare più condizioni\n",
    "booleane. Gli operatori logici sono `and`, `or` e `not`.\n"
   ]
  },
  {
   "cell_type": "code",
   "execution_count": 13,
   "metadata": {},
   "outputs": [
    {
     "name": "stdout",
     "output_type": "stream",
     "text": [
      "True\n",
      "True\n",
      "False\n",
      "False\n"
     ]
    }
   ],
   "source": [
    "x, y = 2, 3\n",
    "print(x > 0 and y > 0)\n",
    "print(x > 2 or y > 2)\n",
    "print(not (x > 0)) # per sicurezza, wrappare con parentesi\n",
    "print(not (x > 0 and y > 0))\n"
   ]
  },
  {
   "cell_type": "markdown",
   "metadata": {},
   "source": [
    "Quando si usano questi operatori con valori non-booleani, Python è abbastanza flessibile e considera\n",
    "`0` come `False`, mentre tutti gli altri numeri sono considerati `True`.\n"
   ]
  },
  {
   "cell_type": "code",
   "execution_count": 14,
   "metadata": {},
   "outputs": [
    {
     "name": "stdout",
     "output_type": "stream",
     "text": [
      "2\n",
      "True\n"
     ]
    }
   ],
   "source": [
    "print((x>0) and x) # True viene convertito in 1\n",
    "print(x>0 or 0)\n"
   ]
  },
  {
   "cell_type": "markdown",
   "metadata": {},
   "source": [
    "Ultima osservazione, Python valuta le espessioni logiche da sinistra a destra\n",
    "e si ferma appena può. Per esempio, se abbiamo un `and` e il primo valore è\n",
    "`False`, Python non valuta il secondo valore, perché sa già che il risultato\n",
    "dell'operazione sarà `False`. Questo fenomeno si chiama *short-circuiting*.\n"
   ]
  },
  {
   "cell_type": "code",
   "execution_count": 15,
   "metadata": {},
   "outputs": [
    {
     "name": "stdout",
     "output_type": "stream",
     "text": [
      "False\n"
     ]
    }
   ],
   "source": [
    "x = 2\n",
    "y = 0\n",
    "print(x < 0 and x/y > 0)\n",
    "#print(x > 0 and x/y > 0)\n"
   ]
  },
  {
   "cell_type": "markdown",
   "metadata": {},
   "source": [
    "![ah-shit](assets/ah-shit.gif)\n"
   ]
  },
  {
   "cell_type": "markdown",
   "metadata": {},
   "source": [
    "# Liste e tuple\n",
    "\n",
    "## Liste\n",
    "\n",
    "Una lista è semplicemente una sequenza di valori.\n",
    "In python le liste possono contenere oggetti di tipo diverso e non hanno una lunghezza predefinita.\n",
    "Possiamo accedere e modificare gli elementi di una lista usando l'indice, che inizia da 0.\n"
   ]
  },
  {
   "cell_type": "code",
   "execution_count": 16,
   "metadata": {},
   "outputs": [
    {
     "name": "stdout",
     "output_type": "stream",
     "text": [
      "<class 'list'>\n",
      "[1, 'ciao', 3.14, True]\n"
     ]
    }
   ],
   "source": [
    "l = list() # lista vuota\n",
    "l = [] # lista vuota\n",
    "print(type(l))\n",
    "l = [0, 2, 3]\n",
    "l = [1, \"ciao\", 3.14, True]\n",
    "l[0] = 1\n",
    "print(l)\n"
   ]
  },
  {
   "cell_type": "markdown",
   "metadata": {},
   "source": [
    "![](assets/spongebob-list.gif)\n"
   ]
  },
  {
   "cell_type": "markdown",
   "metadata": {},
   "source": [
    "Per modificare una lista possiamo usare i seguenti metodi:\n"
   ]
  },
  {
   "cell_type": "code",
   "execution_count": 17,
   "metadata": {},
   "outputs": [
    {
     "name": "stdout",
     "output_type": "stream",
     "text": [
      "[1, 2, 3, 2, 5]\n",
      "5\n",
      "1\n",
      "[2, 3]\n",
      "[3, 2]\n",
      "[3, 2]\n"
     ]
    }
   ],
   "source": [
    "l = [1, 3, 2]\n",
    "# aggiungo un elemento alla fine della lista\n",
    "l.append(5)\n",
    "# aggiungo un elemento in posizione\n",
    "l.insert(1, 2)\n",
    "print(l)\n",
    "# rimuovo un elemento\n",
    "l.remove(2)\n",
    "# rimuovo un elemento (l'ultimo di default) e lo ritorno\n",
    "print(l.pop())\n",
    "print(l.pop(0))\n",
    "\n",
    "# ordino la lista\n",
    "l.sort()\n",
    "print(l)\n",
    "# oppure sorted(l) che ritorna una nuova lista\n",
    "l.reverse()\n",
    "print(l)\n",
    "\n",
    "# lista finale\n",
    "print(l)\n"
   ]
  },
  {
   "cell_type": "markdown",
   "metadata": {},
   "source": [
    "Ci sono inoltre alcune utili funzioni per lavorare con le liste:\n"
   ]
  },
  {
   "cell_type": "code",
   "execution_count": 18,
   "metadata": {},
   "outputs": [
    {
     "name": "stdout",
     "output_type": "stream",
     "text": [
      "Lunghezza: 2\n",
      "Minimo: 2\n",
      "Massimo: 3\n",
      "Somma: 5\n"
     ]
    }
   ],
   "source": [
    "print(\"Lunghezza:\", len(l))\n",
    "print(\"Minimo:\", min(l))\n",
    "print(\"Massimo:\", max(l))\n",
    "print(\"Somma:\", sum(l))\n"
   ]
  },
  {
   "cell_type": "markdown",
   "metadata": {},
   "source": [
    "Si può castare un oggetto non lista in una lista usando la funzione `list`\n"
   ]
  },
  {
   "cell_type": "code",
   "execution_count": 19,
   "metadata": {},
   "outputs": [
    {
     "name": "stdout",
     "output_type": "stream",
     "text": [
      "[0, 1, 2, 3, 4, 5, 6, 7, 8, 9]\n"
     ]
    }
   ],
   "source": [
    "print(list(range(10)))\n"
   ]
  },
  {
   "cell_type": "markdown",
   "metadata": {},
   "source": [
    "### Operatori di liste\n",
    "Per le liste possiamo usare l'operatore `+` per concatenare (unire) due liste e `*` per ripetere una lista.\n",
    "Possiamo anche usare l'operatore `==` per verificare l'uguaglianza.\n"
   ]
  },
  {
   "cell_type": "code",
   "execution_count": 20,
   "metadata": {},
   "outputs": [
    {
     "name": "stdout",
     "output_type": "stream",
     "text": [
      "[1, 2, 3, 4, 5, 6]\n",
      "[1, 2, 3, 1, 2, 3, 1, 2, 3]\n",
      "True\n",
      "True\n",
      "False\n"
     ]
    }
   ],
   "source": [
    "l1 = [1, 2, 3]\n",
    "l2 = [4, 5, 6]\n",
    "\n",
    "# concatenazione\n",
    "l3 = l1 + l2\n",
    "print(l3)\n",
    "\n",
    "# ripetizione\n",
    "l4 = l1 * 3\n",
    "print(l4)\n",
    "\n",
    "# uguaglianza\n",
    "print(l1 == [1, 2, 3])\n",
    "# maggioranza\n",
    "print(l1 > [1, 2, 2]) # da evitare\n",
    "# identità\n",
    "print(l1 is [1, 2, 3])\n"
   ]
  },
  {
   "cell_type": "markdown",
   "metadata": {},
   "source": [
    "Infine possiamo verificare se un elemento (o più) è presente nella lista usando l'operatore `in`\n"
   ]
  },
  {
   "cell_type": "code",
   "execution_count": 21,
   "metadata": {},
   "outputs": [
    {
     "name": "stdout",
     "output_type": "stream",
     "text": [
      "True\n",
      "True\n"
     ]
    }
   ],
   "source": [
    "print(1 in l1)\n",
    "print(4 not in l1)\n"
   ]
  },
  {
   "cell_type": "markdown",
   "metadata": {},
   "source": [
    "### Copie e raddoppiamento\n",
    "Attenzione, quando in python assegniamo una lista ad un'altra stiamo assegnando lo stesso spazio in memoria a entrambi i nomi.\n",
    "Abbiamo due riferimenti allo stesso spazio!\n"
   ]
  },
  {
   "cell_type": "code",
   "execution_count": 22,
   "metadata": {},
   "outputs": [
    {
     "name": "stdout",
     "output_type": "stream",
     "text": [
      "True\n"
     ]
    }
   ],
   "source": [
    "l2 = l1\n",
    "print(l1 is l2)\n"
   ]
  },
  {
   "cell_type": "markdown",
   "metadata": {},
   "source": [
    "Attenzione: Se modifico `l2` modifico anche `l1`\n"
   ]
  },
  {
   "cell_type": "code",
   "execution_count": 23,
   "metadata": {},
   "outputs": [
    {
     "name": "stdout",
     "output_type": "stream",
     "text": [
      "[1, 2, 3]\n",
      "[0, 2, 3]\n"
     ]
    }
   ],
   "source": [
    "print(l1)\n",
    "l2[0] = 0\n",
    "print(l1)\n"
   ]
  },
  {
   "cell_type": "markdown",
   "metadata": {},
   "source": [
    "![dont-like-that](assets/dont-like-that.gif)\n"
   ]
  },
  {
   "cell_type": "markdown",
   "metadata": {},
   "source": [
    "Serve usare la funzione `copy`, o `deepcopy` se la lista è annidata.\n"
   ]
  },
  {
   "cell_type": "code",
   "execution_count": 24,
   "metadata": {},
   "outputs": [
    {
     "name": "stdout",
     "output_type": "stream",
     "text": [
      "[0, 2, 3]\n",
      "[0, 2, 3]\n"
     ]
    }
   ],
   "source": [
    "print(l1)\n",
    "l2 = l1.copy()\n",
    "l2[0] = 1\n",
    "print(l1)\n"
   ]
  },
  {
   "cell_type": "markdown",
   "metadata": {},
   "source": [
    "### Slicing e indici\n",
    "Non solo posso accedere agli elementi della lista tramite gli indici, ma usando lo slicing posso accedere anche a particolari sottoinsiemi della lista stessa.\n",
    "Posso anche usare indici negativi, che mi permettono di accedere agli elementi della lista partendo dalla fine. -1 è l'ultimo elemento, -2 il penultimo, ecc.\n",
    "La sintassi dello slicing è:\n",
    "```python\n",
    "lista[start:stop:step]\n",
    "```\n"
   ]
  },
  {
   "cell_type": "code",
   "execution_count": 25,
   "metadata": {},
   "outputs": [
    {
     "name": "stdout",
     "output_type": "stream",
     "text": [
      "3\n",
      "2\n",
      "[2]\n",
      "[3, 2]\n",
      "[2, 3]\n",
      "[3]\n"
     ]
    }
   ],
   "source": [
    "# primo elemento\n",
    "print(l[0])\n",
    "# ultimo elemento\n",
    "print(l[-1])\n",
    "# dal secondo elemento in poi\n",
    "print(l[1:])\n",
    "# dal primo elemento al terzo\n",
    "print(l[:3])\n",
    "# al contrario\n",
    "print(l[::-1])\n",
    "# ogni due elementi\n",
    "print(l[::2])\n"
   ]
  },
  {
   "cell_type": "markdown",
   "metadata": {},
   "source": [
    "Questa sintassi è uno dei punti forti di Python e permette un sacco di libertà nello scrivere codice.\n",
    "Poter usare indici negativi, vi assicuro che è particolarmente comodo.\n"
   ]
  },
  {
   "cell_type": "markdown",
   "metadata": {},
   "source": [
    "E con questo possiamo togliere le liste dalla nostra lista (per ora...)\n"
   ]
  },
  {
   "cell_type": "markdown",
   "metadata": {},
   "source": [
    "![lists-done](assets/lists-done.gif)\n"
   ]
  },
  {
   "cell_type": "markdown",
   "metadata": {},
   "source": [
    "## Tuple\n",
    "Una tupla è una sequenza di valori separati da virgole. La tupla è immutabile, cioè non posso modificare i valori che contiene. Per accedere agli elementi della tupla si usa la stessa sintassi delle liste.\n"
   ]
  },
  {
   "cell_type": "code",
   "execution_count": 26,
   "metadata": {},
   "outputs": [
    {
     "name": "stdout",
     "output_type": "stream",
     "text": [
      "<class 'tuple'>\n",
      "(0, 2, 3)\n"
     ]
    }
   ],
   "source": [
    "t = tuple() # tupla vuota\n",
    "t = () # tupla vuota\n",
    "print(type(t))\n",
    "t = (0, 2, 3)\n",
    "#t[0] = 1 # errore\n",
    "print(t)\n"
   ]
  },
  {
   "cell_type": "markdown",
   "metadata": {},
   "source": [
    "Probabilmente creerete raramente delle tuple da soli, ma spesso le funzioni restituiscono tuple,\n",
    "quindi è importante saperle usare.\n",
    "Inoltre vedremo che l'immutabilità è una caratteristica importantissima per le tuple.\n"
   ]
  },
  {
   "cell_type": "markdown",
   "metadata": {},
   "source": [
    "\n",
    "![cool-beans](assets/cool-beans.gif)\n"
   ]
  },
  {
   "cell_type": "markdown",
   "metadata": {},
   "source": [
    "# Dizionari\n",
    "I dizionari sono strutture dati della seguente forma:\n",
    "```python\n",
    "dizionario = {\n",
    "    chiave1: valore1,\n",
    "    chiave2: valore2,\n",
    "    chiave3: valore3,\n",
    "    ...\n",
    "}\n",
    "```\n",
    "In altre parole sono delle hashmap, cioè delle strutture dati che permettono di associare ad una chiave un valore.\n"
   ]
  },
  {
   "cell_type": "code",
   "execution_count": 27,
   "metadata": {},
   "outputs": [
    {
     "name": "stdout",
     "output_type": "stream",
     "text": [
      "<class 'dict'>\n"
     ]
    }
   ],
   "source": [
    "d = dict() # dizionario vuoto\n",
    "d = {} # dizionario vuoto\n",
    "\n",
    "d = {\n",
    "    \"nome\": \"Mario\",\n",
    "    \"cognome\": \"Rossi\",\n",
    "    \"eta\": 30\n",
    "}\n",
    "print(type(d))\n"
   ]
  },
  {
   "cell_type": "markdown",
   "metadata": {},
   "source": [
    "Molti dei metodi che abbiamo visto applicati alle liste si possono applicare anche ai dizionari.\n"
   ]
  },
  {
   "cell_type": "code",
   "execution_count": 28,
   "metadata": {},
   "outputs": [
    {
     "name": "stdout",
     "output_type": "stream",
     "text": [
      "Mario\n",
      "{'nome': 'Mario', 'cognome': 'Rossi', 'eta': 30, 'sesso': 'M'}\n",
      "{'nome': 'Mario', 'cognome': 'Rossi', 'eta': 31, 'sesso': 'M'}\n",
      "{'nome': 'Mario', 'cognome': 'Rossi', 'sesso': 'M'}\n",
      "None\n",
      "0\n"
     ]
    }
   ],
   "source": [
    "# accesso\n",
    "print(d[\"nome\"])\n",
    "# aggiunta\n",
    "d[\"sesso\"] = \"M\"\n",
    "print(d)\n",
    "# modifica\n",
    "d[\"eta\"] = 31\n",
    "print(d)\n",
    "# rimozione (funziona anche con pop)\n",
    "del d[\"eta\"]\n",
    "print(d)\n",
    "# accesso sicuro\n",
    "print(d.get(\"eta\"))\n",
    "# accesso sicuro con default\n",
    "print(d.get(\"eta\", 0))\n"
   ]
  },
  {
   "cell_type": "markdown",
   "metadata": {},
   "source": [
    "Come per le liste possiamo usare l'operatore `in` per verificare se una chiave è presente nel dizionario e la funzione `len` per verificare la lunghezza del dizionario.\n",
    "Anche l'operatore `==` funziona allo stesso modo.\n",
    "\n",
    "Diversamente dalle liste, i dizionari non sono ordinati, quindi non possiamo usare indici per accedere agli elementi. Possiamo però usare le chiavi e possiamo manipolare direttamente le chiavi e i valori usando i metodi `keys`, `values` e `items`.\n"
   ]
  },
  {
   "cell_type": "code",
   "execution_count": 29,
   "metadata": {},
   "outputs": [
    {
     "name": "stdout",
     "output_type": "stream",
     "text": [
      "Chiavi: dict_keys(['nome', 'cognome', 'sesso'])\n",
      "Valori: dict_values(['Mario', 'Rossi', 'M'])\n",
      "Elementi: dict_items([('nome', 'Mario'), ('cognome', 'Rossi'), ('sesso', 'M')])\n"
     ]
    }
   ],
   "source": [
    "print(\"Chiavi:\", d.keys())\n",
    "print(\"Valori:\", d.values())\n",
    "print(\"Elementi:\", d.items())\n"
   ]
  },
  {
   "cell_type": "markdown",
   "metadata": {},
   "source": [
    "Come vedete gli elementi vengono restituiti sotto forma di tuple.\n"
   ]
  },
  {
   "cell_type": "markdown",
   "metadata": {},
   "source": [
    "![dictionaries-done](assets/dictionaries-done.gif)\n"
   ]
  },
  {
   "cell_type": "markdown",
   "metadata": {},
   "source": [
    "## Tipi mutabili e immutabili\n"
   ]
  },
  {
   "cell_type": "markdown",
   "metadata": {},
   "source": [
    "Adesso facciamo un piccolo escursus su come Python gestisce i vari tipi di dati in memoria.\n"
   ]
  },
  {
   "cell_type": "markdown",
   "metadata": {},
   "source": [
    "![gimme-break](assets/gimme-a-break.gif)\n"
   ]
  },
  {
   "cell_type": "markdown",
   "metadata": {},
   "source": [
    "Sebbene Python sia un linguaggio dinamicamente tipato, ogni oggetto ha un tipo e questo tipo può essere mutabile o immutabile.\n",
    "\n",
    "Un tipo si dice mutabile se è possibile modificarlo dopo averlo creato, mentre si dice immutabile se non è possibile modificarlo.\n",
    "Nonostante int e stringhe sembrino immutabili, in realtà non lo sono. Quando modifichiamo un int Python crea un nuovo oggetto e lo assegna alla variabile (cambiando il suo id).\n",
    "I tipi immutabili sono:\n",
    "- int\n",
    "- string\n",
    "- tuple\n",
    "- float\n",
    "- bool (sottoclasse di int)\n",
    "- ecc ecc\n",
    "\n",
    "I tipi mutabili al contrario possono essere liberamente modificati e possono avere più di un riferimento, come nell'esempio delle liste che abbiamo visto prima.\n",
    "I tipi mutabili sono:\n",
    "- list\n",
    "- dict\n",
    "- ecc ecc\n",
    "\n",
    "Questa distinzione è molto importante per quando si danno riferimenti a nuovi oggetti, come abbiamo visto sopra, ma soprattutto un dizionario può avere come chiave solo oggetti immutabili, mentre come valore può avere oggetti di qualsiasi tipo.\n"
   ]
  },
  {
   "cell_type": "markdown",
   "metadata": {},
   "source": [
    "# Cicli e conditional statements\n",
    "## Ciclo for\n",
    "Adesso che abbiamo introdotto le liste, possiamo parlare dei cicli for. I cicli for sono un modo per iterare su una sequenza di valori. La sintassi è la seguente:\n",
    "```python\n",
    "for elemento in lista:\n",
    "    # fai qualcosa\n",
    "```\n",
    "A differenza di altri linguaggi, itero direttamente sugli elementi della sequenza, non sugli indici.\n",
    "Se voglio iterare su una sequenza di numeri, posso usare la funzione range() ma di solito è più lento e scomodo.\n",
    "Se proprio ci serve iterare sugli indici, consiglio di usare la funzione enumerate(), che oltre\n",
    "a restituire l'elemento della lista, restituisce anche l'indice corrispondente (sotto forma di tupla).\n"
   ]
  },
  {
   "cell_type": "code",
   "execution_count": 30,
   "metadata": {},
   "outputs": [
    {
     "name": "stdout",
     "output_type": "stream",
     "text": [
      "Ranged for loop:\n",
      "1\n",
      "2\n",
      "3\n",
      "4\n",
      "Index for loop:\n",
      "1\n",
      "2\n",
      "3\n",
      "4\n",
      "Enumerate for loop:\n",
      "0 1\n",
      "1 2\n",
      "2 3\n",
      "3 4\n"
     ]
    }
   ],
   "source": [
    "l = [1, 2, 3, 4]\n",
    "print(\"Ranged for loop:\")\n",
    "for i in l:\n",
    "    print(i)\n",
    "print(\"Index for loop:\")\n",
    "for i in range(len(l)):\n",
    "    print(l[i])\n",
    "print(\"Enumerate for loop:\")\n",
    "for i, num in enumerate(l):\n",
    "    print(i, num)\n"
   ]
  },
  {
   "cell_type": "markdown",
   "metadata": {},
   "source": [
    "## Conditional statements\n",
    "Inoltre posso controllare le azioni che faccio in base a condizioni booleane usando gli statement if, elif e else.\n"
   ]
  },
  {
   "cell_type": "code",
   "execution_count": 31,
   "metadata": {},
   "outputs": [
    {
     "name": "stdout",
     "output_type": "stream",
     "text": [
      "x è positivo\n"
     ]
    }
   ],
   "source": [
    "x, y = 2, 3\n",
    "if x > 0:\n",
    "    print(\"x è positivo\")\n",
    "elif x < 0:\n",
    "    print(\"x è negativo\")\n",
    "else:\n",
    "    print(\"x è zero\")\n"
   ]
  },
  {
   "cell_type": "markdown",
   "metadata": {},
   "source": [
    "Prestate tantissima attenzione all'indentazione, perché in Python è fondamentale.\n",
    "Se il codice non è indentato correttamente, Python restituisce un errore e voi ci perdete la testa.\n",
    "Quando create degli if-elif-else, state sempre attenti a quali casi state considerando e a quali no.\n",
    "L'else statement cattura tutti i casi non considerati nei primi due.\n",
    "\n",
    "Ovviamente gli if-statements possono essere annidati, ma cercate di evitarlo, per varie ragioni:\n",
    "- il codice diventa più difficile da leggere\n",
    "- il codice diventa più difficile da debuggare\n",
    "\n",
    "E finirete così:\n"
   ]
  },
  {
   "cell_type": "markdown",
   "metadata": {},
   "source": [
    "\n",
    "![head-scratch](assets/head-scratch.gif)\n"
   ]
  },
  {
   "cell_type": "markdown",
   "metadata": {},
   "source": [
    "Come regola di base, se avete più di 4 livelli di indentazione, avete scazzato.\n",
    "Questo è particolarmente vero in Python dove l'indentazione è fondamentale.\n",
    "Se volete saperne di più guardate questo [video](https://youtu.be/CFRhGnuXG-4?si=36O3fJJjUKRhgSLf).\n"
   ]
  },
  {
   "cell_type": "markdown",
   "metadata": {},
   "source": [
    "![ok-norris](assets/ok-norris.gif)\n"
   ]
  },
  {
   "cell_type": "markdown",
   "metadata": {},
   "source": [
    "### Operatore ternario\n",
    "L'operatore ternario è un modo per scrivere un if statement in una sola riga.\n",
    "La sintassi è la seguente:\n",
    "```python\n",
    "risultato = valore1 if condizione else valore2\n",
    "```\n",
    "notiamo che all'interno dell'espressione non si possono fare assegnazioni, perchè dobbiamo restituire un valore.\n"
   ]
  },
  {
   "cell_type": "code",
   "execution_count": 32,
   "metadata": {},
   "outputs": [
    {
     "name": "stdout",
     "output_type": "stream",
     "text": [
      "10\n"
     ]
    }
   ],
   "source": [
    "x = 10\n",
    "y = 20\n",
    "minimum = x if x < y else y\n",
    "print(minimum)\n"
   ]
  },
  {
   "cell_type": "markdown",
   "metadata": {},
   "source": [
    "L'operatore ternario si può anche estendere per considerare più di due casi, ma è sconsigliato perché diventa illeggibile.\n"
   ]
  },
  {
   "cell_type": "code",
   "execution_count": 33,
   "metadata": {},
   "outputs": [
    {
     "name": "stdout",
     "output_type": "stream",
     "text": [
      "10 è positivo\n"
     ]
    }
   ],
   "source": [
    "print(x, \"è positivo\") if x > 0 else print(x, \"è negativo\")\n"
   ]
  },
  {
   "cell_type": "markdown",
   "metadata": {},
   "source": [
    "### Funzione zip e unpacking\n",
    "Se dobbiamo iterare su più liste contemporaneamente, possiamo usare la funzione zip invece di usare direttamente gli indici.\n",
    "\n",
    "La funzione zip prende in input un numero arbitrario di liste e restituisce una lista di tuple, dove ogni tupla contiene gli elementi delle liste in input.\n"
   ]
  },
  {
   "cell_type": "code",
   "execution_count": 34,
   "metadata": {},
   "outputs": [
    {
     "name": "stdout",
     "output_type": "stream",
     "text": [
      "1 4 7\n",
      "2 5 8\n",
      "3 6 9\n"
     ]
    }
   ],
   "source": [
    "l1 = [1, 2, 3]\n",
    "l2 = [4, 5, 6]\n",
    "l3 = [7, 8, 9]\n",
    "\n",
    "for i, j, k in zip(l1, l2, l3):\n",
    "    print(i, j, k)\n"
   ]
  },
  {
   "cell_type": "markdown",
   "metadata": {},
   "source": [
    "l'unpacking operator `*` ci permette di fare l'operazione inversa, cioè di prendere una lista e dividerla in elementi singoli.\n"
   ]
  },
  {
   "cell_type": "code",
   "execution_count": 35,
   "metadata": {},
   "outputs": [
    {
     "name": "stdout",
     "output_type": "stream",
     "text": [
      "1 2 [3, 4, 5, 6, 7, 8, 9]\n",
      "[1, 2, 3, 4, 5, 6, 7, 8, 9] [1, 2, 3, 4, 5, 6, 7, 8, 9]\n",
      "[1, 2, 3, 4, 5, 6, 7, 8, 9]\n"
     ]
    }
   ],
   "source": [
    "l = [1, 2, 3, 4, 5, 6, 7, 8, 9]\n",
    "a = l[0::]\n",
    "# primo, secondo, resto (assegnamento multiplo)\n",
    "a, b, *c = l\n",
    "print(a, b, c)\n",
    "# tutto, copia senza copy\n",
    "*c, = l\n",
    "print(c, l)\n",
    "# unire due liste\n",
    "l = [*l1, *l2, *l3]\n",
    "print(l)\n"
   ]
  },
  {
   "cell_type": "markdown",
   "metadata": {},
   "source": [
    "Inoltre esiste anche l'unpacking operator `**` che ci permette di fare l'unpacking di un dizionario.\n"
   ]
  },
  {
   "cell_type": "markdown",
   "metadata": {},
   "source": [
    "## Ciclo while\n",
    "Il ciclo while è un altro modo per iterare su una sequenza di valori. La sintassi è la seguente:\n",
    "```python\n",
    "while condizione:\n",
    "    # fai qualcosa\n",
    "```\n"
   ]
  },
  {
   "cell_type": "code",
   "execution_count": 36,
   "metadata": {},
   "outputs": [
    {
     "name": "stdout",
     "output_type": "stream",
     "text": [
      "0\n",
      "1\n",
      "2\n",
      "3\n",
      "4\n",
      "5\n",
      "6\n",
      "7\n",
      "8\n",
      "9\n"
     ]
    }
   ],
   "source": [
    "x = 0\n",
    "while x < 10:\n",
    "    print(x)\n",
    "    x += 1\n"
   ]
  },
  {
   "cell_type": "code",
   "execution_count": 37,
   "metadata": {},
   "outputs": [
    {
     "name": "stdout",
     "output_type": "stream",
     "text": [
      "Tempo ciclo while: 0.7178292274475098\n",
      "Tempo ciclo for: 0.256763219833374\n"
     ]
    }
   ],
   "source": [
    "import time\n",
    "\n",
    "# ciclo while\n",
    "N = 10_000_000\n",
    "start = time.time()\n",
    "x = 0\n",
    "while x < N:\n",
    "    x += 1\n",
    "end = time.time()\n",
    "print(\"Tempo ciclo while:\", end - start)\n",
    "\n",
    "start = time.time()\n",
    "for x in range(N):\n",
    "    pass\n",
    "end = time.time()\n",
    "print(\"Tempo ciclo for:\", end - start)\n"
   ]
  },
  {
   "cell_type": "markdown",
   "metadata": {},
   "source": [
    "Questa differenza sostanziale di tempo di esecuzione è dovuta al fatto che il ciclo for è molto più ottimizzato del ciclo while. In particolare il ciclo for è implementato in C, mentre il ciclo while è implementato in Python puro.\n"
   ]
  },
  {
   "cell_type": "markdown",
   "metadata": {},
   "source": [
    "## Loop comprehensions\n",
    "Le loop comprehensions sono un modo molto potente per creare liste, dizionari o tuple in modo molto compatto.\n",
    "Sono uno strumento molto potente e molto usato in Python.\n",
    "Sono di solito più veloci di altre sintassi più tradizionali come usare un ciclo for per riempire una lista.\n"
   ]
  },
  {
   "cell_type": "code",
   "execution_count": 38,
   "metadata": {},
   "outputs": [],
   "source": [
    "l = [i for i in range(10)]\n"
   ]
  },
  {
   "cell_type": "markdown",
   "metadata": {},
   "source": [
    "Questo tipo di sintassi (e altre che vedremo) sono tipiche di Python e sono spesso più ottimizzate e veloci di altre sintassi più tradizionali.\n"
   ]
  },
  {
   "cell_type": "code",
   "execution_count": 39,
   "metadata": {},
   "outputs": [
    {
     "name": "stdout",
     "output_type": "stream",
     "text": [
      "Ciclo tradizionale\n",
      "0.8226494789123535\n",
      "List comprehension\n",
      "0.5786433219909668\n"
     ]
    }
   ],
   "source": [
    "print(\"Ciclo tradizionale\")\n",
    "start = time.time()\n",
    "l = []\n",
    "for i in range(N):\n",
    "    l.append(i)\n",
    "end = time.time()\n",
    "print(end - start)\n",
    "print(\"List comprehension\")\n",
    "start = time.time()\n",
    "l = [i for i in range(N)]\n",
    "end = time.time()\n",
    "print(end-start)\n"
   ]
  },
  {
   "cell_type": "markdown",
   "metadata": {},
   "source": [
    "![am-speed](assets/am-speed.gif)\n"
   ]
  },
  {
   "cell_type": "markdown",
   "metadata": {},
   "source": [
    "Ovviamente posso usare anche degli if per filtrare gli elementi che voglio inserire nella lista.\n"
   ]
  },
  {
   "cell_type": "code",
   "execution_count": 40,
   "metadata": {},
   "outputs": [
    {
     "name": "stdout",
     "output_type": "stream",
     "text": [
      "[4, 16, 36, 64, 100]\n",
      "[1, 4, 3, 16, 5, 36, 7, 64, 9, 100]\n"
     ]
    }
   ],
   "source": [
    "l = [1, 2, 3, 4, 5, 6, 7, 8, 9, 10]\n",
    "\n",
    "# voglio una lista con i quadrati dei numeri pari\n",
    "# solo if\n",
    "l2 = [x**2 for x in l if x % 2 == 0]\n",
    "print(l2)\n",
    "\n",
    "# if else\n",
    "l2 = [x**2 if x % 2 == 0 else x for x in l]\n",
    "print(l2)\n"
   ]
  },
  {
   "cell_type": "markdown",
   "metadata": {},
   "source": [
    "Per creare una dict comprehension, la sintassi è molto simile, ma devo specificare sia la chiave che il valore e devo usare le parentesi graffe.\n"
   ]
  },
  {
   "cell_type": "code",
   "execution_count": 41,
   "metadata": {},
   "outputs": [
    {
     "name": "stdout",
     "output_type": "stream",
     "text": [
      "{1: 1, 2: 4, 3: 9, 4: 16, 5: 25}\n"
     ]
    }
   ],
   "source": [
    "l = [1, 2, 3, 4, 5]\n",
    "# dizionario con chiave il numero e valore il quadrato\n",
    "d = {x: x**2 for x in l}\n",
    "print(d)\n"
   ]
  },
  {
   "cell_type": "markdown",
   "metadata": {},
   "source": [
    "### Un tipo, anzi un topo, molto particolare: il tipo None\n"
   ]
  },
  {
   "cell_type": "markdown",
   "metadata": {},
   "source": [
    "![stilton](assets/stilton.gif)\n"
   ]
  },
  {
   "cell_type": "markdown",
   "metadata": {},
   "source": [
    "Rappresenta l'assenza di un valore, come il valore 'NULL' in SQL.\n"
   ]
  },
  {
   "cell_type": "code",
   "execution_count": 42,
   "metadata": {},
   "outputs": [
    {
     "name": "stdout",
     "output_type": "stream",
     "text": [
      "<class 'NoneType'>\n",
      "Variabile Nulla\n",
      "Stessa cosa\n",
      "False\n",
      "False\n"
     ]
    }
   ],
   "source": [
    "x = None\n",
    "print(type(x))\n",
    "\n",
    "if x is None: # identità\n",
    "  print(\"Variabile Nulla\")\n",
    "\n",
    "if x == None: # uguaglianza\n",
    "  print(\"Stessa cosa\")\n",
    "  \n",
    "print(x == False)\n",
    "print( x == \"\")\n"
   ]
  },
  {
   "cell_type": "markdown",
   "metadata": {},
   "source": [
    "A differenza di altri linguaggi, in Python None è un tipo a sé stante, non è un valore nullo o vuoto. Per esempio, None è diverso da 0, da False, da '', da [], da {}, da (), ecc.\n"
   ]
  },
  {
   "cell_type": "code",
   "execution_count": 43,
   "metadata": {},
   "outputs": [
    {
     "name": "stdout",
     "output_type": "stream",
     "text": [
      "False\n",
      "False\n",
      "False\n"
     ]
    }
   ],
   "source": [
    "print(\"\" == None)\n",
    "print(False == None)\n",
    "print([] == None)\n"
   ]
  },
  {
   "cell_type": "markdown",
   "metadata": {},
   "source": [
    "Di solito il valore none, proprio per questa sua caratteristica di non convertirsi in altri tipi, viene usato come valore di default per le variabili.\n"
   ]
  },
  {
   "cell_type": "markdown",
   "metadata": {},
   "source": [
    "# Stringhe\n",
    "Finalmente, siamo arrivati al tipo di dato che ci interessa di più, visto tutto il debugging\n",
    "che farete. \n",
    "\n",
    "Le stringhe sono sequenze di caratteri, e si possono definire in diversi modi come abbiamo visto.\n",
    "\n",
    "Come abbiamo visto all'inizio della lezione le stringhe possono essere dichiarate usando le virgolette singole `''`, doppie `\"\"` o triple `\"\"\"\"\"\"\"` (o `''''''`).\n",
    "\n",
    "Attenzione, se uso le virgolette singole poi posso usare quelle doppie all'interno della stringa e viceversa.\n"
   ]
  },
  {
   "cell_type": "code",
   "execution_count": 44,
   "metadata": {},
   "outputs": [
    {
     "data": {
      "text/plain": [
       "str"
      ]
     },
     "execution_count": 44,
     "metadata": {},
     "output_type": "execute_result"
    }
   ],
   "source": [
    "s = \"Ciao a tutti!\"\n",
    "type(s)\n"
   ]
  },
  {
   "cell_type": "markdown",
   "metadata": {},
   "source": [
    "Le stringhe possono essere trattate esattamente come delle tuple di caratteri, quindi\n",
    "posso usare gli indici e lo slicing per accedere ai caratteri.\n"
   ]
  },
  {
   "cell_type": "code",
   "execution_count": 45,
   "metadata": {},
   "outputs": [
    {
     "name": "stdout",
     "output_type": "stream",
     "text": [
      "C\n",
      "Ciao\n",
      "!ittut a oaiC\n"
     ]
    }
   ],
   "source": [
    "print(s[0])\n",
    "print(s[0:4])\n",
    "print(s[::-1])\n",
    "# non posso modificare una stringa\n",
    "#s[0] = \"c\"\n"
   ]
  },
  {
   "cell_type": "markdown",
   "metadata": {},
   "source": [
    "Possiamo anche usare l'operatore `in` per verificare se un carattere, o una sottosequenza, è presente nella stringa e la funzione `len` per verificare la lunghezza della stringa.\n"
   ]
  },
  {
   "cell_type": "code",
   "execution_count": 46,
   "metadata": {},
   "outputs": [
    {
     "name": "stdout",
     "output_type": "stream",
     "text": [
      "13\n",
      "True\n",
      "True\n"
     ]
    }
   ],
   "source": [
    "print(len(s))\n",
    "print('C' in s)\n",
    "print(\"Ciao\" in s)\n"
   ]
  },
  {
   "cell_type": "markdown",
   "metadata": {},
   "source": [
    "Inoltre si possono usare alcuni degli operatori per modificare le stringhe, come `+`, `*` e `==`  o combinazioni di questi.\n"
   ]
  },
  {
   "cell_type": "code",
   "execution_count": 47,
   "metadata": {},
   "outputs": [
    {
     "name": "stdout",
     "output_type": "stream",
     "text": [
      "Ciao a tutti!Come va?\n",
      "Dai Dai Dai !\n"
     ]
    }
   ],
   "source": [
    "s += \"Come va?\"\n",
    "print(s)\n",
    "\n",
    "t = \"Dai \" * 3 + \"!\"\n",
    "print(t)\n"
   ]
  },
  {
   "cell_type": "markdown",
   "metadata": {},
   "source": [
    "## Metodi per le stringhe\n",
    "\n",
    "I metodi, sono le funzioni che possiamo usare per manipolare le stringhe.\n",
    "\n",
    "Per essere precisi, le stringhe, come tutti gli altri tipi di dati, sono degli oggetti e i metodi sono delle funzioni interne a questi oggetti che ci permettono di manipolarli.\n"
   ]
  },
  {
   "cell_type": "code",
   "execution_count": 48,
   "metadata": {},
   "outputs": [
    {
     "name": "stdout",
     "output_type": "stream",
     "text": [
      "['__add__', '__class__', '__contains__', '__delattr__', '__dir__', '__doc__', '__eq__', '__format__', '__ge__', '__getattribute__', '__getitem__', '__getnewargs__', '__getstate__', '__gt__', '__hash__', '__init__', '__init_subclass__', '__iter__', '__le__', '__len__', '__lt__', '__mod__', '__mul__', '__ne__', '__new__', '__reduce__', '__reduce_ex__', '__repr__', '__rmod__', '__rmul__', '__setattr__', '__sizeof__', '__str__', '__subclasshook__', 'capitalize', 'casefold', 'center', 'count', 'encode', 'endswith', 'expandtabs', 'find', 'format', 'format_map', 'index', 'isalnum', 'isalpha', 'isascii', 'isdecimal', 'isdigit', 'isidentifier', 'islower', 'isnumeric', 'isprintable', 'isspace', 'istitle', 'isupper', 'join', 'ljust', 'lower', 'lstrip', 'maketrans', 'partition', 'removeprefix', 'removesuffix', 'replace', 'rfind', 'rindex', 'rjust', 'rpartition', 'rsplit', 'rstrip', 'split', 'splitlines', 'startswith', 'strip', 'swapcase', 'title', 'translate', 'upper', 'zfill']\n"
     ]
    }
   ],
   "source": [
    "# elenco di metodi per stringhe\n",
    "print(dir(s))\n"
   ]
  },
  {
   "cell_type": "markdown",
   "metadata": {},
   "source": [
    "Notiamo che come visto sopra esistono alcuni metodi speciali come `add` e `hash` che conferiscono alle stringhe le loro proprietà particolari. Nello specifico `add` permette di concatenare due stringhe e `hash` permette di calcolare l'hash di una stringa (per usarla come chiave di un dizionario, per esempio).\n"
   ]
  },
  {
   "cell_type": "code",
   "execution_count": 49,
   "metadata": {},
   "outputs": [
    {
     "name": "stdout",
     "output_type": "stream",
     "text": [
      "CIAO A TUTTI!COME VA?\n",
      "Ciao a tutti!Come va?\n",
      "ciao a tutti!come va?\n",
      "Ciao A Tutti!Come Va?\n"
     ]
    }
   ],
   "source": [
    "# maiuscolo\n",
    "print(s.upper())\n",
    "# la stringa è tutta maiuscola?\n",
    "print(s)\n",
    "# minuscolo\n",
    "print(s.lower())\n",
    "# titolo (prima lettera di ogni parola maiuscola)\n",
    "print(s.title())\n"
   ]
  },
  {
   "cell_type": "code",
   "execution_count": 50,
   "metadata": {},
   "outputs": [
    {
     "name": "stdout",
     "output_type": "stream",
     "text": [
      "True\n",
      "True\n",
      "True\n"
     ]
    }
   ],
   "source": [
    "print(s.startswith('Ciao'))\n",
    "print(s.endswith('?'))\n",
    "print(s.lower().startswith('ciao'))\n"
   ]
  },
  {
   "cell_type": "markdown",
   "metadata": {},
   "source": [
    "Spesso ci serve eliminare gli spazi bianchi all'inizio e alla fine di una stringa. Per farlo possiamo usare i metodi `strip`, `lstrip` e `rstrip`.\n"
   ]
  },
  {
   "cell_type": "code",
   "execution_count": 51,
   "metadata": {},
   "outputs": [
    {
     "name": "stdout",
     "output_type": "stream",
     "text": [
      "   Ciao a tutti!   \n",
      "Ciao a tutti!\n",
      "Ciao a tutti!   \n",
      "   Ciao a tutti!\n"
     ]
    }
   ],
   "source": [
    "s = \"   Ciao a tutti!   \"\n",
    "print(s)\n",
    "print(s.strip())\n",
    "print(s.lstrip())\n",
    "print(s.rstrip())\n"
   ]
  },
  {
   "cell_type": "markdown",
   "metadata": {},
   "source": [
    "Il metodo `replace` permette di sostituire una sottostringa con un'altra.\n"
   ]
  },
  {
   "cell_type": "code",
   "execution_count": 52,
   "metadata": {},
   "outputs": [
    {
     "name": "stdout",
     "output_type": "stream",
     "text": [
      "Hello a tutti!\n"
     ]
    }
   ],
   "source": [
    "s = \"Ciao a tutti!\"\n",
    "s = s.replace(\"Ciao\", \"Hello\")\n",
    "print(s)\n"
   ]
  },
  {
   "cell_type": "markdown",
   "metadata": {},
   "source": [
    "Posso anche usare il metodo `split` per dividere una stringa in una lista di stringhe, usando come separatore un carattere o una sottosequenza di caratteri.\n"
   ]
  },
  {
   "cell_type": "code",
   "execution_count": 53,
   "metadata": {},
   "outputs": [
    {
     "name": "stdout",
     "output_type": "stream",
     "text": [
      "['Ci', 'o ', ' tutti!']\n"
     ]
    }
   ],
   "source": [
    "s = \"Ciao a tutti!\"\n",
    "s = s.split(\"a\") # default \" \"\n",
    "print(s)\n"
   ]
  },
  {
   "cell_type": "markdown",
   "metadata": {},
   "source": [
    "In generale usare l'operatore `+` per concatenare stringhe è sconsigliato, perché è molto lento. Invece si consiglia di usare il metodo `join` che è molto più veloce e accetta in ingresso una lista di stringhe (o un qualsiasi iterabile di stringhe).\n"
   ]
  },
  {
   "cell_type": "code",
   "execution_count": 54,
   "metadata": {},
   "outputs": [
    {
     "name": "stdout",
     "output_type": "stream",
     "text": [
      "Ciao a tutti!\n",
      "C i a o   a   t u t t i !\n"
     ]
    }
   ],
   "source": [
    "s = \"a\".join(s)\n",
    "print(s)\n",
    "# una stringa è immutabile ma anche iterabile\n",
    "print(' '.join(s))\n"
   ]
  },
  {
   "cell_type": "markdown",
   "metadata": {},
   "source": [
    "## Formattazione delle stringhe\n",
    "La formattazione delle stringhe è un argomento molto importante, perché è un'operazione che facciamo spesso e che può essere fatta in molti modi diversi.\n",
    "\n",
    "Inoltre è fondamentale per la sicurezza del codice, perché se non viene fatta correttamente, può portare a vulnerabilità di sicurezza.\n",
    "Per esempio se prendo un input da un utente e lo concateno ad una stringa, posso creare un'apertura per un attacco di tipo SQL injection.\n",
    "\n",
    "Infine la usiamo spesso per stampare a schermo dei messaggi di errore o di log o per controllare che il codice stia funzionando correttamente.\n"
   ]
  },
  {
   "cell_type": "code",
   "execution_count": 55,
   "metadata": {},
   "outputs": [
    {
     "name": "stdout",
     "output_type": "stream",
     "text": [
      "La lista è: [1, 2, 3]\n",
      "La lista è: [1, 2, 3]\n",
      "La lista è: [1, 2, 3]\n",
      "La lista è: [1, 2, 3]\n"
     ]
    }
   ],
   "source": [
    "l = [1, 2, 3]\n",
    "# usando la concatenazione\n",
    "s = 'La lista è: ' + str(l)\n",
    "print(s)\n",
    "# formattazione con % (vecchio)\n",
    "s = 'La lista è: %s' % l\n",
    "print(s)\n",
    "# formattazione con .format (nuovo)\n",
    "s = 'La lista è: {}'.format(l)\n",
    "print(s)\n",
    "# formattazione con f-string (nuovissimo)\n",
    "s = f'La lista è: {l}'\n",
    "print(s)\n"
   ]
  },
  {
   "cell_type": "markdown",
   "metadata": {},
   "source": [
    "Il primo metodo (la concatenazione diretta) è sconsigliato perché è molto lento e poco sicuro.\n",
    "\n",
    "Il secondo metodo, cioè la formattazione vecchia usando l'operatore `%` è ancora molto usato, e offre varie opzioni di formattazione con una sintassi simile a quella di C.\n",
    "\n",
    "Il terzo metodo, cioè la formattazione nuova usando il metodo `format` è più veloce e guadagna di leggibilità e in generale ha più flessibilità nel formattare anche oggetti diversi dalle stringhe come liste, dizionari, tuple, ecc.\n",
    "\n",
    "Il quarto metodo ci permette di formattare le stringhe usando le f-string, che sono molto più veloci e leggibili delle altre sintassi.\n",
    "Inoltre, oltre a permetterci di formattare le variabili come negli altri metodi, ci permettono di inserire direttamente delle espressioni all'interno della stringa.\n"
   ]
  },
  {
   "cell_type": "code",
   "execution_count": 56,
   "metadata": {},
   "outputs": [
    {
     "name": "stdout",
     "output_type": "stream",
     "text": [
      "2 + 3 = 5\n",
      "Il numero 2 è pari\n",
      "I numeri da 0 a 9 sono [0, 1, 2, 3, 4, 5, 6, 7, 8, 9]\n"
     ]
    }
   ],
   "source": [
    "# f-string\n",
    "x = 2\n",
    "y = 3\n",
    "s = f'{x} + {y} = {x+y}'\n",
    "print(s)\n",
    "\n",
    "# if else embedded\n",
    "print(f'Il numero {x} è {\"pari\" if x%2==0 else \"dispari\"}')\n",
    "# list comprehension embedded\n",
    "print(f'I numeri da 0 a 9 sono {[i for i in range(10)]}')\n"
   ]
  },
  {
   "cell_type": "markdown",
   "metadata": {},
   "source": [
    "Vediamo alcuni dei comandi per formattare numeri e stringhe.\n"
   ]
  },
  {
   "cell_type": "code",
   "execution_count": 57,
   "metadata": {},
   "outputs": [
    {
     "name": "stdout",
     "output_type": "stream",
     "text": [
      "x=2\n",
      "x=         2\n",
      "y= 123456789\n",
      "====2=====\n",
      "123456789=\n",
      "x=3.142\n"
     ]
    }
   ],
   "source": [
    "# mostrare il nome della variabile (debugging mode)\n",
    "print(f'{x=}')\n",
    "# aggiungere spazi\n",
    "y = 123456789\n",
    "print(f\"\"\"{x=: 10}\n",
    "{y=: 10}\"\"\")\n",
    "# aggiungere caratteri di riempimento\n",
    "print(f\"\"\"{x:=^10}\n",
    "{y:=^10}\"\"\")\n",
    "# arrontondamento\n",
    "x = 3.141592653589793\n",
    "print(f'{x=:.3f}')\n"
   ]
  },
  {
   "cell_type": "markdown",
   "metadata": {},
   "source": [
    "Per una guida completa alla formattazione delle stringhe, potete consultare [questo link](https://cheatography.com/brianallan/cheat-sheets/python-f-strings-basics/). \n"
   ]
  },
  {
   "cell_type": "markdown",
   "metadata": {},
   "source": [
    "# Proviamo a fare qualcosa di utile (ma anche divertente)\n",
    "# Calcolare il fattoriale di un numero\n",
    "Il fattoriale di un numero è il prodotto di tutti i numeri interi positivi minori o uguali a quel numero.\n",
    "Per esempio il fattoriale di 5 è 5! = 5 * 4 * 3 * 2 * 1 = 120.\n"
   ]
  },
  {
   "cell_type": "code",
   "execution_count": 58,
   "metadata": {},
   "outputs": [
    {
     "name": "stdout",
     "output_type": "stream",
     "text": [
      "Numero Quadrato Cubo Fattoriale\n",
      "     1       1    1          1\n",
      "     2       4    8          2\n",
      "     3       9   27          6\n",
      "     4      16   64         24\n",
      "     5      25  125        120\n",
      "     6      36  216        720\n",
      "     7      49  343       5040\n",
      "     8      64  512      40320\n",
      "     9      81  729     362880\n",
      "    10     100 1000    3628800\n"
     ]
    }
   ],
   "source": [
    "N = 10\n",
    "print('Numero Quadrato Cubo Fattoriale')\n",
    "fattoriale = 1\n",
    "for i in range(1, N+1):\n",
    "    fattoriale *= i\n",
    "    print(f'{i:6} {i**2:7} {i**3:4} {fattoriale:10}')\n"
   ]
  },
  {
   "cell_type": "markdown",
   "metadata": {},
   "source": [
    "## Codice Morse\n",
    "L'alfabeto del codice morse è composto da una serie di punti e linee, che rappresentano le lettere dell'alfabeto.\n",
    "In particolare, l'alfabeto è così composto:\n"
   ]
  },
  {
   "cell_type": "markdown",
   "metadata": {},
   "source": [
    "![morse](assets/morse.jpg)\n"
   ]
  },
  {
   "cell_type": "markdown",
   "metadata": {},
   "source": [
    "Possiamo trasformare una stringa in codice morse usando un dizionario che associa ad ogni lettera la sua rappresentazione in codice morse.\n",
    "Per creare la stringa in codice morse, iteriamo sulla stringa e per ogni carattere prendiamo il suo valore nel dizionario.\n",
    "Attenzione, dobbiamo prima convertire il carattere in maiuscolo, perché il dizionario contiene solo le lettere maiuscole.\n",
    "Inoltre, dobbiamo usare la funzione `get` per evitare che il programma restituisca un errore se la lettera non è presente nel dizionario, in particolare come caso base usiamo `\"\"`.\n"
   ]
  },
  {
   "cell_type": "code",
   "execution_count": 59,
   "metadata": {},
   "outputs": [
    {
     "name": "stdout",
     "output_type": "stream",
     "text": [
      "-.-....-----.-.-----..-----....-...--.-.-.......-...-.-...\n"
     ]
    }
   ],
   "source": [
    "# alfabeto morse\n",
    "morse_code = {\n",
    "    'A': '.-', 'B': '-...', 'C': '-.-.', 'D': '-..', 'E': '.',\n",
    "    'F': '..-.', 'G': '--.', 'H': '....', 'I': '..', 'J': '.---',\n",
    "    'K': '-.-', 'L': '.-..', 'M': '--', 'N': '-.', 'O': '---',\n",
    "    'X' : '-..-', 'Y' : '-.--', 'Z' : '--..'\n",
    "}\n",
    "\n",
    "# prendiamo una stringa\n",
    "s = 'Ciao come va? Tutto bene? Anche a te e parenti!'\n",
    "\n",
    "# creo la stringa in morse\n",
    "s = [morse_code.get(c, \"\") for c in s.upper()]\n",
    "\n",
    "# unisco la lista in una stringa (in morse non ci sono spazi)\n",
    "s = ''.join(s)\n",
    "\n",
    "print(s)\n"
   ]
  },
  {
   "cell_type": "markdown",
   "metadata": {},
   "source": [
    "Usando questo stesso principio (e un po' di sintassi in più) possiamo anche creare un programma che oltre a tradurre qualsiasi testo in codice morse ne generi anche il suono.\n",
    "\n",
    "Per esempio come questo sito qui: [MorsePy](https://www.tetralark.com/MorsePy/)\n",
    "\n",
    "Che guarda un po' è stato scritto in Python! Link al [codice](https://github.com/Elucidation/MorsePy/blob/master/morse.py).\n"
   ]
  }
 ],
 "metadata": {
  "kernelspec": {
   "display_name": "Python 3 (ipykernel)",
   "language": "python",
   "name": "python3"
  },
  "language_info": {
   "codemirror_mode": {
    "name": "ipython",
    "version": 3
   },
   "file_extension": ".py",
   "mimetype": "text/x-python",
   "name": "python",
   "nbconvert_exporter": "python",
   "pygments_lexer": "ipython3",
   "version": "3.11.3"
  }
 },
 "nbformat": 4,
 "nbformat_minor": 4
}
