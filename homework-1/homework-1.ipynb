{
 "cells": [
  {
   "cell_type": "markdown",
   "metadata": {},
   "source": [
    "# Esercizi lezione 1\n",
    "In python si possono facilmente scrivere delle serie numeriche tramite l'uso di for loop o\n",
    "anche direttamente delle loop comprehensions.\n",
    "\n",
    "## Esercizio 1: Successione di Fibonacci\n",
    "Stampa i primi n numeri della succesione di Fibonacci usando i comandi visti a lezione.\n",
    "\n",
    "La sequenza di Fibonacci si costruisce partendo da $f(0) = 1$ e $f(1)=1$ e poi sommando via nel\n",
    "seguente modo:\n",
    "$$ f(n) = f(n-1) + f(n-2) $$\n",
    "\n",
    "Per ulteriori informazioni consulata la pagina Wikipedia sulla [Successione di Fibonacci](https://it.wikipedia.org/wiki/Successione_di_Fibonacci).\n",
    "\n",
    "Ci aspettiamo dunque che l'output sia questo:\n",
    "```text\n",
    "1\n",
    "1\n",
    "2\n",
    "3\n",
    "5\n",
    "8\n",
    "13\n",
    "21\n",
    "34\n",
    "55\n",
    "```\n",
    "\n",
    "\n",
    "**Hint**: provate ad usare lo scambio di variabili\n",
    "\n",
    "**Domanda Bonus**: posso scrivere la successione di Fibonacci usando una list comprehension?"
   ]
  },
  {
   "cell_type": "code",
   "execution_count": null,
   "metadata": {},
   "outputs": [],
   "source": [
    "n = 10\n",
    "# Inserisci qui sotto il tuo codice"
   ]
  },
  {
   "cell_type": "markdown",
   "metadata": {},
   "source": [
    "## Esercizio 2: Triangolo di Tartaglia\n",
    "Stampare le prime n righe del triangolo di Tartaglia.\n",
    "\n",
    "Il triangolo di tartaglia si costruisce partendo da una riga con un solo elemento, il numero 1.\n",
    "Ogni riga successiva si costruisce aggiungendo un 1 all'inizio e alla fine della riga precedente\n",
    "e poi sommando gli elementi a due a due.\n",
    "\n",
    "Per ulteriori informazioni visita la pagina di [Wikipedia](https://it.wikipedia.org/wiki/Triangolo_di_Tartaglia).\n",
    "\n",
    "**Hint**: prova a usare una *lista di liste*, il cui primo elemento sia `[1]` e poi aggiungi le\n",
    "righe successive come liste. In questo modo:\n",
    "```python\n",
    "res = [[1]]\n",
    "```\n",
    "\n",
    "**Bonus**: usare le *f-strings* e le loro regole di formattazione per creare un output del genere:\n",
    "```text\n",
    "                 1                 \n",
    "                1 1                \n",
    "               1 2 1               \n",
    "              1 3 3 1              \n",
    "             1 4 6 4 1             \n",
    "           1 5 10 10 5 1           \n",
    "         1 6 15 20 15 6 1          \n",
    "        1 7 21 35 35 21 7 1        \n",
    "      1 8 28 56 70 56 28 8 1       \n",
    "    1 9 36 84 126 126 84 36 9 1    \n",
    "1 10 45 120 210 252 210 120 45 10 1\n",
    "```\n",
    "\n",
    "**Hint per il bonus**: prova a calcolare quale sarà la lunghezza della riga finale e usa quella come\n",
    "parametro di formattazione.\n",
    "Per usare una variabile come parametro di formattazione basta usare le parentesi graffe doppie:\n",
    "```python\n",
    "n = 3 # numero di cifre decimali da usare\n",
    "p = 3.144957956497503\n",
    "print(f\"{p:.{n}f}\")\n",
    "```\n",
    "che darà in output:\n",
    "```text\n",
    "3.145\n",
    "```"
   ]
  },
  {
   "cell_type": "code",
   "execution_count": null,
   "metadata": {},
   "outputs": [],
   "source": [
    "n = 10\n",
    "rows = [[1]]\n",
    "\n",
    "# Inserisci qui sotto il tuo codice"
   ]
  },
  {
   "cell_type": "markdown",
   "metadata": {},
   "source": [
    "# Esercizio 3: analisi dati di Serie temporali\n",
    "Ci viene dato, sotto forma di lista di liste, un piccolo dataset con i prezzi di 4 azioni\n",
    "finanziarie.\n",
    "\n",
    "(La cella seguente deve essere eseguita per caricare i dati)"
   ]
  },
  {
   "cell_type": "code",
   "execution_count": 22,
   "metadata": {},
   "outputs": [],
   "source": [
    "stock_names = [\"Enel\", \"ENI\", \"Ferrari\", \"Intesa San Paolo\"]\n",
    "stock_values = [\n",
    "    [7.558, 7.809, 163.05, 1.8012],\n",
    "    [7.518, 7.774, 162.85, 1.804],\n",
    "    [7.61, 7.666, 165.4, 1.7892],\n",
    "    [7.55, 7.696, 161.85, 1.7758],\n",
    "    [7.392, 7.623, 160.7, 1.7706],\n",
    "    [7.555, 7.75, 162.6, 1.7938],\n",
    "    [7.495, 7.542, 161.25, 1.7604],\n",
    "    [7.663, 7.654, 160.8, 1.7934],\n",
    "    [7.612, 7.609, 160.05, 1.8004],\n",
    "    [7.671, 7.597, 162.1, 1.776],\n",
    "    [7.59, 7.475, 161.65, 1.7768],\n",
    "    [7.627, 7.607, 162.35, 1.7706],\n",
    "    [7.575, 7.674, 160.7, 1.7546],\n",
    "    [7.401, 7.633, 160.55, 1.7404],\n",
    "    [7.42, 7.413, 159.9, 1.72],\n",
    "    [7.25, 6.97, 154.8, 1.632],\n",
    "    [7.362, 7.083, 156.35, 1.6424],\n",
    "    [7.431, 6.969, 156.45, 1.6132],\n",
    "    [7.363, 6.82, 157.05, 1.608],\n",
    "    [7.32, 6.677, 154.9, 1.5806],\n",
    "    [7.465, 6.855, 157.2, 1.6242],\n",
    "    [7.488, 6.687, 156.25, 1.6124],\n",
    "    [7.431, 6.685, 157.05, 1.6054],\n",
    "    [7.442, 6.484, 157, 1.5854],\n",
    "    [7.459, 6.472, 155, 1.5858]\n",
    "]"
   ]
  },
  {
   "cell_type": "markdown",
   "metadata": {},
   "source": [
    "### Punto a: Serie di singole azioni\n",
    "Creare un dizionario, le cui chiavi siano i nomi delle azioni in `stock_names` e i cui valori siano\n",
    "le serie dei prezzi corrispondenti delle azioni in `stock_values`. (I valori dell'i-esima azione\n",
    "sono l'i-esimo valore di ogni sottolista).\n",
    "\n",
    "Il risultato finale deve essere simile a questo:\n",
    "```python\n",
    "stocks = {\n",
    "    'Enel': [7.558, 7.518, 7.61, 7.55, 7.392, 7.555, 7.495, 7.663, 7.612, 7.671, 7.59, 7.627, 7.575,\n",
    "        7.401, 7.42, 7.25, 7.362, 7.431, 7.363, 7.32, 7.465, 7.488, 7.431, 7.442, 7.459],\n",
    "    'ENI': [7.809, 7.774, 7.666, 7.696, 7.623, 7.75, 7.542, 7.654, 7.609, 7.597, 7.475, 7.607,\n",
    "        7.674, 7.633, 7.413, 6.97, 7.083, 6.969, 6.82, 6.677, 6.855, 6.687, 6.685, 6.484, 6.472],\n",
    "    'Ferrari': [163.05, 162.85, 165.4, 161.85, 160.7, 162.6, 161.25, 160.8, 160.05, 162.1, 161.65,\n",
    "        162.35, 160.7, 160.55, 159.9, 154.8, 156.35, 156.45, 157.05, 154.9, 157.2, 156.25, 157.05,\n",
    "        157, 155],\n",
    "    'Intesa San Paolo': [1.8012, 1.804, 1.7892, 1.7758, 1.7706, 1.7938, 1.7604, 1.7934, 1.8004,\n",
    "        1.776, 1.7768, 1.7706, 1.7546, 1.7404, 1.72, 1.632, 1.6424, 1.6132, 1.608, 1.5806, 1.6242,\n",
    "        1.6124, 1.6054, 1.5854, 1.5858]\n",
    "}\n",
    "```\n",
    "**Bonus**: svolgere questa trasformazione in una riga sola combinando dict e list comprehension."
   ]
  },
  {
   "cell_type": "code",
   "execution_count": null,
   "metadata": {},
   "outputs": [],
   "source": [
    "# Inserisci qui sotto il tuo codice"
   ]
  },
  {
   "cell_type": "markdown",
   "metadata": {},
   "source": [
    "### Punto b: media e varianza\n",
    "Per ogni azione, calcolare la media e la varianza dei prezzi.\n",
    "La media si può calcolare sommando tutti i prezzi e dividendo per il numero di prezzi:\n",
    "$$ \\mu = \\frac{1}{N} \\sum_{i=1}^N x_i $$\n",
    "La varianza invece si può calcolare sommando i quadrati delle differenze tra ogni prezzo e la media e dividendo per il numero di prezzi:\n",
    "$$ \\sigma^2 = \\frac{1}{N-1} \\sum_{i=1}^N (x_i - \\mu)^2 $$\n",
    "\n",
    "**Hint**: per accedere ai valori delle azioni puoi sia iterare sulle chiavi del dizionario usando `stocks.keys()` che iterare direttamente sui valori usando `stocks.values()`. Infine puoi anche iterare su entrambi allo stesso tempo usando `stocks.items()`.\n",
    "\n",
    "**Bonus**: crea due dizionari: uno con tutte le medie e uno con tutte le varianze. Le chiavi di entrambi i dizionari devono essere i nomi delle azioni.\n",
    "\n",
    "Il risultato finale dovrebbe essere simile a questo:\n",
    "```python\n",
    "stock_means = {\n",
    "    'Enel': 7.489920000000001,\n",
    "    'ENI': 7.288959999999999,\n",
    "    'Ferrari': 159.514,\n",
    "    'Intesa San Paolo': 1.7086640000000002\n",
    "}\n",
    "stock_variances = {\n",
    "    'Enel': 0.011740793599999995, \n",
    "    'ENI': 0.2008730784,\n",
    "    'Ferrari': 8.771903999999994,\n",
    "    'Intesa San Paolo': 0.007101176703999999\n",
    "}\n",
    "```"
   ]
  },
  {
   "cell_type": "code",
   "execution_count": null,
   "metadata": {},
   "outputs": [],
   "source": [
    "# Inserisci qui sotto il tuo codice"
   ]
  }
 ],
 "metadata": {
  "kernelspec": {
   "display_name": "Python 3",
   "language": "python",
   "name": "python3"
  },
  "language_info": {
   "codemirror_mode": {
    "name": "ipython",
    "version": 3
   },
   "file_extension": ".py",
   "mimetype": "text/x-python",
   "name": "python",
   "nbconvert_exporter": "python",
   "pygments_lexer": "ipython3",
   "version": "3.11.3"
  }
 },
 "nbformat": 4,
 "nbformat_minor": 2
}
